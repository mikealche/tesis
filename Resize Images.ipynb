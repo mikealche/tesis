{
 "cells": [
  {
   "cell_type": "markdown",
   "metadata": {},
   "source": [
    "# Train images"
   ]
  },
  {
   "cell_type": "code",
   "execution_count": 1,
   "metadata": {},
   "outputs": [],
   "source": [
    "%reload_ext autoreload\n",
    "%autoreload 2\n",
    "%matplotlib inline\n",
    "\n",
    "from exp.nb_Tesis import *\n",
    "from PIL import ImageOps"
   ]
  },
  {
   "cell_type": "code",
   "execution_count": 2,
   "metadata": {},
   "outputs": [],
   "source": [
    "\n",
    "from torchvision.utils import save_image\n"
   ]
  },
  {
   "cell_type": "code",
   "execution_count": 29,
   "metadata": {},
   "outputs": [],
   "source": [
    "path_train_imgs_2017 = Path('2017/data/ISIC-2017_Training_Data/')\n",
    "path_valid_imgs_2017 = Path('2017/data/ISIC-2017_Validation_Data/')"
   ]
  },
  {
   "cell_type": "code",
   "execution_count": 30,
   "metadata": {},
   "outputs": [],
   "source": [
    "list_of_train_imgs_paths = get_image_files(path_train_imgs_2017)\n",
    "list_of_valid_imgs_paths = get_image_files(path_valid_imgs_2017)"
   ]
  },
  {
   "cell_type": "code",
   "execution_count": 49,
   "metadata": {},
   "outputs": [],
   "source": [
    "import warnings\n",
    "warnings.filterwarnings(\"ignore\", category=UserWarning, module=\"torch.nn.functional\")"
   ]
  },
  {
   "cell_type": "markdown",
   "metadata": {},
   "source": [
    "# Train 2019"
   ]
  },
  {
   "cell_type": "code",
   "execution_count": 3,
   "metadata": {},
   "outputs": [],
   "source": [
    "min_dim = 352\n",
    "path_train_2019 = Path('./ISIC_2019_Training_Input')\n",
    "path_train_2019_small = path_train_2019.parent / f'small_{min_dim}_ISIC_2019_Training_Input'\n",
    "\n",
    "path_test_2018 = Path('./ISIC2018_Task3_Test_Input')\n",
    "path_test_2018_small = path_test_2018.parent / f'small_{min_dim}_ISIC2018_Task3_Test_Input'\n",
    "\n",
    "crop = True"
   ]
  },
  {
   "cell_type": "code",
   "execution_count": 4,
   "metadata": {},
   "outputs": [
    {
     "name": "stdout",
     "output_type": "stream",
     "text": [
      "25332\r\n"
     ]
    }
   ],
   "source": [
    "!ls small_64_ISIC_2019_Training_Input/ | wc -l"
   ]
  },
  {
   "cell_type": "code",
   "execution_count": 12,
   "metadata": {},
   "outputs": [
    {
     "name": "stdout",
     "output_type": "stream",
     "text": [
      "./ISIC2018_Task3_Test_Input/ISIC_0034526.jpg: JPEG image data, baseline, precision 8, 600x450, frames 3\r\n"
     ]
    }
   ],
   "source": [
    "!file ./$path_test_2018/ISIC_0034526.jpg"
   ]
  },
  {
   "cell_type": "code",
   "execution_count": 5,
   "metadata": {},
   "outputs": [],
   "source": [
    "from fastai.vision import *\n",
    "\n",
    "# path_hr = path_train_2019\n",
    "# path_mr = path_train_2019_small\n",
    "\n",
    "path_hr = path_test_2018\n",
    "path_mr = path_test_2018_small\n",
    "\n",
    "il = ImageList.from_folder(path_hr)\n",
    "\n",
    "def resize_one(fn, i, path, size):\n",
    "    dest = path/fn.relative_to(path_hr)\n",
    "    dest.parent.mkdir(parents=True, exist_ok=True)\n",
    "    img = PIL.Image.open(fn)\n",
    "    targ_sz = resize_to(img, size, use_min=True)\n",
    "    img = img.resize(targ_sz, resample=PIL.Image.BILINEAR).convert('RGB')\n",
    "    img.save(dest, quality=100)\n",
    "    if crop:\n",
    "        img = open_image(dest)\n",
    "        crop(img,min_dim)\n",
    "        img.save(dest)\n",
    "\n",
    "# create smaller image sets the first time this nb is run\n",
    "sets = [(path_mr, min_dim)]\n",
    "for p,size in sets:\n",
    "    if not p.exists(): \n",
    "        print(f\"resizing to {size} into {p}\")\n",
    "        parallel(partial(resize_one, path=p, size=size), il.items)"
   ]
  },
  {
   "cell_type": "markdown",
   "metadata": {},
   "source": [
    "# Test 2017"
   ]
  },
  {
   "cell_type": "code",
   "execution_count": 5,
   "metadata": {},
   "outputs": [],
   "source": [
    "path_train_2019 = Path('/data2/mike/ISIC-2017_Test_v2_Data/')\n",
    "\n",
    "from fastai.vision import *\n",
    "\n",
    "path_hr = path_train_2019\n",
    "path_mr = path_train_2019/'small-224'\n",
    "\n",
    "il = ImageList.from_folder(path_hr)\n",
    "\n",
    "def resize_one(fn, i, path, size):\n",
    "    dest = path/fn.relative_to(path_hr)\n",
    "    dest.parent.mkdir(parents=True, exist_ok=True)\n",
    "    img = PIL.Image.open(fn)\n",
    "    targ_sz = resize_to(img, size, use_min=True)\n",
    "    img = img.resize(targ_sz, resample=PIL.Image.BILINEAR).convert('RGB')\n",
    "    img.save(dest, quality=100)\n",
    "\n",
    "# create smaller image sets the first time this nb is run\n",
    "sets = [(path_mr, 224)]\n",
    "for p,size in sets:\n",
    "    if not p.exists(): \n",
    "        print(f\"resizing to {size} into {p}\")\n",
    "        parallel(partial(resize_one, path=p, size=size), il.items)"
   ]
  },
  {
   "cell_type": "code",
   "execution_count": null,
   "metadata": {},
   "outputs": [],
   "source": []
  }
 ],
 "metadata": {
  "kernelspec": {
   "display_name": "Python 3",
   "language": "python",
   "name": "python3"
  },
  "language_info": {
   "codemirror_mode": {
    "name": "ipython",
    "version": 3
   },
   "file_extension": ".py",
   "mimetype": "text/x-python",
   "name": "python",
   "nbconvert_exporter": "python",
   "pygments_lexer": "ipython3",
   "version": "3.7.4"
  }
 },
 "nbformat": 4,
 "nbformat_minor": 2
}
