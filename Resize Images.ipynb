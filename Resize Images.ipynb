{
 "cells": [
  {
   "cell_type": "markdown",
   "metadata": {},
   "source": [
    "# Train images"
   ]
  },
  {
   "cell_type": "code",
   "execution_count": 1,
   "metadata": {},
   "outputs": [],
   "source": [
    "%reload_ext autoreload\n",
    "%autoreload 2\n",
    "%matplotlib inline\n",
    "\n",
    "from exp.nb_Tesis import *\n",
    "from PIL import ImageOps"
   ]
  },
  {
   "cell_type": "code",
   "execution_count": 2,
   "metadata": {},
   "outputs": [],
   "source": [
    "\n",
    "from torchvision.utils import save_image\n"
   ]
  },
  {
   "cell_type": "code",
   "execution_count": 3,
   "metadata": {},
   "outputs": [],
   "source": [
    "import warnings\n",
    "warnings.filterwarnings(\"ignore\", category=UserWarning, module=\"torch.nn.functional\")"
   ]
  },
  {
   "cell_type": "markdown",
   "metadata": {},
   "source": [
    "# Train 2019"
   ]
  },
  {
   "cell_type": "code",
   "execution_count": 9,
   "metadata": {},
   "outputs": [],
   "source": [
    "min_dim = 450\n",
    "path_train_2019 = Path('./ISIC_2019_Training_Input')\n",
    "path_train_2019_small = path_train_2019.parent / f'small_{min_dim}_ISIC_2019_Training_Input'\n",
    "\n",
    "\n",
    "# path_train_2018 = Path('./ISIC2018_Task3_Training_Input')\n",
    "# path_train_2018_small = path_train_2018.parent / f'small_{min_dim}_ISIC_2018_Training_Input'\n",
    "\n",
    "\n",
    "# path_test_2018 = Path('./ISIC2018_Task3_Test_Input')\n",
    "# path_test_2018_small = path_test_2018.parent / f'small_{min_dim}_ISIC2018_Task3_Test_Input'\n",
    "\n",
    "crop = False"
   ]
  },
  {
   "cell_type": "code",
   "execution_count": 7,
   "metadata": {},
   "outputs": [
    {
     "name": "stdout",
     "output_type": "stream",
     "text": [
      "10017\r\n"
     ]
    }
   ],
   "source": [
    "!ls ISIC2018_Task3_Training_Input/ | wc -l"
   ]
  },
  {
   "cell_type": "code",
   "execution_count": 10,
   "metadata": {},
   "outputs": [
    {
     "name": "stdout",
     "output_type": "stream",
     "text": [
      "resizing to 450 into small_450_ISIC_2019_Training_Input\n"
     ]
    },
    {
     "data": {
      "text/html": [],
      "text/plain": [
       "<IPython.core.display.HTML object>"
      ]
     },
     "metadata": {},
     "output_type": "display_data"
    }
   ],
   "source": [
    "from fastai.vision import *\n",
    "\n",
    "path_hr = path_train_2019\n",
    "path_mr = path_train_2019_small\n",
    "\n",
    "# path_hr = path_test_2018\n",
    "# path_mr = path_test_2018_small\n",
    "\n",
    "\n",
    "# path_hr = path_train_2018\n",
    "# path_mr = path_train_2018_small\n",
    "\n",
    "\n",
    "\n",
    "\n",
    "\n",
    "il = ImageList.from_folder(path_hr)\n",
    "\n",
    "def resize_one(fn, i, path, size):\n",
    "    dest = path/fn.relative_to(path_hr)\n",
    "    dest.parent.mkdir(parents=True, exist_ok=True)\n",
    "    img = PIL.Image.open(fn)\n",
    "    targ_sz = resize_to(img, size, use_min=True)\n",
    "    img = img.resize(targ_sz, resample=PIL.Image.BICUBIC).convert('RGB')\n",
    "    img.save(dest, quality=100)\n",
    "    if crop:\n",
    "        img = open_image(dest)\n",
    "        crop(img,min_dim)\n",
    "        img.save(dest)\n",
    "\n",
    "# create smaller image sets the first time this nb is run\n",
    "sets = [(path_mr, min_dim)]\n",
    "for p,size in sets:\n",
    "    if not p.exists(): \n",
    "        print(f\"resizing to {size} into {p}\")\n",
    "        parallel(partial(resize_one, path=p, size=size), il.items)"
   ]
  },
  {
   "cell_type": "code",
   "execution_count": null,
   "metadata": {},
   "outputs": [],
   "source": []
  }
 ],
 "metadata": {
  "kernelspec": {
   "display_name": "Python 3",
   "language": "python",
   "name": "python3"
  },
  "language_info": {
   "codemirror_mode": {
    "name": "ipython",
    "version": 3
   },
   "file_extension": ".py",
   "mimetype": "text/x-python",
   "name": "python",
   "nbconvert_exporter": "python",
   "pygments_lexer": "ipython3",
   "version": "3.7.4"
  }
 },
 "nbformat": 4,
 "nbformat_minor": 2
}
