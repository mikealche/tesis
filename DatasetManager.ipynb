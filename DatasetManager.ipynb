{
 "cells": [
  {
   "cell_type": "code",
   "execution_count": 2,
   "metadata": {},
   "outputs": [
    {
     "ename": "ModuleNotFoundError",
     "evalue": "No module named '__main__.nb_Tesis'; '__main__' is not a package",
     "output_type": "error",
     "traceback": [
      "\u001b[0;31m---------------------------------------------------------------------------\u001b[0m",
      "\u001b[0;31mModuleNotFoundError\u001b[0m                       Traceback (most recent call last)",
      "\u001b[0;32m<ipython-input-2-fdfc0a968cf5>\u001b[0m in \u001b[0;36m<module>\u001b[0;34m\u001b[0m\n\u001b[1;32m      1\u001b[0m \u001b[0;31m#export\u001b[0m\u001b[0;34m\u001b[0m\u001b[0;34m\u001b[0m\u001b[0;34m\u001b[0m\u001b[0m\n\u001b[0;32m----> 2\u001b[0;31m \u001b[0;32mfrom\u001b[0m \u001b[0;34m.\u001b[0m\u001b[0mnb_Tesis\u001b[0m \u001b[0;32mimport\u001b[0m \u001b[0;34m*\u001b[0m\u001b[0;34m\u001b[0m\u001b[0;34m\u001b[0m\u001b[0m\n\u001b[0m",
      "\u001b[0;31mModuleNotFoundError\u001b[0m: No module named '__main__.nb_Tesis'; '__main__' is not a package"
     ]
    }
   ],
   "source": [
    "#export\n",
    "from .nb_Tesis import *\n"
   ]
  },
  {
   "cell_type": "code",
   "execution_count": 1,
   "metadata": {},
   "outputs": [],
   "source": [
    "#export\n",
    "def is_number(s):\n",
    "    try:\n",
    "        float(s)\n",
    "        return True\n",
    "    except ValueError:\n",
    "        return False"
   ]
  },
  {
   "cell_type": "code",
   "execution_count": 3,
   "metadata": {},
   "outputs": [],
   "source": [
    "from exp.nb_Tesis import *"
   ]
  },
  {
   "cell_type": "code",
   "execution_count": 1,
   "metadata": {},
   "outputs": [],
   "source": [
    "#export\n",
    "path_to_2017_train_raw = Path('ISIC-2017_Training_Data/')\n",
    "path_to_2018_train_raw = Path('ISIC2018_Task3_Training_Input/')\n",
    "path_to_2019_train_raw = Path('ISIC_2019_Training_Input/')\n",
    "\n",
    "path_to_2017_train_gt = Path('ISIC_2017_train_gt.csv')\n",
    "path_to_2018_train_gt = Path('ISIC2018_Task3_Training_GroundTruth/ISIC2018_Task3_Training_GroundTruth.csv')\n",
    "path_to_2019_train_gt = Path('ISIC_2019_Training_GroundTruth.csv')\n",
    "\n",
    "path_to_2018_test_raw = Path('ISIC2018_Task3_Test_Input/')\n",
    "datasets = {\n",
    "    '2017': {\n",
    "        'train_images': path_to_2017_train_raw,\n",
    "        'groundtruth': path_to_2017_train_gt\n",
    "    },\n",
    "    '2018': {\n",
    "        'train_images': path_to_2018_train_raw,\n",
    "        'groundtruth': path_to_2018_train_gt,\n",
    "        'test_images': path_to_2018_test_raw\n",
    "    },\n",
    "    '2019': {\n",
    "        'train_images': path_to_2019_train_raw,\n",
    "        'groundtruth': path_to_2019_train_gt,\n",
    "    }\n",
    "}\n",
    "\n"
   ]
  },
  {
   "cell_type": "code",
   "execution_count": 3,
   "metadata": {},
   "outputs": [],
   "source": [
    "#export\n",
    "def resize_one(fn, i, path, size,path_hr, should_crop):\n",
    "    dest = path/fn.relative_to(path_hr)\n",
    "    dest.parent.mkdir(parents=True, exist_ok=True)\n",
    "    img = PIL.Image.open(fn)\n",
    "    targ_sz = resize_to(img, size, use_min=True)\n",
    "    img = img.resize(targ_sz, resample=PIL.Image.BILINEAR).convert('RGB')\n",
    "    img.save(dest, quality=100)\n",
    "    if should_crop:\n",
    "        img = open_image(dest)\n",
    "        crop(img,size)\n",
    "        img.save(dest)\n",
    "    \n",
    "\n",
    "\n",
    "class DatasetManager:\n",
    "    def __init__(self,year, dataset_type,min_image_size, amount_of_each_class, year_to_train_for ):\n",
    "        self.year = year\n",
    "        self.year_to_train_for = year_to_train_for\n",
    "\n",
    "        self.dataset_type=dataset_type\n",
    "        self.min_image_size = min_image_size\n",
    "        self.amount_of_each_class = amount_of_each_class\n",
    "        self.df = pd.read_csv(datasets[year]['groundtruth'])\n",
    "        \n",
    "\n",
    "        image_col_name = 'image' if year != '2017' else 'image_id'\n",
    "        self.dfSingleLabel = pd.DataFrame({'image':self.df[image_col_name] })\n",
    "        self.labelcols = self.df.columns[1:len(self.df.columns)]\n",
    "        self.dfSingleLabel['label'] = self.df[list(self.labelcols)].idxmax(axis='columns')\n",
    "        self.classDict = {k:0 for k in self.labelcols }\n",
    "\n",
    "        self.labels_exclusive_for_2019 = ['SCC']\n",
    "\n",
    "    def get_dataset_path(self):\n",
    "        if not is_number(self.min_image_size): \n",
    "            return datasets[self.year][self.dataset_type]\n",
    "        else:\n",
    "            return Path(f'{self.year}_{self.dataset_type}_resized_to_{self.min_image_size}_picked_{self.amount_of_each_class}_training_for_{self.year_to_train_for or self.year}')\n",
    "\n",
    "    def generate_dataset(self,force=False, should_crop=False):\n",
    "        if not self.year in ['2017','2018','2019']: raise Exception('We don\\'t have a dataset for that year')\n",
    "        if not self.dataset_type in ['train_images','test_images']: raise Exception('We don\\'t have a dataset for that year')\n",
    "\n",
    "        new_dataset_folder_name = self.get_dataset_path()\n",
    "        original_images_path = datasets[self.year][self.dataset_type]\n",
    "        list_of_original_images_paths = ImageList.from_folder(original_images_path).items\n",
    "\n",
    "        if self.amount_of_each_class != 'all':\n",
    "            print(\"Pruning the dataset\")\n",
    "            list_of_original_images_paths = self.prune_image_list(list_of_original_images_paths)\n",
    "        print('here')\n",
    "\n",
    "        sets = [(new_dataset_folder_name, self.min_image_size)]\n",
    "        for p,size in sets:\n",
    "            if not p.exists():\n",
    "                print(f\"resizing to {size} into {p}\")\n",
    "                parallel(partial(resize_one, path=p, size=size, path_hr=original_images_path,should_crop=should_crop), list_of_original_images_paths)\n",
    "                return new_dataset_folder_name\n",
    "            else:\n",
    "                if force:\n",
    "                    new_dataset_folder_name.rmdir()\n",
    "                    parallel(partial(resize_one, path=p, size=size, path_hr=original_images_path, should_crop=should_crop), list_of_original_images_paths)\n",
    "                    return new_dataset_folder_name\n",
    "                else:\n",
    "                    print(f'folder already exists: {new_dataset_folder_name}')\n",
    "\n",
    "\n",
    "    def prune_image_list(self,image_list):\n",
    "        res = []\n",
    "        for image in image_list:\n",
    "            if self.should_image_be_included(image):\n",
    "                res.append(image)\n",
    "        return res\n",
    "\n",
    "\n",
    "    def should_image_be_included(self, image_path):\n",
    "        label = self.get_label_for_image_path(image_path)\n",
    "        if self.year_to_train_for == '2018' and label in self.labels_exclusive_for_2019: return False\n",
    "        if self.classDict[label] >= self.amount_of_each_class: return False\n",
    "        else: \n",
    "            self.classDict[label] = self.classDict[label] + 1\n",
    "            return True\n",
    "        \n",
    "    def get_label_for_image_path(self,image_path):\n",
    "        image_name = image_path.name[:-4]\n",
    "        return list(self.dfSingleLabel.loc[self.dfSingleLabel['image']==image_name].label)[0]\n"
   ]
  },
  {
   "cell_type": "code",
   "execution_count": 4,
   "metadata": {},
   "outputs": [],
   "source": [
    "dm = DatasetManager('2019','train_images',234,100)"
   ]
  },
  {
   "cell_type": "code",
   "execution_count": 5,
   "metadata": {},
   "outputs": [
    {
     "name": "stdout",
     "output_type": "stream",
     "text": [
      "Pruning the dataset\n",
      "here\n",
      "resizing to 234 into 2019_train_images_resized_to_234_picked_100\n"
     ]
    },
    {
     "data": {
      "text/html": [],
      "text/plain": [
       "<IPython.core.display.HTML object>"
      ]
     },
     "metadata": {},
     "output_type": "display_data"
    },
    {
     "data": {
      "text/plain": [
       "PosixPath('2019_train_images_resized_to_234_picked_100')"
      ]
     },
     "execution_count": 5,
     "metadata": {},
     "output_type": "execute_result"
    }
   ],
   "source": [
    "dm.generate_dataset(force=True, should_crop=True)"
   ]
  },
  {
   "cell_type": "code",
   "execution_count": 3,
   "metadata": {},
   "outputs": [
    {
     "name": "stdout",
     "output_type": "stream",
     "text": [
      "Converted DatasetManager.ipynb to exp/nb_DatasetManager.py\r\n"
     ]
    }
   ],
   "source": [
    "!python notebook2script-Copy1.py DatasetManager.ipynb "
   ]
  },
  {
   "cell_type": "code",
   "execution_count": null,
   "metadata": {},
   "outputs": [],
   "source": []
  }
 ],
 "metadata": {
  "kernelspec": {
   "display_name": "Python 3",
   "language": "python",
   "name": "python3"
  },
  "language_info": {
   "codemirror_mode": {
    "name": "ipython",
    "version": 3
   },
   "file_extension": ".py",
   "mimetype": "text/x-python",
   "name": "python",
   "nbconvert_exporter": "python",
   "pygments_lexer": "ipython3",
   "version": "3.7.4"
  }
 },
 "nbformat": 4,
 "nbformat_minor": 4
}
