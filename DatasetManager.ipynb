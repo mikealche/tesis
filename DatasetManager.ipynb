{
 "cells": [
  {
   "cell_type": "code",
   "execution_count": 1,
   "metadata": {},
   "outputs": [
    {
     "ename": "ModuleNotFoundError",
     "evalue": "No module named '__main__.nb_Tesis'; '__main__' is not a package",
     "output_type": "error",
     "traceback": [
      "\u001b[0;31m---------------------------------------------------------------------------\u001b[0m",
      "\u001b[0;31mModuleNotFoundError\u001b[0m                       Traceback (most recent call last)",
      "\u001b[0;32m<ipython-input-1-fdfc0a968cf5>\u001b[0m in \u001b[0;36m<module>\u001b[0;34m\u001b[0m\n\u001b[1;32m      1\u001b[0m \u001b[0;31m#export\u001b[0m\u001b[0;34m\u001b[0m\u001b[0;34m\u001b[0m\u001b[0;34m\u001b[0m\u001b[0m\n\u001b[0;32m----> 2\u001b[0;31m \u001b[0;32mfrom\u001b[0m \u001b[0;34m.\u001b[0m\u001b[0mnb_Tesis\u001b[0m \u001b[0;32mimport\u001b[0m \u001b[0;34m*\u001b[0m\u001b[0;34m\u001b[0m\u001b[0;34m\u001b[0m\u001b[0m\n\u001b[0m",
      "\u001b[0;31mModuleNotFoundError\u001b[0m: No module named '__main__.nb_Tesis'; '__main__' is not a package"
     ]
    }
   ],
   "source": [
    "#export\n",
    "from .nb_Tesis import *\n"
   ]
  },
  {
   "cell_type": "code",
   "execution_count": 9,
   "metadata": {},
   "outputs": [],
   "source": [
    "#export\n",
    "def is_number(s):\n",
    "    try:\n",
    "        float(s)\n",
    "        return True\n",
    "    except ValueError:\n",
    "        return False"
   ]
  },
  {
   "cell_type": "code",
   "execution_count": 10,
   "metadata": {},
   "outputs": [],
   "source": [
    "from exp.nb_Tesis import *"
   ]
  },
  {
   "cell_type": "code",
   "execution_count": 101,
   "metadata": {},
   "outputs": [],
   "source": [
    "#export \n",
    "def add_nevi(df):\n",
    "    df['nevus'] = df.apply(lambda row: 1.0 if row['melanoma'] == 0.0 and row['seborrheic_keratosis'] == 0.0 else 0.0,axis=1)\n",
    "    return df\n",
    "\n",
    "def group_seborrheic_keratosis_or_nevus(df):\n",
    "    df['seborrheic_keratosis_or_nevus'] = df.apply(lambda row: row['seborrheic_keratosis'] or row['nevus'], axis=1)\n",
    "    df.drop(['seborrheic_keratosis','nevus'],axis=1, inplace=True)\n",
    "    return df"
   ]
  },
  {
   "cell_type": "code",
   "execution_count": 27,
   "metadata": {},
   "outputs": [],
   "source": [
    "#export\n",
    "path_to_2017_train_raw = Path('ISIC-2017_Training_Data/')\n",
    "path_to_2018_train_raw = Path('ISIC2018_Task3_Training_Input/')\n",
    "path_to_2019_train_raw = Path('ISIC_2019_Training_Input/')\n",
    "\n",
    "path_to_2017_train_gt = Path('ISIC_2017_train_gt.csv')\n",
    "path_to_2018_train_gt = Path('ISIC2018_Task3_Training_GroundTruth/ISIC2018_Task3_Training_GroundTruth.csv')\n",
    "path_to_2019_train_gt = Path('ISIC_2019_Training_GroundTruth.csv')\n",
    "\n",
    "path_to_2017_valid_raw = Path('ISIC-2017_Validation_Data/')\n",
    "path_to_2017_valid_gt = Path('ISIC_2017_valid_gt.csv')\n",
    "\n",
    "\n",
    "\n",
    "\n",
    "path_to_2018_test_raw = Path('ISIC2018_Task3_Test_Input/')\n",
    "datasets = {\n",
    "    '2017': {\n",
    "        'train_images': path_to_2017_train_raw,\n",
    "        'groundtruth': path_to_2017_train_gt,\n",
    "        'valid_images': path_to_2017_valid_raw,\n",
    "        'valid_groundtruth': path_to_2017_valid_gt\n",
    "    },\n",
    "    '2018': {\n",
    "        'train_images': path_to_2018_train_raw,\n",
    "        'groundtruth': path_to_2018_train_gt,\n",
    "        'test_images': path_to_2018_test_raw\n",
    "    },\n",
    "    '2019': {\n",
    "        'train_images': path_to_2019_train_raw,\n",
    "        'groundtruth': path_to_2019_train_gt,\n",
    "    }\n",
    "}\n",
    "\n"
   ]
  },
  {
   "cell_type": "code",
   "execution_count": 127,
   "metadata": {},
   "outputs": [],
   "source": [
    "#export\n",
    "def resize_one(fn, i, path, size,path_hr, should_crop):\n",
    "    dest = path/fn.relative_to(path_hr)\n",
    "    dest.parent.mkdir(parents=True, exist_ok=True)\n",
    "    img = PIL.Image.open(fn)\n",
    "    targ_sz = resize_to(img, size, use_min=True)\n",
    "    img = img.resize(targ_sz, resample=PIL.Image.BILINEAR).convert('RGB')\n",
    "    img.save(dest, quality=100)\n",
    "    if should_crop:\n",
    "        img = open_image(dest)\n",
    "        crop(img,size)\n",
    "        img.save(dest)\n",
    "    \n",
    "\n",
    "\n",
    "class DatasetManager:\n",
    "    def __init__(self,year,min_image_size, amount_of_each_class, year_to_train_for ):\n",
    "        self.year = year\n",
    "        self.year_to_train_for = year_to_train_for\n",
    "\n",
    "        self.min_image_size = min_image_size\n",
    "        self.amount_of_each_class = amount_of_each_class\n",
    "        self.df = pd.read_csv(datasets[year]['groundtruth'])\n",
    "        if self.year == '2017':\n",
    "            self.valid_df = pd.read_csv(datasets[year]['valid_groundtruth'])\n",
    "            self.df = pd.concat([self.df,self.valid_df])\n",
    "            add_nevi(self.df)\n",
    "            group_seborrheic_keratosis_or_nevus(self.df)\n",
    "\n",
    "        image_col_name = 'image' if year != '2017' else 'image_id'\n",
    "        self.dfSingleLabel = pd.DataFrame({'image':self.df[image_col_name] })\n",
    "        self.labelcols = self.df.columns[1:len(self.df.columns)]\n",
    "        self.dfSingleLabel['label'] = self.df[list(self.labelcols)].idxmax(axis='columns')\n",
    "        self.classDict = {k:0 for k in self.labelcols }\n",
    "\n",
    "        self.labels_exclusive_for_2019 = ['SCC']\n",
    "\n",
    "    def get_df(self):\n",
    "        return self.df\n",
    "    \n",
    "    def get_dataset_path(self, dataset_type):\n",
    "        if not is_number(self.min_image_size): \n",
    "            return datasets[self.year][dataset_type]\n",
    "        else:\n",
    "            return Path(f'{self.year}_{dataset_type}_resized_to_{self.min_image_size}_picked_{self.amount_of_each_class}_training_for_{self.year_to_train_for or self.year}')\n",
    "\n",
    "    def generate_dataset(self,dataset_type, force=False, should_crop=False):\n",
    "        if not self.year in ['2017','2018','2019']: raise Exception('We don\\'t have a dataset for that year')\n",
    "        if not dataset_type in ['train_images','valid_images','test_images']: raise Exception('We don\\'t have that dataset type')\n",
    "\n",
    "        new_dataset_folder_name = self.get_dataset_path(dataset_type)\n",
    "        original_images_path = datasets[self.year][dataset_type]\n",
    "        list_of_original_images_paths = ImageList.from_folder(original_images_path).items\n",
    "\n",
    "        if self.amount_of_each_class != 'all':\n",
    "            print(\"Pruning the dataset\")\n",
    "            list_of_original_images_paths = self.prune_image_list(list_of_original_images_paths)\n",
    "        print('here')\n",
    "\n",
    "        sets = [(new_dataset_folder_name, self.min_image_size)]\n",
    "        for p,size in sets:\n",
    "            if not p.exists():\n",
    "                print(f\"resizing to {size} into {p}\")\n",
    "                parallel(partial(resize_one, path=p, size=size, path_hr=original_images_path,should_crop=should_crop), list_of_original_images_paths)\n",
    "                return new_dataset_folder_name\n",
    "            else:\n",
    "                if force:\n",
    "                    new_dataset_folder_name.rmdir()\n",
    "                    parallel(partial(resize_one, path=p, size=size, path_hr=original_images_path, should_crop=should_crop), list_of_original_images_paths)\n",
    "                    return new_dataset_folder_name\n",
    "                else:\n",
    "                    print(f'folder already exists: {new_dataset_folder_name}')\n",
    "\n",
    "\n",
    "    def prune_image_list(self,image_list):\n",
    "        res = []\n",
    "        for image in image_list:\n",
    "            if self.should_image_be_included(image):\n",
    "                res.append(image)\n",
    "        return res\n",
    "\n",
    "\n",
    "    def should_image_be_included(self, image_path):\n",
    "        label = self.get_label_for_image_path(image_path)\n",
    "        if self.year_to_train_for == '2018' and label in self.labels_exclusive_for_2019: return False\n",
    "        if self.classDict[label] >= self.amount_of_each_class: return False\n",
    "        else: \n",
    "            self.classDict[label] = self.classDict[label] + 1\n",
    "            return True\n",
    "        \n",
    "    def get_label_for_image_path(self,image_path):\n",
    "        image_name = image_path.name[:-4]\n",
    "        return list(self.dfSingleLabel.loc[self.dfSingleLabel['image']==image_name].label)[0]\n"
   ]
  },
  {
   "cell_type": "code",
   "execution_count": 123,
   "metadata": {},
   "outputs": [],
   "source": [
    "dm = DatasetManager('2017', 224,'all','2017')"
   ]
  },
  {
   "cell_type": "code",
   "execution_count": 124,
   "metadata": {},
   "outputs": [
    {
     "data": {
      "text/plain": [
       "image_id                         ISIC_0000000ISIC_0000001ISIC_0000002ISIC_00000...\n",
       "melanoma                                                                       404\n",
       "seborrheic_keratosis_or_nevus                                                 1746\n",
       "dtype: object"
      ]
     },
     "execution_count": 124,
     "metadata": {},
     "output_type": "execute_result"
    }
   ],
   "source": [
    "dm.get_df().sum()"
   ]
  },
  {
   "cell_type": "code",
   "execution_count": 118,
   "metadata": {},
   "outputs": [
    {
     "data": {
      "text/html": [
       "<div>\n",
       "<style scoped>\n",
       "    .dataframe tbody tr th:only-of-type {\n",
       "        vertical-align: middle;\n",
       "    }\n",
       "\n",
       "    .dataframe tbody tr th {\n",
       "        vertical-align: top;\n",
       "    }\n",
       "\n",
       "    .dataframe thead th {\n",
       "        text-align: right;\n",
       "    }\n",
       "</style>\n",
       "<table border=\"1\" class=\"dataframe\">\n",
       "  <thead>\n",
       "    <tr style=\"text-align: right;\">\n",
       "      <th></th>\n",
       "      <th>image_id</th>\n",
       "      <th>melanoma</th>\n",
       "      <th>seborrheic_keratosis</th>\n",
       "    </tr>\n",
       "  </thead>\n",
       "  <tbody>\n",
       "    <tr>\n",
       "      <th>0</th>\n",
       "      <td>ISIC_0001769</td>\n",
       "      <td>0.0</td>\n",
       "      <td>0.0</td>\n",
       "    </tr>\n",
       "    <tr>\n",
       "      <th>1</th>\n",
       "      <td>ISIC_0001852</td>\n",
       "      <td>0.0</td>\n",
       "      <td>0.0</td>\n",
       "    </tr>\n",
       "    <tr>\n",
       "      <th>2</th>\n",
       "      <td>ISIC_0001871</td>\n",
       "      <td>0.0</td>\n",
       "      <td>0.0</td>\n",
       "    </tr>\n",
       "    <tr>\n",
       "      <th>3</th>\n",
       "      <td>ISIC_0003462</td>\n",
       "      <td>0.0</td>\n",
       "      <td>0.0</td>\n",
       "    </tr>\n",
       "    <tr>\n",
       "      <th>4</th>\n",
       "      <td>ISIC_0003539</td>\n",
       "      <td>0.0</td>\n",
       "      <td>0.0</td>\n",
       "    </tr>\n",
       "    <tr>\n",
       "      <th>...</th>\n",
       "      <td>...</td>\n",
       "      <td>...</td>\n",
       "      <td>...</td>\n",
       "    </tr>\n",
       "    <tr>\n",
       "      <th>145</th>\n",
       "      <td>ISIC_0015443</td>\n",
       "      <td>0.0</td>\n",
       "      <td>0.0</td>\n",
       "    </tr>\n",
       "    <tr>\n",
       "      <th>146</th>\n",
       "      <td>ISIC_0015445</td>\n",
       "      <td>0.0</td>\n",
       "      <td>0.0</td>\n",
       "    </tr>\n",
       "    <tr>\n",
       "      <th>147</th>\n",
       "      <td>ISIC_0015483</td>\n",
       "      <td>0.0</td>\n",
       "      <td>0.0</td>\n",
       "    </tr>\n",
       "    <tr>\n",
       "      <th>148</th>\n",
       "      <td>ISIC_0015496</td>\n",
       "      <td>0.0</td>\n",
       "      <td>0.0</td>\n",
       "    </tr>\n",
       "    <tr>\n",
       "      <th>149</th>\n",
       "      <td>ISIC_0015627</td>\n",
       "      <td>0.0</td>\n",
       "      <td>0.0</td>\n",
       "    </tr>\n",
       "  </tbody>\n",
       "</table>\n",
       "<p>150 rows × 3 columns</p>\n",
       "</div>"
      ],
      "text/plain": [
       "         image_id  melanoma  seborrheic_keratosis\n",
       "0    ISIC_0001769       0.0                   0.0\n",
       "1    ISIC_0001852       0.0                   0.0\n",
       "2    ISIC_0001871       0.0                   0.0\n",
       "3    ISIC_0003462       0.0                   0.0\n",
       "4    ISIC_0003539       0.0                   0.0\n",
       "..            ...       ...                   ...\n",
       "145  ISIC_0015443       0.0                   0.0\n",
       "146  ISIC_0015445       0.0                   0.0\n",
       "147  ISIC_0015483       0.0                   0.0\n",
       "148  ISIC_0015496       0.0                   0.0\n",
       "149  ISIC_0015627       0.0                   0.0\n",
       "\n",
       "[150 rows x 3 columns]"
      ]
     },
     "execution_count": 118,
     "metadata": {},
     "output_type": "execute_result"
    }
   ],
   "source": [
    "b = pd.read_csv(datasets['2017']['valid_groundtruth']);b"
   ]
  },
  {
   "cell_type": "code",
   "execution_count": 95,
   "metadata": {},
   "outputs": [],
   "source": [
    "b = add_nevi(b);"
   ]
  },
  {
   "cell_type": "code",
   "execution_count": 96,
   "metadata": {},
   "outputs": [],
   "source": [
    "b = group_seborrheic_keratosis_or_nevus(b)"
   ]
  },
  {
   "cell_type": "code",
   "execution_count": null,
   "metadata": {},
   "outputs": [],
   "source": []
  },
  {
   "cell_type": "code",
   "execution_count": 98,
   "metadata": {},
   "outputs": [
    {
     "data": {
      "text/plain": [
       "image_id                         ISIC_0001769ISIC_0001852ISIC_0001871ISIC_00034...\n",
       "melanoma                                                                        30\n",
       "seborrheic_keratosis_or_nevus                                                  120\n",
       "dtype: object"
      ]
     },
     "execution_count": 98,
     "metadata": {},
     "output_type": "execute_result"
    }
   ],
   "source": [
    "b.sum()"
   ]
  },
  {
   "cell_type": "code",
   "execution_count": 90,
   "metadata": {},
   "outputs": [],
   "source": [
    "def group_seborrheic_keratosis_or_nevus(df):\n",
    "    df['seborrheic_keratosis_or_nevus'] = df.apply(lambda row: row['seborrheic_keratosis'] or row['nevus'], axis=1)\n",
    "    b.drop(['seborrheic_keratosis','nevus'],axis=1, inplace=True)\n",
    "    return b"
   ]
  },
  {
   "cell_type": "code",
   "execution_count": 66,
   "metadata": {},
   "outputs": [],
   "source": []
  },
  {
   "cell_type": "code",
   "execution_count": 78,
   "metadata": {},
   "outputs": [
    {
     "data": {
      "text/plain": [
       "image_id                         ISIC_0001769ISIC_0001852ISIC_0001871ISIC_00034...\n",
       "melanoma                                                                        30\n",
       "seborrheic_keratosis_or_nevus                                                  120\n",
       "dtype: object"
      ]
     },
     "execution_count": 78,
     "metadata": {},
     "output_type": "execute_result"
    }
   ],
   "source": []
  },
  {
   "cell_type": "code",
   "execution_count": 23,
   "metadata": {},
   "outputs": [
    {
     "name": "stdout",
     "output_type": "stream",
     "text": [
      "here\n",
      "resizing to 224 into 2017_valid_images_resized_to_224_picked_all_training_for_2017\n"
     ]
    },
    {
     "data": {
      "text/html": [],
      "text/plain": [
       "<IPython.core.display.HTML object>"
      ]
     },
     "metadata": {},
     "output_type": "display_data"
    },
    {
     "data": {
      "text/plain": [
       "PosixPath('2017_valid_images_resized_to_224_picked_all_training_for_2017')"
      ]
     },
     "execution_count": 23,
     "metadata": {},
     "output_type": "execute_result"
    }
   ],
   "source": [
    "dm.generate_dataset(force=True)"
   ]
  },
  {
   "cell_type": "code",
   "execution_count": 24,
   "metadata": {},
   "outputs": [
    {
     "data": {
      "text/plain": [
       "150"
      ]
     },
     "execution_count": 24,
     "metadata": {},
     "output_type": "execute_result"
    }
   ],
   "source": [
    "len(dm.get_dataset_path().ls())"
   ]
  },
  {
   "cell_type": "code",
   "execution_count": 128,
   "metadata": {},
   "outputs": [
    {
     "name": "stdout",
     "output_type": "stream",
     "text": [
      "Converted DatasetManager.ipynb to exp/nb_DatasetManager.py\r\n"
     ]
    }
   ],
   "source": [
    "!python notebook2script-Copy1.py DatasetManager.ipynb "
   ]
  },
  {
   "cell_type": "code",
   "execution_count": null,
   "metadata": {},
   "outputs": [],
   "source": []
  }
 ],
 "metadata": {
  "kernelspec": {
   "display_name": "Python 3",
   "language": "python",
   "name": "python3"
  },
  "language_info": {
   "codemirror_mode": {
    "name": "ipython",
    "version": 3
   },
   "file_extension": ".py",
   "mimetype": "text/x-python",
   "name": "python",
   "nbconvert_exporter": "python",
   "pygments_lexer": "ipython3",
   "version": "3.7.4"
  }
 },
 "nbformat": 4,
 "nbformat_minor": 4
}
