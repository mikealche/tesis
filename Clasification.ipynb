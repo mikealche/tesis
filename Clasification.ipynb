{
 "cells": [
  {
   "cell_type": "markdown",
   "metadata": {
    "colab_type": "text",
    "id": "YuouDtwxZFZ7"
   },
   "source": [
    "#Challenge 2019 / Lesion Diagnosis"
   ]
  },
  {
   "cell_type": "code",
   "execution_count": null,
   "metadata": {
    "colab": {},
    "colab_type": "code",
    "id": "52FEfiu-zSW8",
    "scrolled": true
   },
   "outputs": [],
   "source": [
    "from google.colab import drive\n",
    "drive.mount('/content/drive')"
   ]
  },
  {
   "cell_type": "code",
   "execution_count": null,
   "metadata": {
    "colab": {
     "base_uri": "https://localhost:8080/",
     "height": 52
    },
    "colab_type": "code",
    "id": "Ngo6vtM3ZhGR",
    "outputId": "858d5657-71a9-4d27-ab51-11d76706dac5",
    "scrolled": true
   },
   "outputs": [],
   "source": [
    "!curl -s https://course.fast.ai/setup/colab | bash"
   ]
  },
  {
   "cell_type": "markdown",
   "metadata": {
    "colab_type": "text",
    "id": "0Tx81IHPcEtt"
   },
   "source": [
    "# Importamos las dependencias"
   ]
  },
  {
   "cell_type": "code",
   "execution_count": 1,
   "metadata": {
    "colab": {},
    "colab_type": "code",
    "id": "JcJxh3bJLEr6",
    "scrolled": true
   },
   "outputs": [],
   "source": [
    "%reload_ext autoreload\n",
    "%autoreload 2\n",
    "%matplotlib inline\n",
    "from fastai import *\n",
    "from fastai.vision import *\n",
    "from fastai.metrics import error_rate\n",
    "from fastai.callbacks import *\n",
    "from IPython.display import clear_output\n",
    "from torchvision.transforms import *\n",
    "import torchvision.models as models\n"
   ]
  },
  {
   "cell_type": "code",
   "execution_count": 2,
   "metadata": {
    "colab": {},
    "colab_type": "code",
    "id": "FFC00LfigeoM",
    "scrolled": true
   },
   "outputs": [],
   "source": [
    "#export\n",
    "import time, sys\n",
    "from IPython.display import clear_output\n",
    "\n",
    "def update_progress(progress):\n",
    "    bar_length = 20\n",
    "    if isinstance(progress, int):\n",
    "        progress = float(progress)\n",
    "    if not isinstance(progress, float):\n",
    "        progress = 0\n",
    "    if progress < 0:\n",
    "        progress = 0\n",
    "    if progress >= 1:\n",
    "        progress = 1\n",
    "\n",
    "    block = int(round(bar_length * progress))\n",
    "\n",
    "    clear_output(wait = True)\n",
    "    text = \"Progress: [{0}] {1:.1f}%\".format( \"#\" * block + \"-\" * (bar_length - block), progress * 100)\n",
    "    print(text)"
   ]
  },
  {
   "cell_type": "code",
   "execution_count": null,
   "metadata": {},
   "outputs": [],
   "source": [
    "!python notebook2script-Copy1.py Tesis.ipynb"
   ]
  },
  {
   "cell_type": "markdown",
   "metadata": {},
   "source": [
    "### Xresnet"
   ]
  },
  {
   "cell_type": "code",
   "execution_count": 3,
   "metadata": {},
   "outputs": [],
   "source": [
    "#export\n",
    "def noop(x): return x\n",
    "\n",
    "class Flatten(nn.Module):\n",
    "    def forward(self, x): return x.view(x.size(0), -1)\n",
    "\n",
    "def conv(ni, nf, ks=3, stride=1, bias=False):\n",
    "    return nn.Conv2d(ni, nf, kernel_size=ks, stride=stride, padding=ks//2, bias=bias)"
   ]
  },
  {
   "cell_type": "code",
   "execution_count": 4,
   "metadata": {},
   "outputs": [],
   "source": [
    "#export\n",
    "act_fn = nn.ReLU(inplace=True)\n",
    "\n",
    "def init_cnn(m):\n",
    "    if getattr(m, 'bias', None) is not None: nn.init.constant_(m.bias, 0)\n",
    "    if isinstance(m, (nn.Conv2d,nn.Linear)): nn.init.kaiming_normal_(m.weight)\n",
    "    for l in m.children(): init_cnn(l)\n",
    "\n",
    "def conv_layer(ni, nf, ks=3, stride=1, zero_bn=False, act=True):\n",
    "    bn = nn.BatchNorm2d(nf)\n",
    "    nn.init.constant_(bn.weight, 0. if zero_bn else 1.)\n",
    "    layers = [conv(ni, nf, ks, stride=stride), bn]\n",
    "    if act: layers.append(act_fn)\n",
    "    return nn.Sequential(*layers)"
   ]
  },
  {
   "cell_type": "code",
   "execution_count": 5,
   "metadata": {},
   "outputs": [],
   "source": [
    "#export\n",
    "class ResBlock(nn.Module):\n",
    "    def __init__(self, expansion, ni, nh, stride=1):\n",
    "        super().__init__()\n",
    "        nf,ni = nh*expansion,ni*expansion\n",
    "        layers  = [conv_layer(ni, nh, 3, stride=stride),\n",
    "                   conv_layer(nh, nf, 3, zero_bn=True, act=False)\n",
    "        ] if expansion == 1 else [\n",
    "                   conv_layer(ni, nh, 1),\n",
    "                   conv_layer(nh, nh, 3, stride=stride),\n",
    "                   conv_layer(nh, nf, 1, zero_bn=True, act=False)\n",
    "        ]\n",
    "        self.convs = nn.Sequential(*layers)\n",
    "        self.idconv = noop if ni==nf else conv_layer(ni, nf, 1, act=False)\n",
    "        self.pool = noop if stride==1 else nn.AvgPool2d(2, ceil_mode=True)\n",
    "\n",
    "    def forward(self, x): return act_fn(self.convs(x) + self.idconv(self.pool(x)))"
   ]
  },
  {
   "cell_type": "code",
   "execution_count": 6,
   "metadata": {},
   "outputs": [],
   "source": [
    "#export\n",
    "class XResNet(nn.Sequential):\n",
    "    @classmethod\n",
    "    def create(cls, expansion, layers, c_in=3, c_out=1000):\n",
    "        nfs = [c_in, (c_in+1)*8, 64, 64]\n",
    "        stem = [conv_layer(nfs[i], nfs[i+1], stride=2 if i==0 else 1)\n",
    "            for i in range(3)]\n",
    "\n",
    "        nfs = [64//expansion,64,128,256,512]\n",
    "        res_layers = [cls._make_layer(expansion, nfs[i], nfs[i+1],\n",
    "                                      n_blocks=l, stride=1 if i==0 else 2)\n",
    "                  for i,l in enumerate(layers)]\n",
    "        res = cls(\n",
    "            *stem,\n",
    "            nn.MaxPool2d(kernel_size=3, stride=2, padding=1),\n",
    "            *res_layers,\n",
    "            nn.AdaptiveAvgPool2d(1), Flatten(),\n",
    "            nn.Linear(nfs[-1]*expansion, c_out),\n",
    "        )\n",
    "        init_cnn(res)\n",
    "        return res\n",
    "\n",
    "    @staticmethod\n",
    "    def _make_layer(expansion, ni, nf, n_blocks, stride):\n",
    "        return nn.Sequential(\n",
    "            *[ResBlock(expansion, ni if i==0 else nf, nf, stride if i==0 else 1)\n",
    "              for i in range(n_blocks)])"
   ]
  },
  {
   "cell_type": "code",
   "execution_count": 7,
   "metadata": {},
   "outputs": [],
   "source": [
    "#export\n",
    "def xresnet18 (**kwargs): return XResNet.create(1, [2, 2,  2, 2], **kwargs)\n",
    "def xresnet34 (**kwargs): return XResNet.create(1, [3, 4,  6, 3], **kwargs)\n",
    "def xresnet50 (**kwargs): return XResNet.create(4, [3, 4,  6, 3], **kwargs)\n",
    "def xresnet101(**kwargs): return XResNet.create(4, [3, 4, 23, 3], **kwargs)\n",
    "def xresnet152(**kwargs): return XResNet.create(4, [3, 8, 36, 3], **kwargs)"
   ]
  },
  {
   "cell_type": "markdown",
   "metadata": {
    "colab_type": "text",
    "id": "N40autwKzn-T"
   },
   "source": [
    "# Descargamos el dataset\n"
   ]
  },
  {
   "cell_type": "markdown",
   "metadata": {
    "colab_type": "text",
    "heading_collapsed": true,
    "id": "uYu_qt6eIl84"
   },
   "source": [
    "## 2018"
   ]
  },
  {
   "cell_type": "code",
   "execution_count": null,
   "metadata": {
    "colab": {
     "base_uri": "https://localhost:8080/",
     "height": 314
    },
    "colab_type": "code",
    "hidden": true,
    "id": "WZloHUJkUqQz",
    "outputId": "76c75aa0-aa98-40ba-dbb7-31133a5fca00",
    "scrolled": true
   },
   "outputs": [],
   "source": [
    "!wget https://challenge.kitware.com/api/v1/item/5ac20fc456357d4ff856e139/download"
   ]
  },
  {
   "cell_type": "code",
   "execution_count": null,
   "metadata": {
    "colab": {},
    "colab_type": "code",
    "hidden": true,
    "id": "w21x4FkLE52R",
    "scrolled": true
   },
   "outputs": [],
   "source": [
    "urls2018 = [\n",
    "        #     'https://challenge.kitware.com/api/v1/item/5ac20fc456357d4ff856e139/download',\n",
    "        # 'https://challenge.kitware.com/api/v1/item/5ac20eeb56357d4ff856e136/download',\n",
    "        # 'https://challenge.kitware.com/api/v1/item/5b1c1c7256357d41064da302/download',\n",
    "        'https://challenge.kitware.com/api/v1/item/5b1c200656357d41064da305/download']"
   ]
  },
  {
   "cell_type": "code",
   "execution_count": null,
   "metadata": {
    "colab": {
     "base_uri": "https://localhost:8080/",
     "height": 314
    },
    "colab_type": "code",
    "hidden": true,
    "id": "j16eLj4VFGKF",
    "outputId": "fc9047eb-757c-4fa0-f41c-b092533895e9",
    "scrolled": true
   },
   "outputs": [],
   "source": [
    "for idx,url in enumerate(urls2018):\n",
    "  !wget $url"
   ]
  },
  {
   "cell_type": "code",
   "execution_count": null,
   "metadata": {
    "colab": {},
    "colab_type": "code",
    "hidden": true,
    "id": "MUGQQAGYFUEF",
    "scrolled": true
   },
   "outputs": [],
   "source": [
    "!unzip download "
   ]
  },
  {
   "cell_type": "code",
   "execution_count": null,
   "metadata": {
    "hidden": true,
    "scrolled": true
   },
   "outputs": [],
   "source": [
    "!ls "
   ]
  },
  {
   "cell_type": "markdown",
   "metadata": {
    "colab_type": "text",
    "heading_collapsed": true,
    "id": "qylsHT8EIiOA"
   },
   "source": [
    "## 2019"
   ]
  },
  {
   "cell_type": "code",
   "execution_count": null,
   "metadata": {
    "colab": {},
    "colab_type": "code",
    "hidden": true,
    "id": "_CoKFx3WFZNg",
    "scrolled": true
   },
   "outputs": [],
   "source": [
    "urls2019 = ['https://s3.amazonaws.com/isic-challenge-2019/ISIC_2019_Training_Input.zip',\n",
    "        'https://s3.amazonaws.com/isic-challenge-2019/ISIC_2019_Training_GroundTruth.csv']"
   ]
  },
  {
   "cell_type": "code",
   "execution_count": null,
   "metadata": {
    "colab": {
     "base_uri": "https://localhost:8080/",
     "height": 397
    },
    "colab_type": "code",
    "hidden": true,
    "id": "sLMNtP-MFnmA",
    "outputId": "552d33bf-94fd-4ef8-9ed4-74772e720cc1",
    "scrolled": true
   },
   "outputs": [],
   "source": [
    "for idx,url in enumerate(urls2019):\n",
    "  !wget $url"
   ]
  },
  {
   "cell_type": "code",
   "execution_count": null,
   "metadata": {
    "colab": {},
    "colab_type": "code",
    "hidden": true,
    "id": "ZqwLI9doHHig",
    "scrolled": true
   },
   "outputs": [],
   "source": [
    "%time !unzip ISIC_2019_Training_Input.zip"
   ]
  },
  {
   "cell_type": "markdown",
   "metadata": {
    "colab_type": "text",
    "id": "IQiWK5SC2gKp"
   },
   "source": [
    "# Ordenamos los datos\n"
   ]
  },
  {
   "cell_type": "markdown",
   "metadata": {
    "colab_type": "text",
    "id": "ZVOxq1UNJQd7"
   },
   "source": [
    "## 2019"
   ]
  },
  {
   "cell_type": "code",
   "execution_count": 26,
   "metadata": {
    "colab": {},
    "colab_type": "code",
    "id": "NsBZBi-8JST5",
    "scrolled": true
   },
   "outputs": [],
   "source": [
    "tesisPath = Path('./');\n",
    "# tesisPath = Path('/content/drive/My Drive/tesis/live2018');\n",
    "\n",
    "trainImagesFolderName = './segmented_images/ISIC_2019_Training_Input'\n",
    "# validImagesFolderName = 'ISIC2018_Task3_Valid_Input'\n",
    "testImagesFolderName = 'ISIC2018_Task3_Test_Input'\n",
    "\n",
    "\n",
    "trainImages = tesisPath/trainImagesFolderName\n",
    "# validImages = tesisPath/validImagesFolderName\n",
    "testImages = tesisPath/testImagesFolderName\n",
    "\n",
    "smallTrainFolderName = Path('small-train')\n",
    "smallTrainPath = tesisPath/smallTrainFolderName\n",
    "smallTrainPath.mkdir(exist_ok=True)\n",
    "\n",
    "smallValidFolderName = Path('small-valid')\n",
    "smallValidPath = tesisPath/smallValidFolderName\n",
    "smallValidPath.mkdir(exist_ok=True)\n",
    "\n",
    "smallTestfolderName = Path('small-test')\n",
    "smallTestPath = tesisPath/smallTestfolderName\n",
    "smallTestPath.mkdir(exist_ok=True)\n",
    "\n",
    "\n",
    "trainingGroundTruthFileName = 'ISIC_2019_Training_GroundTruth.csv'\n",
    "trainingGroundTruthFilePath = tesisPath/trainingGroundTruthFileName\n",
    "\n",
    "\n",
    "trainImagesPath = tesisPath/trainImagesFolderName\n",
    "\n",
    "testImagesPath = tesisPath/testImagesFolderName\n"
   ]
  },
  {
   "cell_type": "code",
   "execution_count": 21,
   "metadata": {
    "colab": {
     "base_uri": "https://localhost:8080/",
     "height": 215
    },
    "colab_type": "code",
    "id": "FAEnW3zzEOrb",
    "outputId": "36d3aca1-6971-4615-8ca9-8bcdb5cd6aa0",
    "scrolled": true
   },
   "outputs": [
    {
     "name": "stdout",
     "output_type": "stream",
     "text": [
      "# of images:  25331\n"
     ]
    },
    {
     "data": {
      "text/html": [
       "<div>\n",
       "<style scoped>\n",
       "    .dataframe tbody tr th:only-of-type {\n",
       "        vertical-align: middle;\n",
       "    }\n",
       "\n",
       "    .dataframe tbody tr th {\n",
       "        vertical-align: top;\n",
       "    }\n",
       "\n",
       "    .dataframe thead th {\n",
       "        text-align: right;\n",
       "    }\n",
       "</style>\n",
       "<table border=\"1\" class=\"dataframe\">\n",
       "  <thead>\n",
       "    <tr style=\"text-align: right;\">\n",
       "      <th></th>\n",
       "      <th>image</th>\n",
       "      <th>MEL</th>\n",
       "      <th>NV</th>\n",
       "      <th>BCC</th>\n",
       "      <th>AK</th>\n",
       "      <th>BKL</th>\n",
       "      <th>DF</th>\n",
       "      <th>VASC</th>\n",
       "      <th>SCC</th>\n",
       "      <th>UNK</th>\n",
       "    </tr>\n",
       "  </thead>\n",
       "  <tbody>\n",
       "    <tr>\n",
       "      <th>0</th>\n",
       "      <td>ISIC_0000000</td>\n",
       "      <td>0.0</td>\n",
       "      <td>1.0</td>\n",
       "      <td>0.0</td>\n",
       "      <td>0.0</td>\n",
       "      <td>0.0</td>\n",
       "      <td>0.0</td>\n",
       "      <td>0.0</td>\n",
       "      <td>0.0</td>\n",
       "      <td>0.0</td>\n",
       "    </tr>\n",
       "    <tr>\n",
       "      <th>1</th>\n",
       "      <td>ISIC_0000001</td>\n",
       "      <td>0.0</td>\n",
       "      <td>1.0</td>\n",
       "      <td>0.0</td>\n",
       "      <td>0.0</td>\n",
       "      <td>0.0</td>\n",
       "      <td>0.0</td>\n",
       "      <td>0.0</td>\n",
       "      <td>0.0</td>\n",
       "      <td>0.0</td>\n",
       "    </tr>\n",
       "    <tr>\n",
       "      <th>2</th>\n",
       "      <td>ISIC_0000002</td>\n",
       "      <td>1.0</td>\n",
       "      <td>0.0</td>\n",
       "      <td>0.0</td>\n",
       "      <td>0.0</td>\n",
       "      <td>0.0</td>\n",
       "      <td>0.0</td>\n",
       "      <td>0.0</td>\n",
       "      <td>0.0</td>\n",
       "      <td>0.0</td>\n",
       "    </tr>\n",
       "    <tr>\n",
       "      <th>3</th>\n",
       "      <td>ISIC_0000003</td>\n",
       "      <td>0.0</td>\n",
       "      <td>1.0</td>\n",
       "      <td>0.0</td>\n",
       "      <td>0.0</td>\n",
       "      <td>0.0</td>\n",
       "      <td>0.0</td>\n",
       "      <td>0.0</td>\n",
       "      <td>0.0</td>\n",
       "      <td>0.0</td>\n",
       "    </tr>\n",
       "    <tr>\n",
       "      <th>4</th>\n",
       "      <td>ISIC_0000004</td>\n",
       "      <td>1.0</td>\n",
       "      <td>0.0</td>\n",
       "      <td>0.0</td>\n",
       "      <td>0.0</td>\n",
       "      <td>0.0</td>\n",
       "      <td>0.0</td>\n",
       "      <td>0.0</td>\n",
       "      <td>0.0</td>\n",
       "      <td>0.0</td>\n",
       "    </tr>\n",
       "  </tbody>\n",
       "</table>\n",
       "</div>"
      ],
      "text/plain": [
       "          image  MEL   NV  BCC   AK  BKL   DF  VASC  SCC  UNK\n",
       "0  ISIC_0000000  0.0  1.0  0.0  0.0  0.0  0.0   0.0  0.0  0.0\n",
       "1  ISIC_0000001  0.0  1.0  0.0  0.0  0.0  0.0   0.0  0.0  0.0\n",
       "2  ISIC_0000002  1.0  0.0  0.0  0.0  0.0  0.0   0.0  0.0  0.0\n",
       "3  ISIC_0000003  0.0  1.0  0.0  0.0  0.0  0.0   0.0  0.0  0.0\n",
       "4  ISIC_0000004  1.0  0.0  0.0  0.0  0.0  0.0   0.0  0.0  0.0"
      ]
     },
     "execution_count": 21,
     "metadata": {},
     "output_type": "execute_result"
    }
   ],
   "source": [
    "df = pd.read_csv(trainingGroundTruthFilePath); print('# of images: ', len(df)); df.head()"
   ]
  },
  {
   "cell_type": "code",
   "execution_count": 22,
   "metadata": {
    "colab": {
     "base_uri": "https://localhost:8080/",
     "height": 198
    },
    "colab_type": "code",
    "id": "ulshGDfoJ5E2",
    "outputId": "78c68f93-8bcb-4a20-d24f-c4f9a46815f1",
    "scrolled": true
   },
   "outputs": [
    {
     "data": {
      "text/html": [
       "<div>\n",
       "<style scoped>\n",
       "    .dataframe tbody tr th:only-of-type {\n",
       "        vertical-align: middle;\n",
       "    }\n",
       "\n",
       "    .dataframe tbody tr th {\n",
       "        vertical-align: top;\n",
       "    }\n",
       "\n",
       "    .dataframe thead th {\n",
       "        text-align: right;\n",
       "    }\n",
       "</style>\n",
       "<table border=\"1\" class=\"dataframe\">\n",
       "  <thead>\n",
       "    <tr style=\"text-align: right;\">\n",
       "      <th></th>\n",
       "      <th>image</th>\n",
       "      <th>label</th>\n",
       "    </tr>\n",
       "  </thead>\n",
       "  <tbody>\n",
       "    <tr>\n",
       "      <th>0</th>\n",
       "      <td>ISIC_0000000</td>\n",
       "      <td>NV</td>\n",
       "    </tr>\n",
       "    <tr>\n",
       "      <th>1</th>\n",
       "      <td>ISIC_0000001</td>\n",
       "      <td>NV</td>\n",
       "    </tr>\n",
       "    <tr>\n",
       "      <th>2</th>\n",
       "      <td>ISIC_0000002</td>\n",
       "      <td>MEL</td>\n",
       "    </tr>\n",
       "    <tr>\n",
       "      <th>3</th>\n",
       "      <td>ISIC_0000003</td>\n",
       "      <td>NV</td>\n",
       "    </tr>\n",
       "    <tr>\n",
       "      <th>4</th>\n",
       "      <td>ISIC_0000004</td>\n",
       "      <td>MEL</td>\n",
       "    </tr>\n",
       "  </tbody>\n",
       "</table>\n",
       "</div>"
      ],
      "text/plain": [
       "          image label\n",
       "0  ISIC_0000000    NV\n",
       "1  ISIC_0000001    NV\n",
       "2  ISIC_0000002   MEL\n",
       "3  ISIC_0000003    NV\n",
       "4  ISIC_0000004   MEL"
      ]
     },
     "execution_count": 22,
     "metadata": {},
     "output_type": "execute_result"
    }
   ],
   "source": [
    "dfSingleLabel = pd.DataFrame({'image':df['image'] })\n",
    "labelcols = df.columns[1:len(df.columns)]\n",
    "dfSingleLabel['label'] = df[list(labelcols)].idxmax(axis='columns')\n",
    "dfSingleLabel.head()"
   ]
  },
  {
   "cell_type": "markdown",
   "metadata": {
    "colab_type": "text",
    "id": "2orH6T7T_PeP"
   },
   "source": [
    "# Sección nueva"
   ]
  },
  {
   "cell_type": "markdown",
   "metadata": {
    "colab_type": "text",
    "id": "JUYfNPXbS-Bx"
   },
   "source": [
    "## Common"
   ]
  },
  {
   "cell_type": "code",
   "execution_count": 23,
   "metadata": {
    "colab": {},
    "colab_type": "code",
    "id": "JLDDhA-GhZ8N",
    "scrolled": true
   },
   "outputs": [],
   "source": [
    "labels_for_2018_live_challenge = ['MEL', 'NV', 'BCC', 'AK', 'BKL', 'DF', 'VASC']\n",
    "def get_label_for_image_name(image_name):\n",
    "  return list(dfSingleLabel.loc[dfSingleLabel['image']==image_name].label)[0]\n",
    "  \n",
    "def get_label_for_image_path(image_path): return get_label_for_image_name(image_path.name[:-4])"
   ]
  },
  {
   "cell_type": "markdown",
   "metadata": {
    "colab_type": "text",
    "id": "t2NXKqZ_zxWm"
   },
   "source": [
    "# Preprocesamos las imagenes\n"
   ]
  },
  {
   "cell_type": "code",
   "execution_count": 24,
   "metadata": {
    "colab": {},
    "colab_type": "code",
    "id": "IGm3yHmODBF0",
    "scrolled": true
   },
   "outputs": [],
   "source": [
    "def remove_small_train():\n",
    "  assert smallTrainPath\n",
    "  !cd $smallTrainPath && rm -rf *"
   ]
  },
  {
   "cell_type": "code",
   "execution_count": null,
   "metadata": {
    "colab": {},
    "colab_type": "code",
    "id": "XD0w43fYDWdZ",
    "scrolled": true
   },
   "outputs": [],
   "source": [
    "# remove_small_train()"
   ]
  },
  {
   "cell_type": "code",
   "execution_count": 25,
   "metadata": {
    "colab": {
     "base_uri": "https://localhost:8080/",
     "height": 35
    },
    "colab_type": "code",
    "id": "r0T0MQjiI_L1",
    "outputId": "51367e28-a212-4992-c4cd-0db165e85152",
    "scrolled": true
   },
   "outputs": [
    {
     "data": {
      "text/plain": [
       "([PosixPath('small-train/128x128'),\n",
       "  PosixPath('small-train/180x180'),\n",
       "  PosixPath('small-train/352x352'),\n",
       "  PosixPath('small-train/112x112'),\n",
       "  PosixPath('small-train/448x448')],\n",
       " [],\n",
       " [])"
      ]
     },
     "execution_count": 25,
     "metadata": {},
     "output_type": "execute_result"
    }
   ],
   "source": [
    "smallTrainPath.ls(),smallTestPath.ls(),smallValidPath.ls()"
   ]
  },
  {
   "cell_type": "code",
   "execution_count": 78,
   "metadata": {
    "colab": {},
    "colab_type": "code",
    "id": "-ETXnopqCRoF",
    "scrolled": true
   },
   "outputs": [],
   "source": [
    "quantity = 400\n",
    "size = 448\n",
    "\n",
    "sizePath = str(size)+\"x\"+str(size)\n",
    "specificSmallTrainFolderName = (smallTrainFolderName/sizePath).as_posix()\n",
    "\n",
    "image_quantities_dict = {}\n",
    "for label in labelcols:\n",
    "  image_quantities_dict[label] = 0"
   ]
  },
  {
   "cell_type": "markdown",
   "metadata": {
    "colab_type": "text",
    "id": "hVaEhGv3KPxm"
   },
   "source": [
    "## 2018"
   ]
  },
  {
   "cell_type": "code",
   "execution_count": null,
   "metadata": {
    "colab": {},
    "colab_type": "code",
    "id": "MeMnJK4LGqb6",
    "scrolled": true
   },
   "outputs": [],
   "source": [
    "datasetFoldersPath = [\n",
    "    ('/content/ISIC2018_Task3_Test_Input', smallTestPath),\n",
    "                      # ('/content/ISIC2018_Task3_Training_Input',smallTrainPath),\n",
    "                      # ('/content/ISIC2018_Task3_Validation_Input',smallValidPath)\n",
    "                      ]"
   ]
  },
  {
   "cell_type": "markdown",
   "metadata": {
    "colab_type": "text",
    "id": "1B2zn9kPKTwS"
   },
   "source": [
    "## 2019"
   ]
  },
  {
   "cell_type": "code",
   "execution_count": 79,
   "metadata": {
    "colab": {},
    "colab_type": "code",
    "id": "uN8w5nHmKU_q",
    "scrolled": true
   },
   "outputs": [],
   "source": [
    "datasetFoldersPath = [\n",
    "                      (trainImagesPath, smallTrainPath),\n",
    "                      # (testImagesPath,smallTestPath)\n",
    "                      ]"
   ]
  },
  {
   "cell_type": "markdown",
   "metadata": {
    "colab_type": "text",
    "heading_collapsed": true,
    "id": "BcyPcBA4KpPo"
   },
   "source": [
    "## Common"
   ]
  },
  {
   "cell_type": "code",
   "execution_count": 80,
   "metadata": {
    "colab": {},
    "colab_type": "code",
    "hidden": true,
    "id": "cB6366h5_iq1",
    "scrolled": true
   },
   "outputs": [],
   "source": [
    "transform_color = False"
   ]
  },
  {
   "cell_type": "code",
   "execution_count": 81,
   "metadata": {
    "colab": {},
    "colab_type": "code",
    "hidden": true,
    "id": "l8KpJP_w_5jh",
    "scrolled": true
   },
   "outputs": [],
   "source": [
    "trans_to_tensor = transforms.ToTensor()\n",
    "trans_to_pil = transforms.ToPILImage()"
   ]
  },
  {
   "cell_type": "code",
   "execution_count": 82,
   "metadata": {
    "colab": {},
    "colab_type": "code",
    "hidden": true,
    "id": "9nvVxRRII2VV",
    "scrolled": true
   },
   "outputs": [],
   "source": [
    "def moveAndResizeImage(originImagePath, destinationImagePath):\n",
    "  img = PIL.Image.open(originImagePath)\n",
    "  targ_sz = resize_to(img, size, use_min=True)\n",
    "  img = img.resize(targ_sz, resample=PIL.Image.BILINEAR).convert('RGB')\n",
    "  w, h = img.size\n",
    "\n",
    "  if transform_color:\n",
    "   img = trans_to_pil( _correct_color(trans_to_tensor(img)))\n",
    "\n",
    "  left = (w - size)/2\n",
    "  top = (h - size)/2\n",
    "  right = (w + size)/2\n",
    "  bottom = (h + size)/2\n",
    "  img = img.crop((left, top, right, bottom))\n",
    "  img.save(destinationImagePath, quality=100)"
   ]
  },
  {
   "cell_type": "code",
   "execution_count": 83,
   "metadata": {
    "colab": {
     "base_uri": "https://localhost:8080/",
     "height": 35
    },
    "colab_type": "code",
    "hidden": true,
    "id": "EQhdAGn9GZQH",
    "outputId": "7fd5007d-feca-4670-b2af-6da37c7e9bcd",
    "scrolled": true
   },
   "outputs": [],
   "source": [
    "def createSmallerDataset():\n",
    "    for datasetPath, smallDatasetPath in datasetFoldersPath[0:1]:\n",
    "      print('started: ', datasetPath)\n",
    "      images_paths_list = get_image_files(datasetPath)\n",
    "\n",
    "      n_of_images = min(len(images_paths_list), len(labels_for_2018_live_challenge) * quantity)\n",
    "      print(n_of_images)\n",
    "\n",
    "      n_of_processed_images = 0\n",
    "\n",
    "      for image_path in images_paths_list:\n",
    "        image_label = get_label_for_image_name(image_path.name[:-4])\n",
    "        if image_quantities_dict[image_label] >= quantity: continue\n",
    "        if sum(image_quantities_dict.values()) >= quantity * len(labels_for_2018_live_challenge): break\n",
    "        if image_label == 'SCC' : continue\n",
    "        if image_label == 'UNK' : continue\n",
    "\n",
    "        destinationImagePath = Path(smallDatasetPath)/(str(size)+\"x\"+str(size))\n",
    "        destinationImagePath.mkdir(exist_ok=True, parents=True)\n",
    "        destinationImagePath = destinationImagePath/image_path.name\n",
    "        moveAndResizeImage(image_path,destinationImagePath)\n",
    "        update_progress(n_of_processed_images/ n_of_images)\n",
    "        image_quantities_dict[image_label] = image_quantities_dict[image_label] + 1\n",
    "        n_of_processed_images += 1\n"
   ]
  },
  {
   "cell_type": "code",
   "execution_count": 84,
   "metadata": {
    "hidden": true
   },
   "outputs": [
    {
     "name": "stdout",
     "output_type": "stream",
     "text": [
      "Progress: [##################--] 89.0%\n"
     ]
    }
   ],
   "source": [
    "createSmallerDataset()"
   ]
  },
  {
   "cell_type": "code",
   "execution_count": null,
   "metadata": {
    "colab": {
     "base_uri": "https://localhost:8080/",
     "height": 35
    },
    "colab_type": "code",
    "hidden": true,
    "id": "LDjOwW5qJoxE",
    "outputId": "9105229e-1255-4886-bb46-1f2863baff27",
    "scrolled": true
   },
   "outputs": [],
   "source": [
    "for datasetPath,smallDatasetPath in datasetFoldersPath[0:1]:\n",
    "  sizePath = str(size)+\"x\"+str(size)\n",
    "  print(smallDatasetPath.name, 'quantity: ', len(get_image_files(smallDatasetPath/sizePath))  )"
   ]
  },
  {
   "cell_type": "markdown",
   "metadata": {
    "colab_type": "text",
    "heading_collapsed": true,
    "id": "odIwJrLTZFaH"
   },
   "source": [
    "# Crear los data bunchs\n",
    "\n"
   ]
  },
  {
   "cell_type": "markdown",
   "metadata": {
    "colab_type": "text",
    "hidden": true,
    "id": "PeSJa7_5numW"
   },
   "source": [
    "### Estimating the Iluminants"
   ]
  },
  {
   "cell_type": "code",
   "execution_count": null,
   "metadata": {
    "colab": {},
    "colab_type": "code",
    "hidden": true,
    "id": "aBLk3S7yuZPJ",
    "scrolled": true
   },
   "outputs": [],
   "source": [
    "def max_rgb(image):\n",
    "  # First get the maximum across the rows, then take the values and take the maximum again (this time dimension 1 will be the columns)\n",
    "  return image.max(dim=1)[0].max(dim=1)[0]\n",
    "  \n",
    "def computeGrayWorldOnChannel(image, channel,p):\n",
    "  I_cx = image[channel].sum()\n",
    "  img_size = image[channel].shape.numel()\n",
    "  return ( (I_cx ** p) / img_size )  ** (1/p) \n",
    "  \n",
    "def shades_of_gray(img, p):\n",
    "  n_channels, height, width  = img.shape\n",
    "  iluminant = torch.zeros(3)\n",
    "  for channel in range(n_channels):\n",
    "    iluminant[channel] = computeGrayWorldOnChannel(img,channel,p)\n",
    "  return iluminant"
   ]
  },
  {
   "cell_type": "code",
   "execution_count": null,
   "metadata": {
    "colab": {},
    "colab_type": "code",
    "hidden": true,
    "id": "0306dpMbvQRL",
    "scrolled": true
   },
   "outputs": [],
   "source": [
    "def correct_iluminant(estimated_iluminant):\n",
    "  gamma = (torch.ones(3) / math.sqrt(3))\n",
    "  corrected_iluminant = gamma * (1 / estimated_iluminant)\n",
    "  return corrected_iluminant\n",
    "\n",
    "def correct_image(image,estimated_iluminant):\n",
    "  corrected_iluminant = correct_iluminant(estimated_iluminant)\n",
    "  mat_iluminant = corrected_iluminant[:,None,None].expand(image.shape)\n",
    "  c = mat_iluminant * image\n",
    "  return c"
   ]
  },
  {
   "cell_type": "code",
   "execution_count": null,
   "metadata": {
    "colab": {},
    "colab_type": "code",
    "hidden": true,
    "id": "3d07BozItSMj",
    "scrolled": true
   },
   "outputs": [],
   "source": [
    "def _correct_color(x):\n",
    "  # estimated_iluminant = shades_of_gray(x,1);\n",
    "  estimated_iluminant = max_rgb(x);\n",
    "\n",
    "  c = correct_image(x,estimated_iluminant)\n",
    "  return c\n",
    "correct_color = TfmPixel(_correct_color)"
   ]
  },
  {
   "cell_type": "markdown",
   "metadata": {
    "colab_type": "text",
    "id": "kgeVI6DyN9w1"
   },
   "source": [
    "# Data block loading API"
   ]
  },
  {
   "cell_type": "code",
   "execution_count": 12,
   "metadata": {
    "colab": {},
    "colab_type": "code",
    "id": "qYv9h9n68mEb",
    "scrolled": true
   },
   "outputs": [],
   "source": [
    "def random_seed(seed_value, use_cuda):  #gleaned from multiple forum posts\n",
    "    np.random.seed(seed_value) # cpu vars\n",
    "    torch.manual_seed(seed_value) # cpu  vars\n",
    "    random.seed(seed_value) # Python\n",
    "    if use_cuda: torch.cuda.manual_seed_all(seed_value) # gpu "
   ]
  },
  {
   "cell_type": "code",
   "execution_count": 13,
   "metadata": {
    "colab": {},
    "colab_type": "code",
    "id": "A5nArvLhpI2f",
    "scrolled": true
   },
   "outputs": [],
   "source": [
    "import warnings\n",
    "warnings.filterwarnings(\"ignore\", category=UserWarning, module=\"torch.nn.functional\")"
   ]
  },
  {
   "cell_type": "code",
   "execution_count": 14,
   "metadata": {
    "colab": {
     "base_uri": "https://localhost:8080/",
     "height": 35
    },
    "colab_type": "code",
    "id": "f6Jqi_VUo129",
    "outputId": "d2bb1987-b277-4ef9-9d99-f80278b4fae3",
    "scrolled": true
   },
   "outputs": [
    {
     "ename": "NameError",
     "evalue": "name 'specificSmallTrainFolderName' is not defined",
     "output_type": "error",
     "traceback": [
      "\u001b[0;31m---------------------------------------------------------------------------\u001b[0m",
      "\u001b[0;31mNameError\u001b[0m                                 Traceback (most recent call last)",
      "\u001b[0;32m<ipython-input-14-0a5cd8e865a5>\u001b[0m in \u001b[0;36m<module>\u001b[0;34m\u001b[0m\n\u001b[0;32m----> 1\u001b[0;31m \u001b[0mspecificSmallTrainFolderName\u001b[0m\u001b[0;34m\u001b[0m\u001b[0;34m\u001b[0m\u001b[0m\n\u001b[0m",
      "\u001b[0;31mNameError\u001b[0m: name 'specificSmallTrainFolderName' is not defined"
     ]
    }
   ],
   "source": [
    "specificSmallTrainFolderName"
   ]
  },
  {
   "cell_type": "code",
   "execution_count": 15,
   "metadata": {},
   "outputs": [],
   "source": [
    "!export CUDA_VISIBLE_DEVICES=1"
   ]
  },
  {
   "cell_type": "code",
   "execution_count": 28,
   "metadata": {
    "colab": {},
    "colab_type": "code",
    "id": "rn8MAliSv4Ud",
    "scrolled": true
   },
   "outputs": [],
   "source": [
    "random_seed(42,True)\n",
    "tfms = get_transforms(flip_vert=True, max_rotate=180,max_zoom=1.6, max_lighting=.3,p_affine=1)\n",
    "#Descomentar para correccion de color\n",
    "# tfms[0].append(correct_color())\n",
    "# tfms[1].append(correct_color())\n",
    "\n",
    "data = ImageList.from_folder(trainImagesPath)\\\n",
    ".split_by_rand_pct()\\\n",
    ".label_from_func(get_label_for_image_path)\\\n",
    ".transform(tfms)\\\n",
    ".databunch(bs=32)\\\n",
    ".normalize()"
   ]
  },
  {
   "cell_type": "code",
   "execution_count": 29,
   "metadata": {
    "colab": {
     "base_uri": "https://localhost:8080/",
     "height": 729
    },
    "colab_type": "code",
    "id": "Zxz32Vml43_O",
    "outputId": "27f2a337-2b64-41b8-8eb5-798f95f47686"
   },
   "outputs": [
    {
     "data": {
      "image/png": "[encoded data removed]",
      "text/plain": [
       "<Figure size 720x720 with 9 Axes>"
      ]
     },
     "metadata": {
      "needs_background": "light"
     },
     "output_type": "display_data"
    }
   ],
   "source": [
    "data.show_batch(rows=3, figsize=(10,10))"
   ]
  },
  {
   "cell_type": "markdown",
   "metadata": {
    "colab_type": "text",
    "id": "iNg_fj0m-2i0"
   },
   "source": [
    "# Miremos las imagenes"
   ]
  },
  {
   "cell_type": "markdown",
   "metadata": {
    "colab_type": "text",
    "id": "G-xLk-hlOMeB"
   },
   "source": [
    "Veamos cuántas imágenes de cada categoría tenemos. Recordar que se va a printear un poco menos, pues estamos tomando el 20% para validation set\n"
   ]
  },
  {
   "cell_type": "code",
   "execution_count": 30,
   "metadata": {
    "colab": {
     "base_uri": "https://localhost:8080/",
     "height": 173
    },
    "colab_type": "code",
    "id": "FVAaudDC39Yk",
    "outputId": "953b4857-d097-40fa-a2b4-51c82209035e",
    "scrolled": true
   },
   "outputs": [
    {
     "data": {
      "text/plain": [
       "AK        692\n",
       "BCC      2670\n",
       "BKL      2065\n",
       "DF        185\n",
       "MEL      3579\n",
       "NV      10361\n",
       "SCC       510\n",
       "VASC      203\n",
       "dtype: int64"
      ]
     },
     "execution_count": 30,
     "metadata": {},
     "output_type": "execute_result"
    }
   ],
   "source": [
    "vc = pd.value_counts(data.train_ds.y.items, sort=False)\n",
    "vc.index = data.classes; vc"
   ]
  },
  {
   "cell_type": "code",
   "execution_count": null,
   "metadata": {
    "colab": {
     "base_uri": "https://localhost:8080/",
     "height": 173
    },
    "colab_type": "code",
    "id": "fDFlHw5Gw9pX",
    "outputId": "2650b49e-fbd1-45ee-9fa6-4b67eb8814f5",
    "scrolled": true
   },
   "outputs": [],
   "source": [
    "w = vc.sum() / vc ; w = w / w.sum(); w"
   ]
  },
  {
   "cell_type": "code",
   "execution_count": null,
   "metadata": {
    "colab": {
     "base_uri": "https://localhost:8080/",
     "height": 52
    },
    "colab_type": "code",
    "id": "VfbEN1iGVZWf",
    "outputId": "c20d1691-ce60-4831-ba34-6050cd2bc51e",
    "scrolled": true
   },
   "outputs": [],
   "source": [
    "print(\"Una imagen cualquiera es: \"); \n",
    "data.train_ds[3][0].show()"
   ]
  },
  {
   "cell_type": "markdown",
   "metadata": {
    "colab_type": "text",
    "id": "myNGYWgNgtE_"
   },
   "source": [
    "Ejemplos de varias imagenes"
   ]
  },
  {
   "cell_type": "code",
   "execution_count": null,
   "metadata": {
    "colab": {},
    "colab_type": "code",
    "id": "FwHWu4BPylMM",
    "scrolled": true
   },
   "outputs": [],
   "source": [
    "data.show_batch(rows=3, figsize=(7,6))"
   ]
  },
  {
   "cell_type": "markdown",
   "metadata": {
    "colab_type": "text",
    "id": "aAXCzKgtgjfx"
   },
   "source": [
    "Veamos unas transformaciones ejemplo a una misma imagen:\n"
   ]
  },
  {
   "cell_type": "code",
   "execution_count": null,
   "metadata": {
    "colab": {
     "base_uri": "https://localhost:8080/",
     "height": 499
    },
    "colab_type": "code",
    "id": "EXTy5qaHgh4r",
    "outputId": "3adaad7b-f072-446f-d8d0-5acfd8312894",
    "scrolled": true
   },
   "outputs": [],
   "source": [
    "def _plot(i,j,ax):\n",
    "    x,y = data.train_ds[10]\n",
    "    x.show(ax, y=y)\n",
    "\n",
    "plot_multi(_plot, 3, 3, figsize=(8,8))\n"
   ]
  },
  {
   "cell_type": "code",
   "execution_count": null,
   "metadata": {
    "colab": {},
    "colab_type": "code",
    "id": "oZqR4N5iZFaY",
    "scrolled": true
   },
   "outputs": [],
   "source": [
    "print(data.classes)\n",
    "len(data.classes),data.c"
   ]
  },
  {
   "cell_type": "markdown",
   "metadata": {
    "colab_type": "text",
    "id": "kAylg-twZFaZ"
   },
   "source": [
    "# Entrenamos:\n"
   ]
  },
  {
   "cell_type": "markdown",
   "metadata": {
    "colab_type": "text",
    "heading_collapsed": true,
    "id": "8OfpifgCrlbo"
   },
   "source": [
    "## Attention"
   ]
  },
  {
   "cell_type": "code",
   "execution_count": null,
   "metadata": {
    "colab": {},
    "colab_type": "code",
    "hidden": true,
    "id": "77CD8S9Drn81",
    "scrolled": true
   },
   "outputs": [],
   "source": [
    "import types\n",
    "\n",
    "from torchvision.models.resnet import BasicBlock"
   ]
  },
  {
   "cell_type": "code",
   "execution_count": null,
   "metadata": {
    "colab": {},
    "colab_type": "code",
    "hidden": true,
    "id": "NeONXer4rqvZ",
    "scrolled": true
   },
   "outputs": [],
   "source": [
    "def attn_forward(self, x):\n",
    "        identity = x\n",
    "        out = self.conv1(x)\n",
    "        out = self.bn1(out)\n",
    "        out = self.relu(out)\n",
    "\n",
    "        out = self.conv2(out)\n",
    "        out = self.bn2(out)\n",
    "\n",
    "        if self.downsample is not None:\n",
    "            identity = self.downsample(x)\n",
    "\n",
    "        out += identity\n",
    "        out += self.softmaxLayer(identity) * self.alpha\n",
    "        out = self.relu(out)\n",
    "\n",
    "        return out\n",
    "\n",
    "def add_attn_to_forward_func(a_module):\n",
    "    a_module.forward = types.MethodType( attn_forward,a_module)\n",
    "    \n",
    "def add_attn_params(a_module):\n",
    "    a_module.softmaxLayer = nn.Softmax2d();\n",
    "    a_module.alpha = nn.Parameter(torch.ones(1) / 10000)\n",
    "    \n",
    "def change_basic_blocks(a_module):\n",
    "    if not isinstance(a_module,BasicBlock): return\n",
    "    add_attn_params(a_module)\n",
    "    add_attn_to_forward_func(a_module)"
   ]
  },
  {
   "cell_type": "code",
   "execution_count": null,
   "metadata": {
    "colab": {},
    "colab_type": "code",
    "hidden": true,
    "id": "h_QGv96UrtN4",
    "scrolled": true
   },
   "outputs": [],
   "source": [
    "resnet50_with_attn = models.resnet50()\n",
    "apply_leaf(resnet50_with_attn, change_basic_blocks)"
   ]
  },
  {
   "cell_type": "code",
   "execution_count": null,
   "metadata": {
    "colab": {},
    "colab_type": "code",
    "hidden": true,
    "id": "xTW2H0SYsa_Q",
    "scrolled": true
   },
   "outputs": [],
   "source": [
    "def mock_arch_init(params): \n",
    "  return resnet50_with_attn"
   ]
  },
  {
   "cell_type": "markdown",
   "metadata": {
    "colab_type": "text",
    "id": "22mUbAjbr7mV"
   },
   "source": [
    "## Empty Cache"
   ]
  },
  {
   "cell_type": "code",
   "execution_count": 2,
   "metadata": {},
   "outputs": [
    {
     "name": "stdout",
     "output_type": "stream",
     "text": [
      "Object `learn.destroy` not found.\n"
     ]
    }
   ],
   "source": [
    "learn.destroy??"
   ]
  },
  {
   "cell_type": "code",
   "execution_count": null,
   "metadata": {
    "colab": {
     "base_uri": "https://localhost:8080/",
     "height": 183
    },
    "colab_type": "code",
    "id": "yer3ub2sxhuN",
    "outputId": "5ecf7e9a-52a3-4745-f33c-d53836b78a20",
    "scrolled": true
   },
   "outputs": [],
   "source": [
    "del learn\n",
    "del data"
   ]
  },
  {
   "cell_type": "code",
   "execution_count": null,
   "metadata": {
    "colab": {
     "base_uri": "https://localhost:8080/",
     "height": 35
    },
    "colab_type": "code",
    "id": "pEWccFF87n6B",
    "outputId": "870852a6-4499-4fcb-cd63-096f1ce4053a",
    "scrolled": true
   },
   "outputs": [],
   "source": [
    " torch.cuda.empty_cache()\n",
    " gc.collect()"
   ]
  },
  {
   "cell_type": "code",
   "execution_count": null,
   "metadata": {},
   "outputs": [],
   "source": [
    "!export CUDA_VISIBLE_DEVICES=1"
   ]
  },
  {
   "cell_type": "code",
   "execution_count": null,
   "metadata": {
    "colab": {
     "base_uri": "https://localhost:8080/",
     "height": 294
    },
    "colab_type": "code",
    "id": "kkMhvkhP3vpv",
    "outputId": "6c59b9b8-71a8-4051-c9f8-a06502a1f598",
    "scrolled": true
   },
   "outputs": [],
   "source": [
    "!nvidia-smi"
   ]
  },
  {
   "cell_type": "markdown",
   "metadata": {
    "colab_type": "text",
    "id": "vVur41Ab7vEx"
   },
   "source": [
    "## Experiment training"
   ]
  },
  {
   "cell_type": "code",
   "execution_count": 31,
   "metadata": {
    "colab": {
     "base_uri": "https://localhost:8080/",
     "height": 330
    },
    "colab_type": "code",
    "id": "f-4pD_N17y0Q",
    "outputId": "a5b2fefe-7846-4115-ba1a-3b3b048325c9",
    "scrolled": true
   },
   "outputs": [],
   "source": [
    "xres = lambda x: xresnet50()\n",
    "\n",
    "random_seed(7,True)\n",
    "learn = cnn_learner(data,xres, \n",
    "                    metrics=[error_rate,accuracy],\n",
    "                    callback_fns=[\n",
    "                            ShowGraph,\n",
    "                            ActivationStats\n",
    "                                  ], \n",
    "                    \n",
    "                    model_dir='./',\n",
    "                    pretrained=False\n",
    "                    )"
   ]
  },
  {
   "cell_type": "code",
   "execution_count": 32,
   "metadata": {},
   "outputs": [
    {
     "data": {
      "text/html": [
       "\n",
       "    <div>\n",
       "        <style>\n",
       "            /* Turns off some styling */\n",
       "            progress {\n",
       "                /* gets rid of default border in Firefox and Opera. */\n",
       "                border: none;\n",
       "                /* Needs to be in here for Safari polyfill so background images work as expected. */\n",
       "                background-size: auto;\n",
       "            }\n",
       "            .progress-bar-interrupted, .progress-bar-interrupted::-webkit-progress-bar {\n",
       "                background: #F44336;\n",
       "            }\n",
       "        </style>\n",
       "      <progress value='0' class='' max='4', style='width:300px; height:20px; vertical-align: middle;'></progress>\n",
       "      0.00% [0/4 00:00<00:00]\n",
       "    </div>\n",
       "    \n",
       "<table border=\"1\" class=\"dataframe\">\n",
       "  <thead>\n",
       "    <tr style=\"text-align: left;\">\n",
       "      <th>epoch</th>\n",
       "      <th>train_loss</th>\n",
       "      <th>valid_loss</th>\n",
       "      <th>error_rate</th>\n",
       "      <th>accuracy</th>\n",
       "      <th>time</th>\n",
       "    </tr>\n",
       "  </thead>\n",
       "  <tbody>\n",
       "  </tbody>\n",
       "</table><p>\n",
       "\n",
       "    <div>\n",
       "        <style>\n",
       "            /* Turns off some styling */\n",
       "            progress {\n",
       "                /* gets rid of default border in Firefox and Opera. */\n",
       "                border: none;\n",
       "                /* Needs to be in here for Safari polyfill so background images work as expected. */\n",
       "                background-size: auto;\n",
       "            }\n",
       "            .progress-bar-interrupted, .progress-bar-interrupted::-webkit-progress-bar {\n",
       "                background: #F44336;\n",
       "            }\n",
       "        </style>\n",
       "      <progress value='0' class='progress-bar-interrupted' max='633', style='width:300px; height:20px; vertical-align: middle;'></progress>\n",
       "      Interrupted\n",
       "    </div>\n",
       "    "
      ],
      "text/plain": [
       "<IPython.core.display.HTML object>"
      ]
     },
     "metadata": {},
     "output_type": "display_data"
    },
    {
     "ename": "RuntimeError",
     "evalue": "number of dims don't match in permute",
     "output_type": "error",
     "traceback": [
      "\u001b[0;31m---------------------------------------------------------------------------\u001b[0m",
      "\u001b[0;31mRuntimeError\u001b[0m                              Traceback (most recent call last)",
      "\u001b[0;32m~/.local/lib/python3.7/site-packages/fastai/basic_train.py\u001b[0m in \u001b[0;36mfit\u001b[0;34m(epochs, learn, callbacks, metrics)\u001b[0m\n\u001b[1;32m    100\u001b[0m                 \u001b[0mxb\u001b[0m\u001b[0;34m,\u001b[0m \u001b[0myb\u001b[0m \u001b[0;34m=\u001b[0m \u001b[0mcb_handler\u001b[0m\u001b[0;34m.\u001b[0m\u001b[0mon_batch_begin\u001b[0m\u001b[0;34m(\u001b[0m\u001b[0mxb\u001b[0m\u001b[0;34m,\u001b[0m \u001b[0myb\u001b[0m\u001b[0;34m)\u001b[0m\u001b[0;34m\u001b[0m\u001b[0;34m\u001b[0m\u001b[0m\n\u001b[0;32m--> 101\u001b[0;31m                 \u001b[0mloss\u001b[0m \u001b[0;34m=\u001b[0m \u001b[0mloss_batch\u001b[0m\u001b[0;34m(\u001b[0m\u001b[0mlearn\u001b[0m\u001b[0;34m.\u001b[0m\u001b[0mmodel\u001b[0m\u001b[0;34m,\u001b[0m \u001b[0mxb\u001b[0m\u001b[0;34m,\u001b[0m \u001b[0myb\u001b[0m\u001b[0;34m,\u001b[0m \u001b[0mlearn\u001b[0m\u001b[0;34m.\u001b[0m\u001b[0mloss_func\u001b[0m\u001b[0;34m,\u001b[0m \u001b[0mlearn\u001b[0m\u001b[0;34m.\u001b[0m\u001b[0mopt\u001b[0m\u001b[0;34m,\u001b[0m \u001b[0mcb_handler\u001b[0m\u001b[0;34m)\u001b[0m\u001b[0;34m\u001b[0m\u001b[0;34m\u001b[0m\u001b[0m\n\u001b[0m\u001b[1;32m    102\u001b[0m                 \u001b[0;32mif\u001b[0m \u001b[0mcb_handler\u001b[0m\u001b[0;34m.\u001b[0m\u001b[0mon_batch_end\u001b[0m\u001b[0;34m(\u001b[0m\u001b[0mloss\u001b[0m\u001b[0;34m)\u001b[0m\u001b[0;34m:\u001b[0m \u001b[0;32mbreak\u001b[0m\u001b[0;34m\u001b[0m\u001b[0;34m\u001b[0m\u001b[0m\n",
      "\u001b[0;32m~/.local/lib/python3.7/site-packages/fastai/basic_train.py\u001b[0m in \u001b[0;36mloss_batch\u001b[0;34m(model, xb, yb, loss_func, opt, cb_handler)\u001b[0m\n\u001b[1;32m     25\u001b[0m     \u001b[0;32mif\u001b[0m \u001b[0;32mnot\u001b[0m \u001b[0mis_listy\u001b[0m\u001b[0;34m(\u001b[0m\u001b[0myb\u001b[0m\u001b[0;34m)\u001b[0m\u001b[0;34m:\u001b[0m \u001b[0myb\u001b[0m \u001b[0;34m=\u001b[0m \u001b[0;34m[\u001b[0m\u001b[0myb\u001b[0m\u001b[0;34m]\u001b[0m\u001b[0;34m\u001b[0m\u001b[0;34m\u001b[0m\u001b[0m\n\u001b[0;32m---> 26\u001b[0;31m     \u001b[0mout\u001b[0m \u001b[0;34m=\u001b[0m \u001b[0mmodel\u001b[0m\u001b[0;34m(\u001b[0m\u001b[0;34m*\u001b[0m\u001b[0mxb\u001b[0m\u001b[0;34m)\u001b[0m\u001b[0;34m\u001b[0m\u001b[0;34m\u001b[0m\u001b[0m\n\u001b[0m\u001b[1;32m     27\u001b[0m     \u001b[0mout\u001b[0m \u001b[0;34m=\u001b[0m \u001b[0mcb_handler\u001b[0m\u001b[0;34m.\u001b[0m\u001b[0mon_loss_begin\u001b[0m\u001b[0;34m(\u001b[0m\u001b[0mout\u001b[0m\u001b[0;34m)\u001b[0m\u001b[0;34m\u001b[0m\u001b[0;34m\u001b[0m\u001b[0m\n",
      "\u001b[0;32m~/miniconda3/lib/python3.7/site-packages/torch/nn/modules/module.py\u001b[0m in \u001b[0;36m__call__\u001b[0;34m(self, *input, **kwargs)\u001b[0m\n\u001b[1;32m    540\u001b[0m         \u001b[0;32melse\u001b[0m\u001b[0;34m:\u001b[0m\u001b[0;34m\u001b[0m\u001b[0;34m\u001b[0m\u001b[0m\n\u001b[0;32m--> 541\u001b[0;31m             \u001b[0mresult\u001b[0m \u001b[0;34m=\u001b[0m \u001b[0mself\u001b[0m\u001b[0;34m.\u001b[0m\u001b[0mforward\u001b[0m\u001b[0;34m(\u001b[0m\u001b[0;34m*\u001b[0m\u001b[0minput\u001b[0m\u001b[0;34m,\u001b[0m \u001b[0;34m**\u001b[0m\u001b[0mkwargs\u001b[0m\u001b[0;34m)\u001b[0m\u001b[0;34m\u001b[0m\u001b[0;34m\u001b[0m\u001b[0m\n\u001b[0m\u001b[1;32m    542\u001b[0m         \u001b[0;32mfor\u001b[0m \u001b[0mhook\u001b[0m \u001b[0;32min\u001b[0m \u001b[0mself\u001b[0m\u001b[0;34m.\u001b[0m\u001b[0m_forward_hooks\u001b[0m\u001b[0;34m.\u001b[0m\u001b[0mvalues\u001b[0m\u001b[0;34m(\u001b[0m\u001b[0;34m)\u001b[0m\u001b[0;34m:\u001b[0m\u001b[0;34m\u001b[0m\u001b[0;34m\u001b[0m\u001b[0m\n",
      "\u001b[0;32m~/miniconda3/lib/python3.7/site-packages/torch/nn/modules/container.py\u001b[0m in \u001b[0;36mforward\u001b[0;34m(self, input)\u001b[0m\n\u001b[1;32m     91\u001b[0m         \u001b[0;32mfor\u001b[0m \u001b[0mmodule\u001b[0m \u001b[0;32min\u001b[0m \u001b[0mself\u001b[0m\u001b[0;34m.\u001b[0m\u001b[0m_modules\u001b[0m\u001b[0;34m.\u001b[0m\u001b[0mvalues\u001b[0m\u001b[0;34m(\u001b[0m\u001b[0;34m)\u001b[0m\u001b[0;34m:\u001b[0m\u001b[0;34m\u001b[0m\u001b[0;34m\u001b[0m\u001b[0m\n\u001b[0;32m---> 92\u001b[0;31m             \u001b[0minput\u001b[0m \u001b[0;34m=\u001b[0m \u001b[0mmodule\u001b[0m\u001b[0;34m(\u001b[0m\u001b[0minput\u001b[0m\u001b[0;34m)\u001b[0m\u001b[0;34m\u001b[0m\u001b[0;34m\u001b[0m\u001b[0m\n\u001b[0m\u001b[1;32m     93\u001b[0m         \u001b[0;32mreturn\u001b[0m \u001b[0minput\u001b[0m\u001b[0;34m\u001b[0m\u001b[0;34m\u001b[0m\u001b[0m\n",
      "\u001b[0;32m~/miniconda3/lib/python3.7/site-packages/torch/nn/modules/module.py\u001b[0m in \u001b[0;36m__call__\u001b[0;34m(self, *input, **kwargs)\u001b[0m\n\u001b[1;32m    540\u001b[0m         \u001b[0;32melse\u001b[0m\u001b[0;34m:\u001b[0m\u001b[0;34m\u001b[0m\u001b[0;34m\u001b[0m\u001b[0m\n\u001b[0;32m--> 541\u001b[0;31m             \u001b[0mresult\u001b[0m \u001b[0;34m=\u001b[0m \u001b[0mself\u001b[0m\u001b[0;34m.\u001b[0m\u001b[0mforward\u001b[0m\u001b[0;34m(\u001b[0m\u001b[0;34m*\u001b[0m\u001b[0minput\u001b[0m\u001b[0;34m,\u001b[0m \u001b[0;34m**\u001b[0m\u001b[0mkwargs\u001b[0m\u001b[0;34m)\u001b[0m\u001b[0;34m\u001b[0m\u001b[0;34m\u001b[0m\u001b[0m\n\u001b[0m\u001b[1;32m    542\u001b[0m         \u001b[0;32mfor\u001b[0m \u001b[0mhook\u001b[0m \u001b[0;32min\u001b[0m \u001b[0mself\u001b[0m\u001b[0;34m.\u001b[0m\u001b[0m_forward_hooks\u001b[0m\u001b[0;34m.\u001b[0m\u001b[0mvalues\u001b[0m\u001b[0;34m(\u001b[0m\u001b[0;34m)\u001b[0m\u001b[0;34m:\u001b[0m\u001b[0;34m\u001b[0m\u001b[0;34m\u001b[0m\u001b[0m\n",
      "\u001b[0;32m~/miniconda3/lib/python3.7/site-packages/torch/nn/modules/container.py\u001b[0m in \u001b[0;36mforward\u001b[0;34m(self, input)\u001b[0m\n\u001b[1;32m     91\u001b[0m         \u001b[0;32mfor\u001b[0m \u001b[0mmodule\u001b[0m \u001b[0;32min\u001b[0m \u001b[0mself\u001b[0m\u001b[0;34m.\u001b[0m\u001b[0m_modules\u001b[0m\u001b[0;34m.\u001b[0m\u001b[0mvalues\u001b[0m\u001b[0;34m(\u001b[0m\u001b[0;34m)\u001b[0m\u001b[0;34m:\u001b[0m\u001b[0;34m\u001b[0m\u001b[0;34m\u001b[0m\u001b[0m\n\u001b[0;32m---> 92\u001b[0;31m             \u001b[0minput\u001b[0m \u001b[0;34m=\u001b[0m \u001b[0mmodule\u001b[0m\u001b[0;34m(\u001b[0m\u001b[0minput\u001b[0m\u001b[0;34m)\u001b[0m\u001b[0;34m\u001b[0m\u001b[0;34m\u001b[0m\u001b[0m\n\u001b[0m\u001b[1;32m     93\u001b[0m         \u001b[0;32mreturn\u001b[0m \u001b[0minput\u001b[0m\u001b[0;34m\u001b[0m\u001b[0;34m\u001b[0m\u001b[0m\n",
      "\u001b[0;32m~/miniconda3/lib/python3.7/site-packages/torch/nn/modules/module.py\u001b[0m in \u001b[0;36m__call__\u001b[0;34m(self, *input, **kwargs)\u001b[0m\n\u001b[1;32m    540\u001b[0m         \u001b[0;32melse\u001b[0m\u001b[0;34m:\u001b[0m\u001b[0;34m\u001b[0m\u001b[0;34m\u001b[0m\u001b[0m\n\u001b[0;32m--> 541\u001b[0;31m             \u001b[0mresult\u001b[0m \u001b[0;34m=\u001b[0m \u001b[0mself\u001b[0m\u001b[0;34m.\u001b[0m\u001b[0mforward\u001b[0m\u001b[0;34m(\u001b[0m\u001b[0;34m*\u001b[0m\u001b[0minput\u001b[0m\u001b[0;34m,\u001b[0m \u001b[0;34m**\u001b[0m\u001b[0mkwargs\u001b[0m\u001b[0;34m)\u001b[0m\u001b[0;34m\u001b[0m\u001b[0;34m\u001b[0m\u001b[0m\n\u001b[0m\u001b[1;32m    542\u001b[0m         \u001b[0;32mfor\u001b[0m \u001b[0mhook\u001b[0m \u001b[0;32min\u001b[0m \u001b[0mself\u001b[0m\u001b[0;34m.\u001b[0m\u001b[0m_forward_hooks\u001b[0m\u001b[0;34m.\u001b[0m\u001b[0mvalues\u001b[0m\u001b[0;34m(\u001b[0m\u001b[0;34m)\u001b[0m\u001b[0;34m:\u001b[0m\u001b[0;34m\u001b[0m\u001b[0;34m\u001b[0m\u001b[0m\n",
      "\u001b[0;32m~/miniconda3/lib/python3.7/site-packages/torch/nn/modules/container.py\u001b[0m in \u001b[0;36mforward\u001b[0;34m(self, input)\u001b[0m\n\u001b[1;32m     91\u001b[0m         \u001b[0;32mfor\u001b[0m \u001b[0mmodule\u001b[0m \u001b[0;32min\u001b[0m \u001b[0mself\u001b[0m\u001b[0;34m.\u001b[0m\u001b[0m_modules\u001b[0m\u001b[0;34m.\u001b[0m\u001b[0mvalues\u001b[0m\u001b[0;34m(\u001b[0m\u001b[0;34m)\u001b[0m\u001b[0;34m:\u001b[0m\u001b[0;34m\u001b[0m\u001b[0;34m\u001b[0m\u001b[0m\n\u001b[0;32m---> 92\u001b[0;31m             \u001b[0minput\u001b[0m \u001b[0;34m=\u001b[0m \u001b[0mmodule\u001b[0m\u001b[0;34m(\u001b[0m\u001b[0minput\u001b[0m\u001b[0;34m)\u001b[0m\u001b[0;34m\u001b[0m\u001b[0;34m\u001b[0m\u001b[0m\n\u001b[0m\u001b[1;32m     93\u001b[0m         \u001b[0;32mreturn\u001b[0m \u001b[0minput\u001b[0m\u001b[0;34m\u001b[0m\u001b[0;34m\u001b[0m\u001b[0m\n",
      "\u001b[0;32m~/miniconda3/lib/python3.7/site-packages/torch/nn/modules/module.py\u001b[0m in \u001b[0;36m__call__\u001b[0;34m(self, *input, **kwargs)\u001b[0m\n\u001b[1;32m    540\u001b[0m         \u001b[0;32melse\u001b[0m\u001b[0;34m:\u001b[0m\u001b[0;34m\u001b[0m\u001b[0;34m\u001b[0m\u001b[0m\n\u001b[0;32m--> 541\u001b[0;31m             \u001b[0mresult\u001b[0m \u001b[0;34m=\u001b[0m \u001b[0mself\u001b[0m\u001b[0;34m.\u001b[0m\u001b[0mforward\u001b[0m\u001b[0;34m(\u001b[0m\u001b[0;34m*\u001b[0m\u001b[0minput\u001b[0m\u001b[0;34m,\u001b[0m \u001b[0;34m**\u001b[0m\u001b[0mkwargs\u001b[0m\u001b[0;34m)\u001b[0m\u001b[0;34m\u001b[0m\u001b[0;34m\u001b[0m\u001b[0m\n\u001b[0m\u001b[1;32m    542\u001b[0m         \u001b[0;32mfor\u001b[0m \u001b[0mhook\u001b[0m \u001b[0;32min\u001b[0m \u001b[0mself\u001b[0m\u001b[0;34m.\u001b[0m\u001b[0m_forward_hooks\u001b[0m\u001b[0;34m.\u001b[0m\u001b[0mvalues\u001b[0m\u001b[0;34m(\u001b[0m\u001b[0;34m)\u001b[0m\u001b[0;34m:\u001b[0m\u001b[0;34m\u001b[0m\u001b[0;34m\u001b[0m\u001b[0m\n",
      "\u001b[0;32m<ipython-input-5-cf89b10dc831>\u001b[0m in \u001b[0;36mforward\u001b[0;34m(self, x)\u001b[0m\n\u001b[1;32m     16\u001b[0m \u001b[0;34m\u001b[0m\u001b[0m\n\u001b[0;32m---> 17\u001b[0;31m     \u001b[0;32mdef\u001b[0m \u001b[0mforward\u001b[0m\u001b[0;34m(\u001b[0m\u001b[0mself\u001b[0m\u001b[0;34m,\u001b[0m \u001b[0mx\u001b[0m\u001b[0;34m)\u001b[0m\u001b[0;34m:\u001b[0m \u001b[0;32mreturn\u001b[0m \u001b[0mact_fn\u001b[0m\u001b[0;34m(\u001b[0m\u001b[0mself\u001b[0m\u001b[0;34m.\u001b[0m\u001b[0mconvs\u001b[0m\u001b[0;34m(\u001b[0m\u001b[0mx\u001b[0m\u001b[0;34m)\u001b[0m \u001b[0;34m+\u001b[0m \u001b[0mself\u001b[0m\u001b[0;34m.\u001b[0m\u001b[0midconv\u001b[0m\u001b[0;34m(\u001b[0m\u001b[0mself\u001b[0m\u001b[0;34m.\u001b[0m\u001b[0mpool\u001b[0m\u001b[0;34m(\u001b[0m\u001b[0mx\u001b[0m\u001b[0;34m)\u001b[0m\u001b[0;34m)\u001b[0m\u001b[0;34m)\u001b[0m\u001b[0;34m\u001b[0m\u001b[0;34m\u001b[0m\u001b[0m\n\u001b[0m",
      "\u001b[0;32m~/miniconda3/lib/python3.7/site-packages/torch/nn/modules/module.py\u001b[0m in \u001b[0;36m__call__\u001b[0;34m(self, *input, **kwargs)\u001b[0m\n\u001b[1;32m    540\u001b[0m         \u001b[0;32melse\u001b[0m\u001b[0;34m:\u001b[0m\u001b[0;34m\u001b[0m\u001b[0;34m\u001b[0m\u001b[0m\n\u001b[0;32m--> 541\u001b[0;31m             \u001b[0mresult\u001b[0m \u001b[0;34m=\u001b[0m \u001b[0mself\u001b[0m\u001b[0;34m.\u001b[0m\u001b[0mforward\u001b[0m\u001b[0;34m(\u001b[0m\u001b[0;34m*\u001b[0m\u001b[0minput\u001b[0m\u001b[0;34m,\u001b[0m \u001b[0;34m**\u001b[0m\u001b[0mkwargs\u001b[0m\u001b[0;34m)\u001b[0m\u001b[0;34m\u001b[0m\u001b[0;34m\u001b[0m\u001b[0m\n\u001b[0m\u001b[1;32m    542\u001b[0m         \u001b[0;32mfor\u001b[0m \u001b[0mhook\u001b[0m \u001b[0;32min\u001b[0m \u001b[0mself\u001b[0m\u001b[0;34m.\u001b[0m\u001b[0m_forward_hooks\u001b[0m\u001b[0;34m.\u001b[0m\u001b[0mvalues\u001b[0m\u001b[0;34m(\u001b[0m\u001b[0;34m)\u001b[0m\u001b[0;34m:\u001b[0m\u001b[0;34m\u001b[0m\u001b[0;34m\u001b[0m\u001b[0m\n",
      "\u001b[0;32m~/miniconda3/lib/python3.7/site-packages/torch/nn/modules/container.py\u001b[0m in \u001b[0;36mforward\u001b[0;34m(self, input)\u001b[0m\n\u001b[1;32m     91\u001b[0m         \u001b[0;32mfor\u001b[0m \u001b[0mmodule\u001b[0m \u001b[0;32min\u001b[0m \u001b[0mself\u001b[0m\u001b[0;34m.\u001b[0m\u001b[0m_modules\u001b[0m\u001b[0;34m.\u001b[0m\u001b[0mvalues\u001b[0m\u001b[0;34m(\u001b[0m\u001b[0;34m)\u001b[0m\u001b[0;34m:\u001b[0m\u001b[0;34m\u001b[0m\u001b[0;34m\u001b[0m\u001b[0m\n\u001b[0;32m---> 92\u001b[0;31m             \u001b[0minput\u001b[0m \u001b[0;34m=\u001b[0m \u001b[0mmodule\u001b[0m\u001b[0;34m(\u001b[0m\u001b[0minput\u001b[0m\u001b[0;34m)\u001b[0m\u001b[0;34m\u001b[0m\u001b[0;34m\u001b[0m\u001b[0m\n\u001b[0m\u001b[1;32m     93\u001b[0m         \u001b[0;32mreturn\u001b[0m \u001b[0minput\u001b[0m\u001b[0;34m\u001b[0m\u001b[0;34m\u001b[0m\u001b[0m\n",
      "\u001b[0;32m~/miniconda3/lib/python3.7/site-packages/torch/nn/modules/module.py\u001b[0m in \u001b[0;36m__call__\u001b[0;34m(self, *input, **kwargs)\u001b[0m\n\u001b[1;32m    540\u001b[0m         \u001b[0;32melse\u001b[0m\u001b[0;34m:\u001b[0m\u001b[0;34m\u001b[0m\u001b[0;34m\u001b[0m\u001b[0m\n\u001b[0;32m--> 541\u001b[0;31m             \u001b[0mresult\u001b[0m \u001b[0;34m=\u001b[0m \u001b[0mself\u001b[0m\u001b[0;34m.\u001b[0m\u001b[0mforward\u001b[0m\u001b[0;34m(\u001b[0m\u001b[0;34m*\u001b[0m\u001b[0minput\u001b[0m\u001b[0;34m,\u001b[0m \u001b[0;34m**\u001b[0m\u001b[0mkwargs\u001b[0m\u001b[0;34m)\u001b[0m\u001b[0;34m\u001b[0m\u001b[0;34m\u001b[0m\u001b[0m\n\u001b[0m\u001b[1;32m    542\u001b[0m         \u001b[0;32mfor\u001b[0m \u001b[0mhook\u001b[0m \u001b[0;32min\u001b[0m \u001b[0mself\u001b[0m\u001b[0;34m.\u001b[0m\u001b[0m_forward_hooks\u001b[0m\u001b[0;34m.\u001b[0m\u001b[0mvalues\u001b[0m\u001b[0;34m(\u001b[0m\u001b[0;34m)\u001b[0m\u001b[0;34m:\u001b[0m\u001b[0;34m\u001b[0m\u001b[0;34m\u001b[0m\u001b[0m\n",
      "\u001b[0;32m~/miniconda3/lib/python3.7/site-packages/torch/nn/modules/container.py\u001b[0m in \u001b[0;36mforward\u001b[0;34m(self, input)\u001b[0m\n\u001b[1;32m     91\u001b[0m         \u001b[0;32mfor\u001b[0m \u001b[0mmodule\u001b[0m \u001b[0;32min\u001b[0m \u001b[0mself\u001b[0m\u001b[0;34m.\u001b[0m\u001b[0m_modules\u001b[0m\u001b[0;34m.\u001b[0m\u001b[0mvalues\u001b[0m\u001b[0;34m(\u001b[0m\u001b[0;34m)\u001b[0m\u001b[0;34m:\u001b[0m\u001b[0;34m\u001b[0m\u001b[0;34m\u001b[0m\u001b[0m\n\u001b[0;32m---> 92\u001b[0;31m             \u001b[0minput\u001b[0m \u001b[0;34m=\u001b[0m \u001b[0mmodule\u001b[0m\u001b[0;34m(\u001b[0m\u001b[0minput\u001b[0m\u001b[0;34m)\u001b[0m\u001b[0;34m\u001b[0m\u001b[0;34m\u001b[0m\u001b[0m\n\u001b[0m\u001b[1;32m     93\u001b[0m         \u001b[0;32mreturn\u001b[0m \u001b[0minput\u001b[0m\u001b[0;34m\u001b[0m\u001b[0;34m\u001b[0m\u001b[0m\n",
      "\u001b[0;32m~/miniconda3/lib/python3.7/site-packages/torch/nn/modules/module.py\u001b[0m in \u001b[0;36m__call__\u001b[0;34m(self, *input, **kwargs)\u001b[0m\n\u001b[1;32m    540\u001b[0m         \u001b[0;32melse\u001b[0m\u001b[0;34m:\u001b[0m\u001b[0;34m\u001b[0m\u001b[0;34m\u001b[0m\u001b[0m\n\u001b[0;32m--> 541\u001b[0;31m             \u001b[0mresult\u001b[0m \u001b[0;34m=\u001b[0m \u001b[0mself\u001b[0m\u001b[0;34m.\u001b[0m\u001b[0mforward\u001b[0m\u001b[0;34m(\u001b[0m\u001b[0;34m*\u001b[0m\u001b[0minput\u001b[0m\u001b[0;34m,\u001b[0m \u001b[0;34m**\u001b[0m\u001b[0mkwargs\u001b[0m\u001b[0;34m)\u001b[0m\u001b[0;34m\u001b[0m\u001b[0;34m\u001b[0m\u001b[0m\n\u001b[0m\u001b[1;32m    542\u001b[0m         \u001b[0;32mfor\u001b[0m \u001b[0mhook\u001b[0m \u001b[0;32min\u001b[0m \u001b[0mself\u001b[0m\u001b[0;34m.\u001b[0m\u001b[0m_forward_hooks\u001b[0m\u001b[0;34m.\u001b[0m\u001b[0mvalues\u001b[0m\u001b[0;34m(\u001b[0m\u001b[0;34m)\u001b[0m\u001b[0;34m:\u001b[0m\u001b[0;34m\u001b[0m\u001b[0;34m\u001b[0m\u001b[0m\n",
      "\u001b[0;32m~/miniconda3/lib/python3.7/site-packages/torch/nn/modules/conv.py\u001b[0m in \u001b[0;36mforward\u001b[0;34m(self, input)\u001b[0m\n\u001b[1;32m    344\u001b[0m     \u001b[0;32mdef\u001b[0m \u001b[0mforward\u001b[0m\u001b[0;34m(\u001b[0m\u001b[0mself\u001b[0m\u001b[0;34m,\u001b[0m \u001b[0minput\u001b[0m\u001b[0;34m)\u001b[0m\u001b[0;34m:\u001b[0m\u001b[0;34m\u001b[0m\u001b[0;34m\u001b[0m\u001b[0m\n\u001b[0;32m--> 345\u001b[0;31m         \u001b[0;32mreturn\u001b[0m \u001b[0mself\u001b[0m\u001b[0;34m.\u001b[0m\u001b[0mconv2d_forward\u001b[0m\u001b[0;34m(\u001b[0m\u001b[0minput\u001b[0m\u001b[0;34m,\u001b[0m \u001b[0mself\u001b[0m\u001b[0;34m.\u001b[0m\u001b[0mweight\u001b[0m\u001b[0;34m)\u001b[0m\u001b[0;34m\u001b[0m\u001b[0;34m\u001b[0m\u001b[0m\n\u001b[0m\u001b[1;32m    346\u001b[0m \u001b[0;34m\u001b[0m\u001b[0m\n",
      "\u001b[0;32m~/miniconda3/lib/python3.7/site-packages/torch/nn/modules/conv.py\u001b[0m in \u001b[0;36mconv2d_forward\u001b[0;34m(self, input, weight)\u001b[0m\n\u001b[1;32m    341\u001b[0m         return F.conv2d(input, weight, self.bias, self.stride,\n\u001b[0;32m--> 342\u001b[0;31m                         self.padding, self.dilation, self.groups)\n\u001b[0m\u001b[1;32m    343\u001b[0m \u001b[0;34m\u001b[0m\u001b[0m\n",
      "\u001b[0;31mRuntimeError\u001b[0m: CUDA out of memory. Tried to allocate 62.00 MiB (GPU 0; 10.92 GiB total capacity; 6.35 GiB already allocated; 19.19 MiB free; 93.23 MiB cached)",
      "\nDuring handling of the above exception, another exception occurred:\n",
      "\u001b[0;31mRuntimeError\u001b[0m                              Traceback (most recent call last)",
      "\u001b[0;32m<ipython-input-32-dd5ee852511d>\u001b[0m in \u001b[0;36m<module>\u001b[0;34m\u001b[0m\n\u001b[1;32m      3\u001b[0m                     \u001b[0mmax_lr\u001b[0m\u001b[0;34m=\u001b[0m\u001b[0;36m1e-3\u001b[0m\u001b[0;34m,\u001b[0m\u001b[0;34m\u001b[0m\u001b[0;34m\u001b[0m\u001b[0m\n\u001b[1;32m      4\u001b[0m                     callbacks = [\n\u001b[0;32m----> 5\u001b[0;31m                                  \u001b[0mSaveModelCallback\u001b[0m\u001b[0;34m(\u001b[0m\u001b[0mlearn\u001b[0m\u001b[0;34m=\u001b[0m\u001b[0mlearn\u001b[0m\u001b[0;34m)\u001b[0m\u001b[0;34m\u001b[0m\u001b[0;34m\u001b[0m\u001b[0m\n\u001b[0m\u001b[1;32m      6\u001b[0m \u001b[0;31m#                                 ReduceLROnPlateauCallback(learn=learn)\u001b[0m\u001b[0;34m\u001b[0m\u001b[0;34m\u001b[0m\u001b[0;34m\u001b[0m\u001b[0m\n\u001b[1;32m      7\u001b[0m \u001b[0;34m\u001b[0m\u001b[0m\n",
      "\u001b[0;32m~/.local/lib/python3.7/site-packages/fastai/train.py\u001b[0m in \u001b[0;36mfit_one_cycle\u001b[0;34m(learn, cyc_len, max_lr, moms, div_factor, pct_start, final_div, wd, callbacks, tot_epochs, start_epoch)\u001b[0m\n\u001b[1;32m     21\u001b[0m     callbacks.append(OneCycleScheduler(learn, max_lr, moms=moms, div_factor=div_factor, pct_start=pct_start,\n\u001b[1;32m     22\u001b[0m                                        final_div=final_div, tot_epochs=tot_epochs, start_epoch=start_epoch))\n\u001b[0;32m---> 23\u001b[0;31m     \u001b[0mlearn\u001b[0m\u001b[0;34m.\u001b[0m\u001b[0mfit\u001b[0m\u001b[0;34m(\u001b[0m\u001b[0mcyc_len\u001b[0m\u001b[0;34m,\u001b[0m \u001b[0mmax_lr\u001b[0m\u001b[0;34m,\u001b[0m \u001b[0mwd\u001b[0m\u001b[0;34m=\u001b[0m\u001b[0mwd\u001b[0m\u001b[0;34m,\u001b[0m \u001b[0mcallbacks\u001b[0m\u001b[0;34m=\u001b[0m\u001b[0mcallbacks\u001b[0m\u001b[0;34m)\u001b[0m\u001b[0;34m\u001b[0m\u001b[0;34m\u001b[0m\u001b[0m\n\u001b[0m\u001b[1;32m     24\u001b[0m \u001b[0;34m\u001b[0m\u001b[0m\n\u001b[1;32m     25\u001b[0m def fit_fc(learn:Learner, tot_epochs:int=1, lr:float=defaults.lr,  moms:Tuple[float,float]=(0.95,0.85), start_pct:float=0.72,\n",
      "\u001b[0;32m~/.local/lib/python3.7/site-packages/fastai/basic_train.py\u001b[0m in \u001b[0;36mfit\u001b[0;34m(self, epochs, lr, wd, callbacks)\u001b[0m\n\u001b[1;32m    198\u001b[0m         \u001b[0;32melse\u001b[0m\u001b[0;34m:\u001b[0m \u001b[0mself\u001b[0m\u001b[0;34m.\u001b[0m\u001b[0mopt\u001b[0m\u001b[0;34m.\u001b[0m\u001b[0mlr\u001b[0m\u001b[0;34m,\u001b[0m\u001b[0mself\u001b[0m\u001b[0;34m.\u001b[0m\u001b[0mopt\u001b[0m\u001b[0;34m.\u001b[0m\u001b[0mwd\u001b[0m \u001b[0;34m=\u001b[0m \u001b[0mlr\u001b[0m\u001b[0;34m,\u001b[0m\u001b[0mwd\u001b[0m\u001b[0;34m\u001b[0m\u001b[0;34m\u001b[0m\u001b[0m\n\u001b[1;32m    199\u001b[0m         \u001b[0mcallbacks\u001b[0m \u001b[0;34m=\u001b[0m \u001b[0;34m[\u001b[0m\u001b[0mcb\u001b[0m\u001b[0;34m(\u001b[0m\u001b[0mself\u001b[0m\u001b[0;34m)\u001b[0m \u001b[0;32mfor\u001b[0m \u001b[0mcb\u001b[0m \u001b[0;32min\u001b[0m \u001b[0mself\u001b[0m\u001b[0;34m.\u001b[0m\u001b[0mcallback_fns\u001b[0m \u001b[0;34m+\u001b[0m \u001b[0mlistify\u001b[0m\u001b[0;34m(\u001b[0m\u001b[0mdefaults\u001b[0m\u001b[0;34m.\u001b[0m\u001b[0mextra_callback_fns\u001b[0m\u001b[0;34m)\u001b[0m\u001b[0;34m]\u001b[0m \u001b[0;34m+\u001b[0m \u001b[0mlistify\u001b[0m\u001b[0;34m(\u001b[0m\u001b[0mcallbacks\u001b[0m\u001b[0;34m)\u001b[0m\u001b[0;34m\u001b[0m\u001b[0;34m\u001b[0m\u001b[0m\n\u001b[0;32m--> 200\u001b[0;31m         \u001b[0mfit\u001b[0m\u001b[0;34m(\u001b[0m\u001b[0mepochs\u001b[0m\u001b[0;34m,\u001b[0m \u001b[0mself\u001b[0m\u001b[0;34m,\u001b[0m \u001b[0mmetrics\u001b[0m\u001b[0;34m=\u001b[0m\u001b[0mself\u001b[0m\u001b[0;34m.\u001b[0m\u001b[0mmetrics\u001b[0m\u001b[0;34m,\u001b[0m \u001b[0mcallbacks\u001b[0m\u001b[0;34m=\u001b[0m\u001b[0mself\u001b[0m\u001b[0;34m.\u001b[0m\u001b[0mcallbacks\u001b[0m\u001b[0;34m+\u001b[0m\u001b[0mcallbacks\u001b[0m\u001b[0;34m)\u001b[0m\u001b[0;34m\u001b[0m\u001b[0;34m\u001b[0m\u001b[0m\n\u001b[0m\u001b[1;32m    201\u001b[0m \u001b[0;34m\u001b[0m\u001b[0m\n\u001b[1;32m    202\u001b[0m     \u001b[0;32mdef\u001b[0m \u001b[0mcreate_opt\u001b[0m\u001b[0;34m(\u001b[0m\u001b[0mself\u001b[0m\u001b[0;34m,\u001b[0m \u001b[0mlr\u001b[0m\u001b[0;34m:\u001b[0m\u001b[0mFloats\u001b[0m\u001b[0;34m,\u001b[0m \u001b[0mwd\u001b[0m\u001b[0;34m:\u001b[0m\u001b[0mFloats\u001b[0m\u001b[0;34m=\u001b[0m\u001b[0;36m0.\u001b[0m\u001b[0;34m)\u001b[0m\u001b[0;34m->\u001b[0m\u001b[0;32mNone\u001b[0m\u001b[0;34m:\u001b[0m\u001b[0;34m\u001b[0m\u001b[0;34m\u001b[0m\u001b[0m\n",
      "\u001b[0;32m~/.local/lib/python3.7/site-packages/fastai/basic_train.py\u001b[0m in \u001b[0;36mfit\u001b[0;34m(epochs, learn, callbacks, metrics)\u001b[0m\n\u001b[1;32m    110\u001b[0m         \u001b[0mexception\u001b[0m \u001b[0;34m=\u001b[0m \u001b[0me\u001b[0m\u001b[0;34m\u001b[0m\u001b[0;34m\u001b[0m\u001b[0m\n\u001b[1;32m    111\u001b[0m         \u001b[0;32mraise\u001b[0m\u001b[0;34m\u001b[0m\u001b[0;34m\u001b[0m\u001b[0m\n\u001b[0;32m--> 112\u001b[0;31m     \u001b[0;32mfinally\u001b[0m\u001b[0;34m:\u001b[0m \u001b[0mcb_handler\u001b[0m\u001b[0;34m.\u001b[0m\u001b[0mon_train_end\u001b[0m\u001b[0;34m(\u001b[0m\u001b[0mexception\u001b[0m\u001b[0;34m)\u001b[0m\u001b[0;34m\u001b[0m\u001b[0;34m\u001b[0m\u001b[0m\n\u001b[0m\u001b[1;32m    113\u001b[0m \u001b[0;34m\u001b[0m\u001b[0m\n\u001b[1;32m    114\u001b[0m loss_func_name2activ = {'cross_entropy_loss': F.softmax, 'nll_loss': torch.exp, 'poisson_nll_loss': torch.exp,\n",
      "\u001b[0;32m~/.local/lib/python3.7/site-packages/fastai/callback.py\u001b[0m in \u001b[0;36mon_train_end\u001b[0;34m(self, exception)\u001b[0m\n\u001b[1;32m    321\u001b[0m     \u001b[0;32mdef\u001b[0m \u001b[0mon_train_end\u001b[0m\u001b[0;34m(\u001b[0m\u001b[0mself\u001b[0m\u001b[0;34m,\u001b[0m \u001b[0mexception\u001b[0m\u001b[0;34m:\u001b[0m\u001b[0mUnion\u001b[0m\u001b[0;34m[\u001b[0m\u001b[0mbool\u001b[0m\u001b[0;34m,\u001b[0m\u001b[0mException\u001b[0m\u001b[0;34m]\u001b[0m\u001b[0;34m)\u001b[0m\u001b[0;34m->\u001b[0m\u001b[0;32mNone\u001b[0m\u001b[0;34m:\u001b[0m\u001b[0;34m\u001b[0m\u001b[0;34m\u001b[0m\u001b[0m\n\u001b[1;32m    322\u001b[0m         \u001b[0;34m\"Handle end of training, `exception` is an `Exception` or False if no exceptions during training.\"\u001b[0m\u001b[0;34m\u001b[0m\u001b[0;34m\u001b[0m\u001b[0m\n\u001b[0;32m--> 323\u001b[0;31m         \u001b[0mself\u001b[0m\u001b[0;34m(\u001b[0m\u001b[0;34m'train_end'\u001b[0m\u001b[0;34m,\u001b[0m \u001b[0mexception\u001b[0m\u001b[0;34m=\u001b[0m\u001b[0mexception\u001b[0m\u001b[0;34m)\u001b[0m\u001b[0;34m\u001b[0m\u001b[0;34m\u001b[0m\u001b[0m\n\u001b[0m\u001b[1;32m    324\u001b[0m \u001b[0;34m\u001b[0m\u001b[0m\n\u001b[1;32m    325\u001b[0m     \u001b[0;34m@\u001b[0m\u001b[0mproperty\u001b[0m\u001b[0;34m\u001b[0m\u001b[0;34m\u001b[0m\u001b[0m\n",
      "\u001b[0;32m~/.local/lib/python3.7/site-packages/fastai/callback.py\u001b[0m in \u001b[0;36m__call__\u001b[0;34m(self, cb_name, call_mets, **kwargs)\u001b[0m\n\u001b[1;32m    249\u001b[0m         \u001b[0;32mif\u001b[0m \u001b[0mcall_mets\u001b[0m\u001b[0;34m:\u001b[0m\u001b[0;34m\u001b[0m\u001b[0;34m\u001b[0m\u001b[0m\n\u001b[1;32m    250\u001b[0m             \u001b[0;32mfor\u001b[0m \u001b[0mmet\u001b[0m \u001b[0;32min\u001b[0m \u001b[0mself\u001b[0m\u001b[0;34m.\u001b[0m\u001b[0mmetrics\u001b[0m\u001b[0;34m:\u001b[0m \u001b[0mself\u001b[0m\u001b[0;34m.\u001b[0m\u001b[0m_call_and_update\u001b[0m\u001b[0;34m(\u001b[0m\u001b[0mmet\u001b[0m\u001b[0;34m,\u001b[0m \u001b[0mcb_name\u001b[0m\u001b[0;34m,\u001b[0m \u001b[0;34m**\u001b[0m\u001b[0mkwargs\u001b[0m\u001b[0;34m)\u001b[0m\u001b[0;34m\u001b[0m\u001b[0;34m\u001b[0m\u001b[0m\n\u001b[0;32m--> 251\u001b[0;31m         \u001b[0;32mfor\u001b[0m \u001b[0mcb\u001b[0m \u001b[0;32min\u001b[0m \u001b[0mself\u001b[0m\u001b[0;34m.\u001b[0m\u001b[0mcallbacks\u001b[0m\u001b[0;34m:\u001b[0m \u001b[0mself\u001b[0m\u001b[0;34m.\u001b[0m\u001b[0m_call_and_update\u001b[0m\u001b[0;34m(\u001b[0m\u001b[0mcb\u001b[0m\u001b[0;34m,\u001b[0m \u001b[0mcb_name\u001b[0m\u001b[0;34m,\u001b[0m \u001b[0;34m**\u001b[0m\u001b[0mkwargs\u001b[0m\u001b[0;34m)\u001b[0m\u001b[0;34m\u001b[0m\u001b[0;34m\u001b[0m\u001b[0m\n\u001b[0m\u001b[1;32m    252\u001b[0m \u001b[0;34m\u001b[0m\u001b[0m\n\u001b[1;32m    253\u001b[0m     \u001b[0;32mdef\u001b[0m \u001b[0mset_dl\u001b[0m\u001b[0;34m(\u001b[0m\u001b[0mself\u001b[0m\u001b[0;34m,\u001b[0m \u001b[0mdl\u001b[0m\u001b[0;34m:\u001b[0m\u001b[0mDataLoader\u001b[0m\u001b[0;34m)\u001b[0m\u001b[0;34m:\u001b[0m\u001b[0;34m\u001b[0m\u001b[0;34m\u001b[0m\u001b[0m\n",
      "\u001b[0;32m~/.local/lib/python3.7/site-packages/fastai/callback.py\u001b[0m in \u001b[0;36m_call_and_update\u001b[0;34m(self, cb, cb_name, **kwargs)\u001b[0m\n\u001b[1;32m    239\u001b[0m     \u001b[0;32mdef\u001b[0m \u001b[0m_call_and_update\u001b[0m\u001b[0;34m(\u001b[0m\u001b[0mself\u001b[0m\u001b[0;34m,\u001b[0m \u001b[0mcb\u001b[0m\u001b[0;34m,\u001b[0m \u001b[0mcb_name\u001b[0m\u001b[0;34m,\u001b[0m \u001b[0;34m**\u001b[0m\u001b[0mkwargs\u001b[0m\u001b[0;34m)\u001b[0m\u001b[0;34m->\u001b[0m\u001b[0;32mNone\u001b[0m\u001b[0;34m:\u001b[0m\u001b[0;34m\u001b[0m\u001b[0;34m\u001b[0m\u001b[0m\n\u001b[1;32m    240\u001b[0m         \u001b[0;34m\"Call `cb_name` on `cb` and update the inner state.\"\u001b[0m\u001b[0;34m\u001b[0m\u001b[0;34m\u001b[0m\u001b[0m\n\u001b[0;32m--> 241\u001b[0;31m         \u001b[0mnew\u001b[0m \u001b[0;34m=\u001b[0m \u001b[0mifnone\u001b[0m\u001b[0;34m(\u001b[0m\u001b[0mgetattr\u001b[0m\u001b[0;34m(\u001b[0m\u001b[0mcb\u001b[0m\u001b[0;34m,\u001b[0m \u001b[0;34mf'on_{cb_name}'\u001b[0m\u001b[0;34m)\u001b[0m\u001b[0;34m(\u001b[0m\u001b[0;34m**\u001b[0m\u001b[0mself\u001b[0m\u001b[0;34m.\u001b[0m\u001b[0mstate_dict\u001b[0m\u001b[0;34m,\u001b[0m \u001b[0;34m**\u001b[0m\u001b[0mkwargs\u001b[0m\u001b[0;34m)\u001b[0m\u001b[0;34m,\u001b[0m \u001b[0mdict\u001b[0m\u001b[0;34m(\u001b[0m\u001b[0;34m)\u001b[0m\u001b[0;34m)\u001b[0m\u001b[0;34m\u001b[0m\u001b[0;34m\u001b[0m\u001b[0m\n\u001b[0m\u001b[1;32m    242\u001b[0m         \u001b[0;32mfor\u001b[0m \u001b[0mk\u001b[0m\u001b[0;34m,\u001b[0m\u001b[0mv\u001b[0m \u001b[0;32min\u001b[0m \u001b[0mnew\u001b[0m\u001b[0;34m.\u001b[0m\u001b[0mitems\u001b[0m\u001b[0;34m(\u001b[0m\u001b[0;34m)\u001b[0m\u001b[0;34m:\u001b[0m\u001b[0;34m\u001b[0m\u001b[0;34m\u001b[0m\u001b[0m\n\u001b[1;32m    243\u001b[0m             \u001b[0;32mif\u001b[0m \u001b[0mk\u001b[0m \u001b[0;32mnot\u001b[0m \u001b[0;32min\u001b[0m \u001b[0mself\u001b[0m\u001b[0;34m.\u001b[0m\u001b[0mstate_dict\u001b[0m\u001b[0;34m:\u001b[0m\u001b[0;34m\u001b[0m\u001b[0;34m\u001b[0m\u001b[0m\n",
      "\u001b[0;32m~/.local/lib/python3.7/site-packages/fastai/callbacks/hooks.py\u001b[0m in \u001b[0;36mon_train_end\u001b[0;34m(self, **kwargs)\u001b[0m\n\u001b[1;32m     98\u001b[0m         \u001b[0;34m\"Polish the final result.\"\u001b[0m\u001b[0;34m\u001b[0m\u001b[0;34m\u001b[0m\u001b[0m\n\u001b[1;32m     99\u001b[0m         \u001b[0msuper\u001b[0m\u001b[0;34m(\u001b[0m\u001b[0;34m)\u001b[0m\u001b[0;34m.\u001b[0m\u001b[0mon_train_end\u001b[0m\u001b[0;34m(\u001b[0m\u001b[0;34m**\u001b[0m\u001b[0mkwargs\u001b[0m\u001b[0;34m)\u001b[0m\u001b[0;34m\u001b[0m\u001b[0;34m\u001b[0m\u001b[0m\n\u001b[0;32m--> 100\u001b[0;31m         \u001b[0mself\u001b[0m\u001b[0;34m.\u001b[0m\u001b[0mstats\u001b[0m \u001b[0;34m=\u001b[0m \u001b[0mtensor\u001b[0m\u001b[0;34m(\u001b[0m\u001b[0mself\u001b[0m\u001b[0;34m.\u001b[0m\u001b[0mstats\u001b[0m\u001b[0;34m)\u001b[0m\u001b[0;34m.\u001b[0m\u001b[0mpermute\u001b[0m\u001b[0;34m(\u001b[0m\u001b[0;36m2\u001b[0m\u001b[0;34m,\u001b[0m\u001b[0;36m1\u001b[0m\u001b[0;34m,\u001b[0m\u001b[0;36m0\u001b[0m\u001b[0;34m)\u001b[0m\u001b[0;34m\u001b[0m\u001b[0;34m\u001b[0m\u001b[0m\n\u001b[0m\u001b[1;32m    101\u001b[0m \u001b[0;34m\u001b[0m\u001b[0m\n\u001b[1;32m    102\u001b[0m \u001b[0;32mdef\u001b[0m \u001b[0mdummy_batch\u001b[0m\u001b[0;34m(\u001b[0m\u001b[0mm\u001b[0m\u001b[0;34m:\u001b[0m \u001b[0mnn\u001b[0m\u001b[0;34m.\u001b[0m\u001b[0mModule\u001b[0m\u001b[0;34m,\u001b[0m \u001b[0msize\u001b[0m\u001b[0;34m:\u001b[0m\u001b[0mtuple\u001b[0m\u001b[0;34m=\u001b[0m\u001b[0;34m(\u001b[0m\u001b[0;36m64\u001b[0m\u001b[0;34m,\u001b[0m\u001b[0;36m64\u001b[0m\u001b[0;34m)\u001b[0m\u001b[0;34m)\u001b[0m\u001b[0;34m->\u001b[0m\u001b[0mTensor\u001b[0m\u001b[0;34m:\u001b[0m\u001b[0;34m\u001b[0m\u001b[0;34m\u001b[0m\u001b[0m\n",
      "\u001b[0;31mRuntimeError\u001b[0m: number of dims don't match in permute"
     ]
    }
   ],
   "source": [
    "learn.fit_one_cycle(4, \n",
    "                    wd=1e-6,\n",
    "                    max_lr=1e-3,\n",
    "                    callbacks = [\n",
    "                                 SaveModelCallback(learn=learn)\n",
    "#                                 ReduceLROnPlateauCallback(learn=learn)\n",
    "\n",
    "                                 ]\n",
    "                    )"
   ]
  },
  {
   "cell_type": "code",
   "execution_count": null,
   "metadata": {},
   "outputs": [],
   "source": []
  },
  {
   "cell_type": "code",
   "execution_count": null,
   "metadata": {
    "colab": {
     "base_uri": "https://localhost:8080/",
     "height": 286
    },
    "colab_type": "code",
    "id": "qhwKWzMJ9z70",
    "outputId": "01ed6fd0-e05a-412e-a6aa-ac275a43043d",
    "scrolled": true
   },
   "outputs": [],
   "source": [
    "learn.unfreeze()\n",
    "learn.fit_one_cycle(20, wd=1e-06, max_lr=slice(1e-05,1e-04),callbacks = [\n",
    "    SaveModelCallback(learn=learn),\n",
    "    ReduceLROnPlateauCallback(learn=learn)\n",
    "])"
   ]
  },
  {
   "cell_type": "code",
   "execution_count": null,
   "metadata": {
    "scrolled": false
   },
   "outputs": [],
   "source": [
    "learn.save('good')"
   ]
  },
  {
   "cell_type": "code",
   "execution_count": null,
   "metadata": {
    "scrolled": true
   },
   "outputs": [],
   "source": [
    "learn.load('bestmodel')"
   ]
  },
  {
   "cell_type": "code",
   "execution_count": null,
   "metadata": {
    "scrolled": true
   },
   "outputs": [],
   "source": [
    "model_summary(learn)"
   ]
  },
  {
   "cell_type": "code",
   "execution_count": null,
   "metadata": {
    "scrolled": true
   },
   "outputs": [],
   "source": [
    "m = list(learn.model.parameters())"
   ]
  },
  {
   "cell_type": "code",
   "execution_count": null,
   "metadata": {
    "scrolled": true
   },
   "outputs": [],
   "source": [
    "def append_stats(hook, mod, inp, outp):\n",
    "    if not hasattr(hook,'stats'): hook.stats = ([],[])\n",
    "    means,stds = hook.stats\n",
    "    if mod.training:\n",
    "        means.append(outp.data.mean())\n",
    "        stds .append(outp.data.std())"
   ]
  },
  {
   "cell_type": "code",
   "execution_count": null,
   "metadata": {
    "colab": {
     "base_uri": "https://localhost:8080/",
     "height": 269
    },
    "colab_type": "code",
    "id": "1V7Ffyhj73-P",
    "outputId": "209737af-4d46-4f7c-d680-a340c89bb630",
    "scrolled": true
   },
   "outputs": [],
   "source": [
    "what_to_plot = 'std'\n",
    "property_idx = 0 if what_to_plot == 'mean' else 1\n",
    "layer_idx = 0\n",
    "\n",
    "plt.plot(learn.activation_stats.stats[property_idx][0]);\n",
    "plt.plot(learn.activation_stats.stats[property_idx][1]);\n",
    "\n",
    "\n",
    "\n",
    "# learn.activation_stats.stats[property_idx][layer_idx].plot()"
   ]
  },
  {
   "cell_type": "markdown",
   "metadata": {
    "colab_type": "text",
    "id": "V4mshAkWr_y-"
   },
   "source": [
    "## Actual training"
   ]
  },
  {
   "cell_type": "code",
   "execution_count": null,
   "metadata": {
    "scrolled": true
   },
   "outputs": [],
   "source": [
    "!nvidia-smi"
   ]
  },
  {
   "cell_type": "code",
   "execution_count": null,
   "metadata": {
    "colab": {},
    "colab_type": "code",
    "id": "-9Xi0ES1-jz2",
    "scrolled": true
   },
   "outputs": [],
   "source": [
    "# max_lr = slice(1e-3,1e-2)\n",
    "max_lr = slice(1e-3,1e-2)\n",
    "\n",
    "wd = 1e-4"
   ]
  },
  {
   "cell_type": "code",
   "execution_count": null,
   "metadata": {
    "colab": {
     "base_uri": "https://localhost:8080/",
     "height": 330
    },
    "colab_type": "code",
    "id": "So5CW3c3ZFad",
    "outputId": "62351d6f-9278-4e5b-b702-7d19f841e37b",
    "scrolled": true
   },
   "outputs": [],
   "source": [
    "learn.fit_one_cycle(10,\n",
    "                    callbacks = [\n",
    "                                #  SaveModelCallback(learn=learn),\n",
    "                                 ]\n",
    "                    )"
   ]
  },
  {
   "cell_type": "code",
   "execution_count": null,
   "metadata": {
    "scrolled": true
   },
   "outputs": [],
   "source": [
    "learn.lr_find()"
   ]
  },
  {
   "cell_type": "code",
   "execution_count": null,
   "metadata": {
    "scrolled": true
   },
   "outputs": [],
   "source": [
    "learn.recorder.plot()"
   ]
  },
  {
   "cell_type": "code",
   "execution_count": null,
   "metadata": {
    "colab": {
     "base_uri": "https://localhost:8080/",
     "height": 35
    },
    "colab_type": "code",
    "id": "jUg4Np2AJVFK",
    "outputId": "cb9e390a-f9e4-4a23-a456-5edf75abac85",
    "scrolled": true
   },
   "outputs": [],
   "source": [
    "learn.activation_stats.stats.shape"
   ]
  },
  {
   "cell_type": "code",
   "execution_count": null,
   "metadata": {
    "colab": {
     "base_uri": "https://localhost:8080/",
     "height": 269
    },
    "colab_type": "code",
    "id": "r8oAkL5p6oxk",
    "outputId": "97e9ce14-e907-4aba-af0f-83d0b8532e98",
    "scrolled": true
   },
   "outputs": [],
   "source": [
    "what_to_plot = 'mean'\n",
    "property_idx = 0 if what_to_plot == 'mean' else 1\n",
    "layer_idx = 0\n",
    "\n",
    "plt.plot(learn.activation_stats.stats[property_idx][3]);\n",
    "\n",
    "# learn.activation_stats.stats[property_idx][layer_idx].plot()"
   ]
  },
  {
   "cell_type": "code",
   "execution_count": null,
   "metadata": {
    "colab": {
     "base_uri": "https://localhost:8080/",
     "height": 35
    },
    "colab_type": "code",
    "id": "Yw-f6aXw-hNh",
    "outputId": "ce3dbe8f-9bc9-4f1d-aff6-cd051e48758d",
    "scrolled": true
   },
   "outputs": [],
   "source": [
    "len(learn.activation_stats.stats[0])"
   ]
  },
  {
   "cell_type": "code",
   "execution_count": null,
   "metadata": {
    "colab": {},
    "colab_type": "code",
    "id": "7Q6QS0p1u6Xh",
    "scrolled": true
   },
   "outputs": [],
   "source": [
    "learn.save('resnet152_352')"
   ]
  },
  {
   "cell_type": "code",
   "execution_count": null,
   "metadata": {
    "colab": {
     "base_uri": "https://localhost:8080/",
     "height": 35
    },
    "colab_type": "code",
    "id": "0gUNi91auF3E",
    "outputId": "bed68360-4e62-4b9a-93b4-f947169d4bc4",
    "scrolled": true
   },
   "outputs": [],
   "source": [
    "!ls small-train/96x96/models"
   ]
  },
  {
   "cell_type": "code",
   "execution_count": null,
   "metadata": {
    "colab": {
     "base_uri": "https://localhost:8080/",
     "height": 379
    },
    "colab_type": "code",
    "id": "2uZR8stfCi0L",
    "outputId": "d0a082e5-d955-4b24-d70c-19d9f9695b94",
    "scrolled": true
   },
   "outputs": [],
   "source": [
    "learn.lr_find()\n",
    "learn.recorder.plot()\n",
    "\n",
    "# doc(learn.lr_find)"
   ]
  },
  {
   "cell_type": "code",
   "execution_count": null,
   "metadata": {
    "colab": {},
    "colab_type": "code",
    "id": "J-2sjMqbVWJq",
    "scrolled": true
   },
   "outputs": [],
   "source": [
    "learn.fit_one_cycle??"
   ]
  },
  {
   "cell_type": "code",
   "execution_count": null,
   "metadata": {
    "colab": {
     "base_uri": "https://localhost:8080/",
     "height": 686
    },
    "colab_type": "code",
    "id": "NsTJGseGZFaf",
    "outputId": "3a79f55f-9a2e-4f9d-c8bf-8061f8db7ba0",
    "scrolled": true
   },
   "outputs": [],
   "source": [
    "learn.unfreeze()\n",
    "\n",
    "learn.fit_one_cycle(10, wd=1e-06, max_lr=slice(1e-05,1e-04),callbacks = [SaveModelCallback(learn=learn)])"
   ]
  },
  {
   "cell_type": "code",
   "execution_count": null,
   "metadata": {
    "colab": {},
    "colab_type": "code",
    "id": "ob3bwMxhaLw_",
    "scrolled": true
   },
   "outputs": [],
   "source": [
    "learn.save('resnet152_fulltrained_352')"
   ]
  },
  {
   "cell_type": "code",
   "execution_count": null,
   "metadata": {
    "colab": {},
    "colab_type": "code",
    "id": "tHLf0rbR-jz_",
    "scrolled": true
   },
   "outputs": [],
   "source": [
    "learn.save('resnet34-352x352-88Accurracy')"
   ]
  },
  {
   "cell_type": "code",
   "execution_count": null,
   "metadata": {
    "colab": {},
    "colab_type": "code",
    "id": "De7i-8-PySjD",
    "scrolled": true
   },
   "outputs": [],
   "source": [
    "learn.summary()"
   ]
  },
  {
   "cell_type": "code",
   "execution_count": null,
   "metadata": {
    "colab": {},
    "colab_type": "code",
    "id": "WTgN8oTyrrBg",
    "scrolled": true
   },
   "outputs": [],
   "source": [
    "learn.export()"
   ]
  },
  {
   "cell_type": "code",
   "execution_count": null,
   "metadata": {
    "colab": {},
    "colab_type": "code",
    "id": "JzOw-OyC-j0A",
    "scrolled": true
   },
   "outputs": [],
   "source": [
    "learn.load('colab-unfreeze-trained-50')"
   ]
  },
  {
   "cell_type": "code",
   "execution_count": null,
   "metadata": {
    "colab": {},
    "colab_type": "code",
    "id": "0rW5Q6fU5lYR",
    "scrolled": true
   },
   "outputs": [],
   "source": [
    "learn.export('colab-unfreeze-trained.pkl')"
   ]
  },
  {
   "cell_type": "markdown",
   "metadata": {
    "colab_type": "text",
    "heading_collapsed": true,
    "id": "FqN8QK4Mlkor"
   },
   "source": [
    "# HeatMap"
   ]
  },
  {
   "cell_type": "code",
   "execution_count": null,
   "metadata": {
    "colab": {},
    "colab_type": "code",
    "hidden": true,
    "id": "JIARDlkmlrSo",
    "scrolled": true
   },
   "outputs": [],
   "source": [
    "learn.summary()"
   ]
  },
  {
   "cell_type": "code",
   "execution_count": null,
   "metadata": {
    "colab": {
     "base_uri": "https://localhost:8080/",
     "height": 232
    },
    "colab_type": "code",
    "hidden": true,
    "id": "iUmheEoFlQBS",
    "outputId": "2c0c602e-c608-4598-a6b4-c95c6b5c7db8",
    "scrolled": true
   },
   "outputs": [],
   "source": [
    "idx=0\n",
    "x,y = data.valid_ds[idx]\n",
    "x.show()\n",
    "data.valid_ds.y[idx]\n",
    "x.shape"
   ]
  },
  {
   "cell_type": "code",
   "execution_count": null,
   "metadata": {
    "colab": {},
    "colab_type": "code",
    "hidden": true,
    "id": "J0Pxk5tSlXz9",
    "scrolled": true
   },
   "outputs": [],
   "source": [
    "m = learn.model.eval();\n"
   ]
  },
  {
   "cell_type": "code",
   "execution_count": null,
   "metadata": {
    "colab": {},
    "colab_type": "code",
    "hidden": true,
    "id": "8qmmHlOvlcBj",
    "scrolled": true
   },
   "outputs": [],
   "source": [
    "xb,_ = data.one_item(x)\n",
    "xb_im = Image(data.denorm(xb)[0])\n",
    "xb = xb.cuda()"
   ]
  },
  {
   "cell_type": "code",
   "execution_count": null,
   "metadata": {
    "colab": {
     "base_uri": "https://localhost:8080/",
     "height": 35
    },
    "colab_type": "code",
    "hidden": true,
    "id": "BtMDvbgRktpu",
    "outputId": "575f1292-44f1-437e-d0ea-78c4eb4d3809",
    "scrolled": true
   },
   "outputs": [],
   "source": [
    "from fastai.callbacks.hooks import *\n",
    "def hooked_backward(cat=y):\n",
    "    with hook_output(m[0]) as hook_a: \n",
    "        with hook_output(m[0], grad=True) as hook_g:\n",
    "            preds = m(xb)\n",
    "            preds[0,int(cat)].backward()\n",
    "    return hook_a,hook_g\n",
    "hook_a,hook_g = hooked_backward()\n",
    "acts  = hook_a.stored[0].cpu()\n",
    "acts.shape"
   ]
  },
  {
   "cell_type": "code",
   "execution_count": null,
   "metadata": {
    "colab": {
     "base_uri": "https://localhost:8080/",
     "height": 35
    },
    "colab_type": "code",
    "hidden": true,
    "id": "UblqyuOHk0Wx",
    "outputId": "79f5ca6c-b116-433e-d7ed-100b17936c23",
    "scrolled": true
   },
   "outputs": [],
   "source": [
    "avg_acts = acts.mean(0)\n",
    "avg_acts.shape"
   ]
  },
  {
   "cell_type": "code",
   "execution_count": null,
   "metadata": {
    "colab": {},
    "colab_type": "code",
    "hidden": true,
    "id": "bUivK0G7k21r",
    "scrolled": true
   },
   "outputs": [],
   "source": [
    "def show_heatmap(hm):\n",
    "    _,ax = plt.subplots()\n",
    "    xb_im.show(ax)\n",
    "    ax.imshow(hm, alpha=0.3, extent=(0,96,96,0),\n",
    "              interpolation='bilinear', cmap='magma');"
   ]
  },
  {
   "cell_type": "code",
   "execution_count": null,
   "metadata": {
    "colab": {
     "base_uri": "https://localhost:8080/",
     "height": 484
    },
    "colab_type": "code",
    "hidden": true,
    "id": "39-EJ9Ymk4Hx",
    "outputId": "036b5228-0502-4720-8634-436a3923c688",
    "scrolled": true
   },
   "outputs": [],
   "source": [
    "show_heatmap(avg_acts), x.show()\n"
   ]
  },
  {
   "cell_type": "markdown",
   "metadata": {
    "colab_type": "text",
    "id": "lJKHCLBGZFah"
   },
   "source": [
    "# Results"
   ]
  },
  {
   "cell_type": "code",
   "execution_count": null,
   "metadata": {
    "colab": {},
    "colab_type": "code",
    "id": "qbsotx2TRYEn",
    "scrolled": true
   },
   "outputs": [],
   "source": [
    "# learn.export()\n",
    "learn.load('good')"
   ]
  },
  {
   "cell_type": "markdown",
   "metadata": {
    "colab_type": "text",
    "id": "M70Tgx37ZFai"
   },
   "source": [
    "Let's see what results we have got. \n",
    "\n",
    "We will first see which were the categories that the model most confused with one another. We will try to see if what the model predicted was reasonable or not. In this case the mistakes look reasonable (none of the mistakes seems obviously naive). This is an indicator that our classifier is working correctly. \n",
    "\n",
    "Furthermore, when we plot the confusion matrix, we can see that the distribution is heavily skewed: the model makes the same mistakes over and over again but it rarely confuses other categories. This suggests that it just finds it difficult to distinguish some specific categories between each other; this is normal behaviour."
   ]
  },
  {
   "cell_type": "code",
   "execution_count": 75,
   "metadata": {
    "colab": {
     "base_uri": "https://localhost:8080/",
     "height": 35
    },
    "colab_type": "code",
    "id": "VqUoxnSxHJPe",
    "outputId": "106a5933-5562-4c3f-8efa-082a9af5cc5c",
    "scrolled": true
   },
   "outputs": [
    {
     "data": {
      "text/plain": [
       "True"
      ]
     },
     "execution_count": 75,
     "metadata": {},
     "output_type": "execute_result"
    }
   ],
   "source": [
    "interp = ClassificationInterpretation.from_learner(learn)\n",
    "losses,idxs = interp.top_losses()\n",
    "\n",
    "len(data.valid_ds)==len(losses)==len(idxs)"
   ]
  },
  {
   "cell_type": "code",
   "execution_count": null,
   "metadata": {
    "colab": {},
    "colab_type": "code",
    "id": "kSeXVEv7mtv2",
    "scrolled": true
   },
   "outputs": [],
   "source": [
    "learn.show_results??"
   ]
  },
  {
   "cell_type": "code",
   "execution_count": null,
   "metadata": {
    "colab": {
     "base_uri": "https://localhost:8080/",
     "height": 778
    },
    "colab_type": "code",
    "id": "zrxTdc-7ZFal",
    "outputId": "ca536c4b-5ff1-4331-f63d-cd7a36fa57a7",
    "scrolled": true
   },
   "outputs": [],
   "source": [
    "interp.plot_top_losses(30, figsize=(12,12),heatmap=True)"
   ]
  },
  {
   "cell_type": "code",
   "execution_count": null,
   "metadata": {
    "colab": {},
    "colab_type": "code",
    "id": "TeeSIRKzZFao",
    "scrolled": true
   },
   "outputs": [],
   "source": [
    "doc(interp.plot_top_losses)"
   ]
  },
  {
   "cell_type": "code",
   "execution_count": 76,
   "metadata": {
    "colab": {
     "base_uri": "https://localhost:8080/",
     "height": 744
    },
    "colab_type": "code",
    "id": "Bl6U5NbXZFap",
    "outputId": "8168473e-268e-43ef-ed27-218e63e2b553",
    "scrolled": false
   },
   "outputs": [
    {
     "data": {
      "image/png": "[encoded data removed]",
      "text/plain": [
       "<Figure size 720x720 with 1 Axes>"
      ]
     },
     "metadata": {
      "needs_background": "light"
     },
     "output_type": "display_data"
    }
   ],
   "source": [
    "interp.plot_confusion_matrix(figsize=(12,12), dpi=60)"
   ]
  },
  {
   "cell_type": "code",
   "execution_count": 77,
   "metadata": {
    "colab": {
     "base_uri": "https://localhost:8080/",
     "height": 35
    },
    "colab_type": "code",
    "id": "tDqJnbQ0Lnha",
    "outputId": "8064ee88-f37c-4336-d7fc-2f7e4c9a79be",
    "scrolled": false
   },
   "outputs": [
    {
     "data": {
      "text/plain": [
       "('average acc: ', 0.3652533679228611)"
      ]
     },
     "execution_count": 77,
     "metadata": {},
     "output_type": "execute_result"
    }
   ],
   "source": [
    "\n",
    "def get_balanced_accurracy(a_confusion_matrix):\n",
    "  balanced_acc = 0\n",
    "  for i in range(len(matrix[0])):\n",
    "    row = matrix[i]\n",
    "    correctGuesses = row[i]\n",
    "    allPossibleTries = row.sum()\n",
    "    classAcurracy = correctGuesses / allPossibleTries\n",
    "    balanced_acc += classAcurracy\n",
    "#     print(classAcurracy)\n",
    "  balanced_acc /= len(matrix[0])\n",
    "  return balanced_acc\n",
    "\n",
    "\n",
    "\n",
    "matrix = interp.confusion_matrix()\n",
    "\"average acc: \", get_balanced_accurracy(matrix)\n"
   ]
  },
  {
   "cell_type": "code",
   "execution_count": null,
   "metadata": {
    "colab": {},
    "colab_type": "code",
    "id": "CORtOeAhwuqs",
    "scrolled": true
   },
   "outputs": [],
   "source": [
    "matrix = interp.confusion_matrix()\n",
    "\"Missclassified: \", matrix.sum() - np.diag(matrix).sum(), \" of \",  matrix.sum()"
   ]
  },
  {
   "cell_type": "code",
   "execution_count": null,
   "metadata": {
    "colab": {},
    "colab_type": "code",
    "id": "vMnPbJeN1_3T",
    "scrolled": true
   },
   "outputs": [],
   "source": [
    "# model_weight_path = learn.save('checkpointw',return_path=True)\n",
    "# learn.export('checkpointall')\n",
    "# model_weight_path"
   ]
  },
  {
   "cell_type": "code",
   "execution_count": null,
   "metadata": {
    "colab": {},
    "colab_type": "code",
    "id": "MfwNpfvzZFar",
    "scrolled": true
   },
   "outputs": [],
   "source": [
    "interp.most_confused(min_val=2)"
   ]
  },
  {
   "cell_type": "code",
   "execution_count": null,
   "metadata": {
    "colab": {},
    "colab_type": "code",
    "id": "RlkcOh3CbJK5",
    "scrolled": true
   },
   "outputs": [],
   "source": [
    "# learn = load_learner(path=currentDatasetPath,file='muy bueno')\n",
    "# learn.export()\n",
    "smallTestImages"
   ]
  },
  {
   "cell_type": "markdown",
   "metadata": {
    "colab_type": "text",
    "id": "TMJOT0_hZFas"
   },
   "source": [
    "# Predicting a different batch"
   ]
  },
  {
   "cell_type": "code",
   "execution_count": null,
   "metadata": {
    "colab": {},
    "colab_type": "code",
    "id": "q9yytVDkCEvd",
    "scrolled": true
   },
   "outputs": [],
   "source": [
    "learn.export()"
   ]
  },
  {
   "cell_type": "code",
   "execution_count": null,
   "metadata": {
    "colab": {
     "base_uri": "https://localhost:8080/",
     "height": 35
    },
    "colab_type": "code",
    "id": "MVbnb2TXsLjQ",
    "outputId": "7cc31a38-a5f0-49ef-b610-7ef46faa9c57",
    "scrolled": true
   },
   "outputs": [],
   "source": [
    "smallTestfolderName"
   ]
  },
  {
   "cell_type": "code",
   "execution_count": null,
   "metadata": {
    "colab": {},
    "colab_type": "code",
    "id": "ydu963Amo13N",
    "scrolled": true
   },
   "outputs": [],
   "source": [
    "learn2 = load_learner(path=specificSmallTrainFolderName, file=\"export.pkl\", \n",
    "                     test=ImageList.from_folder(smallTestfolderName),\n",
    "                     )"
   ]
  },
  {
   "cell_type": "code",
   "execution_count": null,
   "metadata": {
    "colab": {
     "base_uri": "https://localhost:8080/",
     "height": 397
    },
    "colab_type": "code",
    "id": "th7o80CSSA1X",
    "outputId": "09f729b6-9799-43ad-e3e5-8d7b158f7987",
    "scrolled": true
   },
   "outputs": [],
   "source": [
    "learn2.data"
   ]
  },
  {
   "cell_type": "markdown",
   "metadata": {
    "colab_type": "text",
    "id": "3V_tzFssr_ww"
   },
   "source": [
    "## Getting CSV output for our own generated validation dataset"
   ]
  },
  {
   "cell_type": "code",
   "execution_count": null,
   "metadata": {
    "colab": {
     "base_uri": "https://localhost:8080/",
     "height": 52
    },
    "colab_type": "code",
    "id": "zwRS834GsIzh",
    "outputId": "1783ac8e-89b6-4a2d-cd21-d44d8976a0ce",
    "scrolled": true
   },
   "outputs": [],
   "source": [
    "preds, y = learn2.get_preds(ds_type=DatasetType.Test); preds[0]"
   ]
  },
  {
   "cell_type": "code",
   "execution_count": null,
   "metadata": {
    "colab": {
     "base_uri": "https://localhost:8080/",
     "height": 17
    },
    "colab_type": "code",
    "id": "KznABkqXKtRt",
    "outputId": "a7f16ca8-6250-4d8e-9303-942bfab6de15",
    "scrolled": true
   },
   "outputs": [],
   "source": [
    "preds, y = learn2.TTA(ds_type=DatasetType.Test, beta=0.4, scale=1.35)"
   ]
  },
  {
   "cell_type": "code",
   "execution_count": null,
   "metadata": {
    "colab": {},
    "colab_type": "code",
    "id": "bWJxYESGL6-W",
    "scrolled": true
   },
   "outputs": [],
   "source": [
    "assert len(preds) == 1512"
   ]
  },
  {
   "cell_type": "code",
   "execution_count": null,
   "metadata": {
    "colab": {
     "base_uri": "https://localhost:8080/",
     "height": 35
    },
    "colab_type": "code",
    "id": "6gT_t9Y2tfP4",
    "outputId": "b0597105-14cc-47d4-ba1f-6bff380bd6ba",
    "scrolled": true
   },
   "outputs": [],
   "source": [
    "arrOfPreds = [learn2.data.classes[pred.argmax().item()] for pred in preds];arrOfPreds[0:5]"
   ]
  },
  {
   "cell_type": "markdown",
   "metadata": {
    "colab_type": "text",
    "id": "7W3T8byRGILK"
   },
   "source": [
    "Generamos primero el dataframe con las predicciones"
   ]
  },
  {
   "cell_type": "code",
   "execution_count": null,
   "metadata": {
    "colab": {},
    "colab_type": "code",
    "id": "2M_6sA7RuEII",
    "scrolled": true
   },
   "outputs": [],
   "source": [
    "\n",
    "allCategories = learn2.data.classes\n",
    "cols = ['image'] + allCategories\n",
    "\n",
    "\n",
    "predictions = []\n",
    "for idx, filePath in enumerate(learn2.data.test_ds.items):\n",
    "  row = {}\n",
    "  current_pred = preds[idx]\n",
    "  max_confidence = current_pred.max().item()\n",
    "  row['image'] = filePath.name.replace('.jpg','')\n",
    "  for idx2, cat in enumerate(allCategories):\n",
    "    row[cat] = current_pred[idx2].item()\n",
    "  \n",
    "  predictions.append(row)\n",
    "\n",
    "predictionsDf = pd.DataFrame(predictions, columns=cols);\n",
    "  \n",
    "  "
   ]
  },
  {
   "cell_type": "code",
   "execution_count": null,
   "metadata": {
    "colab": {
     "base_uri": "https://localhost:8080/",
     "height": 198
    },
    "colab_type": "code",
    "id": "j27wHQrVweix",
    "outputId": "85b6f629-421d-4cf5-f981-c0ce17576432",
    "scrolled": true
   },
   "outputs": [],
   "source": [
    "len(predictionsDf)\n",
    "predictionsDf = predictionsDf.rename(columns={'AK':'AKIEC'})\n",
    "predictionsDf.head()"
   ]
  },
  {
   "cell_type": "code",
   "execution_count": null,
   "metadata": {
    "colab": {},
    "colab_type": "code",
    "id": "BhPQCPR2MvG-",
    "scrolled": true
   },
   "outputs": [],
   "source": [
    "# predictionsDf['UNK']=0.0; predictionsDf.head()\n",
    "# predictionsDf = predictionsDf.rename(columns={'AK':'AKIEC'})"
   ]
  },
  {
   "cell_type": "markdown",
   "metadata": {
    "colab_type": "text",
    "id": "_2_uXb4ZKNqS"
   },
   "source": [
    "## Old"
   ]
  },
  {
   "cell_type": "code",
   "execution_count": null,
   "metadata": {
    "colab": {},
    "colab_type": "code",
    "id": "cAfy5B5qKNLq",
    "scrolled": true
   },
   "outputs": [],
   "source": []
  },
  {
   "cell_type": "markdown",
   "metadata": {
    "colab_type": "text",
    "id": "6PvF-IvwGRD6"
   },
   "source": [
    "Ahora generamos el dataframe con los labels reales\n",
    "\n"
   ]
  },
  {
   "cell_type": "code",
   "execution_count": null,
   "metadata": {
    "colab": {
     "base_uri": "https://localhost:8080/",
     "height": 235
    },
    "colab_type": "code",
    "id": "g3WD8hqg0UNC",
    "outputId": "a8742963-8c91-4202-dc8e-59b922c2ab4a",
    "scrolled": true
   },
   "outputs": [],
   "source": [
    "\n",
    "allCategories = learn.data.classes #+ [\"UNK\"]\n",
    "cols = ['image'] + allCategories\n",
    "\n",
    "\n",
    "trueLabels = []\n",
    "for idx, filePath in enumerate(data.valid_ds.items):\n",
    "  row = {}\n",
    "  row['image'] = filePath.name.replace('.jpg','')\n",
    "  for cat in allCategories:\n",
    "    row[cat] = 0.0\n",
    "    \n",
    "  trueLabel = allCategories[y[idx].item()]\n",
    "  row[trueLabel] = 1.0\n",
    "  \n",
    "  trueLabels.append(row)\n",
    "\n",
    "trueLabelsDf = pd.DataFrame(trueLabels, columns=cols);\n",
    "  \n",
    "  "
   ]
  },
  {
   "cell_type": "code",
   "execution_count": null,
   "metadata": {
    "colab": {
     "base_uri": "https://localhost:8080/",
     "height": 165
    },
    "colab_type": "code",
    "id": "hZSUtpQb0t80",
    "outputId": "c8f5aae1-0508-49a2-a928-4178bc07c55b",
    "scrolled": true
   },
   "outputs": [],
   "source": [
    "trueLabelsDf.head()"
   ]
  },
  {
   "cell_type": "code",
   "execution_count": null,
   "metadata": {
    "colab": {},
    "colab_type": "code",
    "id": "yaaL-O4wNZkP",
    "scrolled": true
   },
   "outputs": [],
   "source": [
    "# trueLabelsDf['UNK']=0.0; trueLabelsDf.head()"
   ]
  },
  {
   "cell_type": "markdown",
   "metadata": {
    "colab_type": "text",
    "id": "SMuX7Zn8GVkS"
   },
   "source": [
    "Veamos alguna metrica simple"
   ]
  },
  {
   "cell_type": "markdown",
   "metadata": {
    "colab_type": "text",
    "id": "bw7EeDwecfT8"
   },
   "source": [
    "## Guardemos los csv\n"
   ]
  },
  {
   "cell_type": "code",
   "execution_count": null,
   "metadata": {
    "colab": {},
    "colab_type": "code",
    "id": "xW7yX9h4XUr-",
    "scrolled": true
   },
   "outputs": [],
   "source": [
    "predictions_csv_path = 'predictionsTest2018.csv'\n",
    "# true_labels_csv_path = currentDatasetPath/'trueLabels.csv'\n",
    "\n",
    "\n",
    "\n",
    "predictionsDf.to_csv(predictions_csv_path, index=False)\n",
    "# trueLabelsDf.to_csv(true_labels_csv_path,index=False)\n",
    "\n"
   ]
  },
  {
   "cell_type": "code",
   "execution_count": null,
   "metadata": {
    "colab": {
     "base_uri": "https://localhost:8080/",
     "height": 165
    },
    "colab_type": "code",
    "id": "ciNnY_X5fflM",
    "outputId": "415f98d6-e689-4af0-b333-2043a82853a4",
    "scrolled": true
   },
   "outputs": [],
   "source": [
    "# predictionsDf.sort_values('image'),trueLabelsDf.sort_values('image'),\n",
    "len(learn.data.test_ds)"
   ]
  },
  {
   "cell_type": "code",
   "execution_count": null,
   "metadata": {
    "colab": {},
    "colab_type": "code",
    "id": "Z4d8bNdgkO6X",
    "scrolled": true
   },
   "outputs": [],
   "source": [
    "\n",
    "from google.colab import files\n",
    "files.download(predictions_csv_path)\n",
    "# files.download(true_labels_csv_path)"
   ]
  },
  {
   "cell_type": "code",
   "execution_count": null,
   "metadata": {
    "colab": {},
    "colab_type": "code",
    "id": "VduQkPbic6ux",
    "scrolled": true
   },
   "outputs": [],
   "source": [
    "currentDatasetPath.ls()"
   ]
  },
  {
   "cell_type": "markdown",
   "metadata": {
    "colab_type": "text",
    "id": "oHctCAgiYHQi"
   },
   "source": [
    "# Procesando CSV"
   ]
  },
  {
   "cell_type": "code",
   "execution_count": null,
   "metadata": {
    "colab": {},
    "colab_type": "code",
    "id": "JpbAAPPhYm3G",
    "scrolled": true
   },
   "outputs": [],
   "source": [
    "\n",
    "\n",
    "def _to_labels(probabilities: pd.DataFrame) -> pd.Series:\n",
    "    labels = probabilities.idxmax(axis='columns')\n",
    "\n",
    "    # Find places where there are multiple maximum values\n",
    "    max_probabilities = probabilities.max(axis='columns')\n",
    "    is_max: pd.DataFrame = probabilities.eq(max_probabilities, axis='rows')\n",
    "    number_of_max: pd.Series = is_max.sum(axis='columns')\n",
    "    multiple_max: pd.Series = number_of_max.gt(1)\n",
    "    # Set those locations as an 'undecided' label\n",
    "    labels[multiple_max] = 'undecided'\n",
    "    # TODO: emit a warning if any are set to 'undecided'\n",
    "\n",
    "    return labels\n",
    "\n",
    "\n",
    "def _get_frequencies(labels: pd.Series, weights: pd.Series, categories: pd.Index) -> pd.Series:\n",
    "    # Directly sum the weights, grouping them by label\n",
    "    # .reindex sorts this by the order in categories\n",
    "    return weights.groupby(labels, sort=False).sum().reindex(categories, fill_value=0)\n",
    "\n",
    "\n",
    "def _label_balanced_multiclass_accuracy(\n",
    "    truth_labels: pd.Series, prediction_labels: pd.Series, weights: pd.Series, categories: pd.Index\n",
    ") -> float:\n",
    "    # See http://scikit-learn.org/dev/modules/model_evaluation.html#balanced-accuracy-score ; in\n",
    "    # summary, 'sklearn.metrics.balanced_accuracy_score' is for binary classification only, so we\n",
    "    # need to implement our own; here, we implement a simpler version of \"balanced accuracy\" than\n",
    "    # the definitions mentioned by SciKit learn, as it's just a normalization of TP scores by true\n",
    "    # class proportions\n",
    "    confusion_matrix = sklearn.metrics.confusion_matrix(\n",
    "        truth_labels, prediction_labels, labels=categories, sample_weight=weights\n",
    "    )\n",
    "    # TODO: try to convert to a DataFrame, for useful debugging labels\n",
    "    # confusion_matrix = pd.DataFrame(\n",
    "    #     confusion_matrix,\n",
    "    #     index=LABELS.map(lambda label: f'true_{label}'),\n",
    "    #     columns=LABELS.map(lambda label: f'predicted_{label}')\n",
    "    # )\n",
    "\n",
    "    tp_counts = pd.Series(confusion_matrix.diagonal(), index=categories)\n",
    "#     print('digaonal', tp_counts)\n",
    "    # These are equal to rows of the confusion matrix\n",
    "    true_label_frequencies = _get_frequencies(truth_labels, weights, categories)\n",
    "\n",
    "    balanced_accuracy = tp_counts.divide(true_label_frequencies).mean()\n",
    "    return balanced_accuracy\n",
    "\n",
    "\n",
    "def balanced_multiclass_accuracy(\n",
    "    truth_probabilities: pd.DataFrame, prediction_probabilities: pd.DataFrame, weights: pd.Series\n",
    ") -> float:\n",
    "    truth_labels = _to_labels(truth_probabilities)\n",
    "    prediction_labels = _to_labels(prediction_probabilities)\n",
    "    categories = truth_probabilities.columns\n",
    "\n",
    "    # This is easier to test\n",
    "    balanced_accuracy = _label_balanced_multiclass_accuracy(\n",
    "        truth_labels, prediction_labels, weights, categories\n",
    "    )\n",
    "    return balanced_accuracy\n",
    "\n",
    "\n",
    "def binary_accuracy(cm: pd.Series) -> float:\n",
    "    return (cm.at['TP'] + cm.at['TN']) / (cm.at['TP'] + cm.at['TN'] + cm.at['FP'] + cm.at['FN'])\n",
    "\n",
    "\n",
    "def binary_sensitivity(cm: pd.Series) -> float:\n",
    "    if cm.at['TP'] + cm.at['FN'] == 0:\n",
    "        # sensitivity can't be calculated if all are negative, so make this metric a freebie\n",
    "        return 1.0\n",
    "    else:\n",
    "        return cm.at['TP'] / (cm.at['TP'] + cm.at['FN'])\n",
    "\n",
    "\n",
    "def binary_specificity(cm: pd.Series) -> float:\n",
    "    if cm.at['TN'] + cm.at['FP'] == 0:\n",
    "        # specificity can't be calculated if all are positive, so make this metric a freebie\n",
    "        return 1.0\n",
    "    else:\n",
    "        return cm.at['TN'] / (cm.at['TN'] + cm.at['FP'])\n",
    "\n",
    "\n",
    "def binary_jaccard(cm: pd.Series) -> float:\n",
    "    if cm.at['TP'] + cm.at['FP'] + cm.at['FN'] == 0:\n",
    "        # Jaccard is ill-defined if all are negative and the prediction is perfect, but we'll\n",
    "        # just score that as a perfect answer\n",
    "        return 1.0\n",
    "    else:\n",
    "        return cm.at['TP'] / (cm.at['TP'] + cm.at['FP'] + cm.at['FN'])\n",
    "\n",
    "\n",
    "def binary_threshold_jaccard(cm: pd.Series, threshold: float = 0.65) -> float:\n",
    "    jaccard = binary_jaccard(cm)\n",
    "    return jaccard if jaccard >= threshold else 0.0\n",
    "\n",
    "\n",
    "def binary_dice(cm: pd.Series) -> float:\n",
    "    if cm.at['TP'] + cm.at['FP'] + cm.at['FN'] == 0:\n",
    "        # Dice is ill-defined if all are negative and the prediction is perfect, but we'll\n",
    "        # just score that as a perfect answer\n",
    "        return 1.0\n",
    "    else:\n",
    "        return (2 * cm.at['TP']) / ((2 * cm.at['TP']) + cm.at['FP'] + cm.at['FN'])\n",
    "\n",
    "\n",
    "def binary_ppv(cm: pd.Series) -> float:\n",
    "    if cm.at['TP'] + cm.at['FP'] == 0:\n",
    "        # PPV is ill-defined if all predictions are negative; we'll score it as perfect, which\n",
    "        # doesn't penalize the case where all are truly negative (a good predictor), and is sane\n",
    "        # for the case where some are truly positive (a limitation of this metric)\n",
    "        # Note, some other implementations would score the latter case as 0:\n",
    "        # https://github.com/dice-group/gerbil/wiki/Precision,-Recall-and-F1-measure\n",
    "        return 1.0\n",
    "    else:\n",
    "        return cm.at['TP'] / (cm.at['TP'] + cm.at['FP'])\n",
    "\n",
    "\n",
    "def binary_npv(cm: pd.Series) -> float:\n",
    "    if cm.at['TN'] + cm.at['FN'] == 0:\n",
    "        # NPV is ill-defined if all predictions are positive; we'll score it as perfect, which\n",
    "        # doesn't penalize the case where all are truly positive (a good predictor), and is sane\n",
    "        # for the case where some are truly negative (a limitation of this metric)\n",
    "        # Note, some other implementations would score the latter case as 0:\n",
    "        # https://github.com/dice-group/gerbil/wiki/Precision,-Recall-and-F1-measure\n",
    "        return 1.0\n",
    "    else:\n",
    "        return cm.at['TN'] / (cm.at['TN'] + cm.at['FN'])\n",
    "\n",
    "\n",
    "def auc(\n",
    "    truth_probabilities: pd.Series, prediction_probabilities: pd.Series, weights: pd.Series\n",
    ") -> float:\n",
    "    \n",
    "    auc = sklearn.metrics.roc_auc_score(\n",
    "        truth_probabilities, prediction_probabilities, sample_weight=weights\n",
    "    )\n",
    "    return auc\n",
    "\n",
    "\n",
    "def auc_above_sensitivity(\n",
    "    truth_probabilities: pd.Series,\n",
    "    prediction_probabilities: pd.Series,\n",
    "    weights: pd.Series,\n",
    "    sensitivity_threshold: float,\n",
    ") -> float:\n",
    "    if not (0 < sensitivity_threshold <= 1.0):\n",
    "        raise Exception(f'Out of bounds sensitivity_threshold: {sensitivity_threshold}.')\n",
    "\n",
    "    # Get the ROC curve points\n",
    "    # TODO: We must have both some true and false instances in truthProbabilities\n",
    "    fp_rates, tp_rates, thresholds = sklearn.metrics.roc_curve(\n",
    "        truth_probabilities,\n",
    "        prediction_probabilities,\n",
    "        sample_weight=weights,\n",
    "        drop_intermediate=False,\n",
    "    )\n",
    "\n",
    "    # Calling sklearn.metrics.roc_auc_score with max_fpr always applies the McClish correction,\n",
    "    # which is a transform to normalize partial AUC values into the range [0.5, 1] (for a given FPR\n",
    "    # interval): http://www.ncbi.nlm.nih.gov/pubmed/2668680\n",
    "    # McClish-normalized partial AUC values may be a helpful metric to evaluate on their own,\n",
    "    # but they are incompatible with the overall AUC, and SciKit learn (unlike R) does not\n",
    "    # provide a flag to return the raw partial AUC, so just compute the desired metric directly\n",
    "\n",
    "    # Search for the index along the curve where sensitivity_threshold (i.e. tp_rate threshold)\n",
    "    # occurs\n",
    "    # Since tp_rates is ordered, searchsorted provides better performance than np.argmax\n",
    "    # Use side='left' to include any following points with exactly the target value\n",
    "    threshold_index = tp_rates.searchsorted(sensitivity_threshold, side='left')\n",
    "\n",
    "    # Take only the segment >= the value at threshold_index\n",
    "    tp_rates_segment = tp_rates[threshold_index:]\n",
    "    fp_rates_segment = fp_rates[threshold_index:]\n",
    "\n",
    "    # Create an additional ROC point at exactly the threshold value\n",
    "    tp_rate_threshold = sensitivity_threshold\n",
    "    # It will be the case that fp_rate_threshold <= tp_rates[threshold_index]\n",
    "    # Since tp_rates may have repeated values (which is disallowed by np.interp), use a 2-value\n",
    "    # segment directly around the threshold value\n",
    "    # If fp_rate_threshold < tp_rates[threshold_index], the 2-value segment needs to start from the\n",
    "    # location at threshold_index-1, so that it straddles fp_rate_threshold\n",
    "    # Even if fp_rate_threshold == tp_rates[threshold_index], a 2-value segment starting before\n",
    "    # threshold_index is guaranteed to have no duplicates, as threshold_index is the left\n",
    "    # side of any series of duplicates (since it was found with searchsorted(..., side='left'))\n",
    "    fp_rate_threshold = np.interp(\n",
    "        tp_rate_threshold,\n",
    "        tp_rates[threshold_index - 1 : threshold_index + 1],\n",
    "        fp_rates[threshold_index - 1 : threshold_index + 1],\n",
    "    )\n",
    "\n",
    "    # Prepend the point to the segment\n",
    "    tp_rates_segment = np.insert(tp_rates_segment, 0, tp_rate_threshold)\n",
    "    fp_rates_segment = np.insert(fp_rates_segment, 0, fp_rate_threshold)\n",
    "\n",
    "    partial_auc = sklearn.metrics.auc(fp_rates_segment, tp_rates_segment)\n",
    "    return partial_auc\n",
    "\n",
    "\n",
    "def average_precision(\n",
    "    truth_probabilities: pd.Series, prediction_probabilities: pd.Series, weights: pd.Series\n",
    ") -> float:\n",
    "    with warnings.catch_warnings():\n",
    "        # sklearn.metrics.average_precision_score sometimes causes warnings internally, but they\n",
    "        # appear to be harmless\n",
    "        warnings.filterwarnings(\n",
    "            'ignore', category=RuntimeWarning, message=r'^invalid value encountered in true_divide$'\n",
    "        )\n",
    "        ap = sklearn.metrics.average_precision_score(\n",
    "            truth_probabilities, prediction_probabilities, sample_weight=weights\n",
    "        )\n",
    "    return ap\n",
    "\n",
    "\n",
    "def roc(\n",
    "    truth_probabilities: pd.Series, prediction_probabilities: pd.Series, weights: pd.Series\n",
    ") -> pd.DataFrame:\n",
    "    fprs, tprs, thresholds = sklearn.metrics.roc_curve(\n",
    "        truth_probabilities, prediction_probabilities, sample_weight=weights\n",
    "    )\n",
    "\n",
    "    roc = pd.DataFrame({'fpr': fprs, 'tpr': tprs}, index=thresholds, columns=['fpr', 'tpr'])\n",
    "    return roc\n"
   ]
  },
  {
   "cell_type": "code",
   "execution_count": null,
   "metadata": {
    "colab": {},
    "colab_type": "code",
    "id": "9QUqbdUgYu_6",
    "scrolled": true
   },
   "outputs": [],
   "source": [
    "from typing import Optional, Tuple, Union\n",
    "import numpy as np \n",
    "def create_binary_confusion_matrix(\n",
    "    truth_binary_values: np.ndarray,\n",
    "    prediction_binary_values: np.ndarray,\n",
    "    weights: Optional[np.ndarray] = None,\n",
    "    name: Optional[Union[str, Tuple[str, ...]]] = None,\n",
    ") -> pd.Series:\n",
    "    # This implementation is:\n",
    "    # ~30x faster than sklearn.metrics.confusion_matrix\n",
    "    # ~25x faster than sklearn.metrics.confusion_matrix(labels=[False, True])\n",
    "    # ~6x faster than pandas.crosstab\n",
    "    truth_binary_values = truth_binary_values.ravel()\n",
    "    prediction_binary_values = prediction_binary_values.ravel()\n",
    "    if weights is not None:\n",
    "        weights = weights.ravel()\n",
    "\n",
    "    truth_binary_negative_values = 1 - truth_binary_values\n",
    "    test_binary_negative_values = 1 - prediction_binary_values\n",
    "\n",
    "    true_positives = np.logical_and(truth_binary_values, prediction_binary_values)\n",
    "    true_negatives = np.logical_and(truth_binary_negative_values, test_binary_negative_values)\n",
    "    false_positives = np.logical_and(truth_binary_negative_values, prediction_binary_values)\n",
    "    false_negatives = np.logical_and(truth_binary_values, test_binary_negative_values)\n",
    "\n",
    "    if weights is not None:\n",
    "        true_positives = true_positives * weights\n",
    "        true_negatives = true_negatives * weights\n",
    "        false_positives = false_positives * weights\n",
    "        false_negatives = false_negatives * weights\n",
    "\n",
    "    true_positive = np.sum(true_positives)\n",
    "    true_negative = np.sum(true_negatives)\n",
    "    false_positive = np.sum(false_positives)\n",
    "    false_negative = np.sum(false_negatives)\n",
    "\n",
    "    # Storing the matrix as a Series instead of a DataFrame makes it easier to reference elements\n",
    "    # and aggregate multiple matrices\n",
    "    cm = pd.Series(\n",
    "        {'TP': true_positive, 'TN': true_negative, 'FP': false_positive, 'FN': false_negative},\n",
    "        name=name,\n",
    "    )\n",
    "\n",
    "    return cm\n",
    "\n",
    "\n",
    "def normalize_confusion_matrix(cm: pd.Series) -> pd.Series:\n",
    "    return cm / cm.sum()\n"
   ]
  },
  {
   "cell_type": "code",
   "execution_count": null,
   "metadata": {
    "colab": {},
    "colab_type": "code",
    "id": "qoZPsEetZM9E",
    "scrolled": true
   },
   "outputs": [],
   "source": [
    "from dataclasses import dataclass\n",
    "from typing import Dict, Union\n",
    "\n",
    "\n",
    "class ScoreException(Exception):\n",
    "    pass\n",
    "\n",
    "\n",
    "SeriesDict = Dict[str, float]\n",
    "DataFrameDict = Dict[str, SeriesDict]\n",
    "ScoreDict = Dict[str, Union[float, SeriesDict, DataFrameDict, Dict[str, DataFrameDict]]]\n",
    "\n",
    "\n",
    "@dataclass\n",
    "class Score:\n",
    "    overall: float\n",
    "    validation: float\n",
    "\n",
    "    def to_string(self) -> str:\n",
    "        output = f'Overall: {self.overall}\\n'\n",
    "        output += f'Validation: {self.validation}'\n",
    "        return output\n",
    "\n",
    "    def to_dict(self) -> ScoreDict:\n",
    "        return {'overall': self.overall, 'validation': self.validation}\n"
   ]
  },
  {
   "cell_type": "code",
   "execution_count": null,
   "metadata": {
    "colab": {},
    "colab_type": "code",
    "id": "clrbE5LdZH5z",
    "scrolled": true
   },
   "outputs": [],
   "source": [
    "from typing import TextIO, Tuple\n",
    "\n",
    "import numpy as np\n",
    "import pandas as pd\n",
    "\n",
    "\n",
    "\n",
    "def parse_truth_csv(csv_file_stream: TextIO) -> Tuple[pd.DataFrame, pd.DataFrame]:\n",
    "    table = pd.read_csv(csv_file_stream, header=0)\n",
    "\n",
    "    table.set_index('image', drop=True, inplace=True, verify_integrity=False)\n",
    "\n",
    "    # Support legacy truth files\n",
    "    if 'score_weight' not in table.columns:\n",
    "        table['score_weight'] = 1.0\n",
    "    if 'validation_weight' not in table.columns:\n",
    "        table['validation_weight'] = 1.0\n",
    "    if 'ISIC_0035068' in table.index:\n",
    "        # TODO: Move this to ground truth\n",
    "        table.loc['ISIC_0035068', ['score_weight', 'validation_weight']] = 0.0\n",
    "\n",
    "    probabilities = table.drop(columns=['score_weight', 'validation_weight'])\n",
    "    weights = table[['score_weight', 'validation_weight']]\n",
    "\n",
    "    return probabilities, weights\n",
    "\n",
    "\n",
    "def parse_csv(csv_file_stream: TextIO, categories: pd.Index) -> pd.DataFrame:\n",
    "    try:\n",
    "        if csv_file_stream.read(2000).count('\\n') < 2:\n",
    "            # Heuristic: if there aren't 2 newlines in the first 2000 characters, it's probably\n",
    "            # invalid, and we don't want to hang or crash the parser\n",
    "            raise ScoreException('No newlines detected in CSV.')\n",
    "        csv_file_stream.seek(0)\n",
    "\n",
    "        try:\n",
    "            probabilities = pd.read_csv(csv_file_stream, header=0, index_col=False)\n",
    "        except (pd.errors.ParserError, pd.errors.EmptyDataError) as e:\n",
    "            # TODO: Test something that generates a ParserError\n",
    "            raise ScoreException(f'Could not parse CSV: \"{str(e)}\".')\n",
    "        except IndexError:\n",
    "            raise ScoreException('Could not parse CSV: inconsistent number of header columns.')\n",
    "    except UnicodeDecodeError:\n",
    "        raise ScoreException('Could not parse CSV: could not decode file as UTF-8.')\n",
    "\n",
    "    if 'image' not in probabilities.columns:\n",
    "        raise ScoreException('Missing column in CSV: \"image\".')\n",
    "\n",
    "    # Pandas represents strings as 'O' (object)\n",
    "    if probabilities['image'].dtype != np.dtype('O'):\n",
    "        # Coercing to 'U' (unicode) ensures that even NaN values are converted;\n",
    "        # however, the resulting type is still 'O'\n",
    "        probabilities['image'] = probabilities['image'].astype(np.dtype('U'))\n",
    "\n",
    "#     probabilities['image'] = probabilities['image'].str.replace(r'\\.jpg$', '', case=False)\n",
    "\n",
    "    if not probabilities['image'].is_unique:\n",
    "        duplicate_images = probabilities['image'][probabilities['image'].duplicated()].unique()\n",
    "        raise ScoreException(f'Duplicate image rows detected in CSV: {duplicate_images.tolist()}.')\n",
    "\n",
    "    # The duplicate check is the same as performed by 'verify_integrity'\n",
    "    probabilities.set_index('image', drop=True, inplace=True, verify_integrity=False)\n",
    "\n",
    "    missing_columns = categories.difference(probabilities.columns)\n",
    "    if not missing_columns.empty:\n",
    "        raise ScoreException(f'Missing columns in CSV: {missing_columns.tolist()}.')\n",
    "\n",
    "    extra_columns = probabilities.columns.difference(categories)\n",
    "    if not extra_columns.empty:\n",
    "        raise ScoreException(f'Extra columns in CSV: {extra_columns.tolist()}.')\n",
    "\n",
    "    # sort by the order in categories\n",
    "    probabilities = probabilities.reindex(categories, axis='columns')\n",
    "\n",
    "    missing_rows = probabilities[probabilities.isnull().any(axis='columns')].index\n",
    "    if not missing_rows.empty:\n",
    "        raise ScoreException(f'Missing value(s) in CSV for images: {missing_rows.tolist()}.')\n",
    "\n",
    "    non_float_columns = probabilities.dtypes[\n",
    "        probabilities.dtypes.apply(lambda x: x != np.float64)\n",
    "    ].index\n",
    "    if not non_float_columns.empty:\n",
    "        raise ScoreException(\n",
    "            f'CSV contains non-floating-point value(s) in columns: {non_float_columns.tolist()}.'\n",
    "        )\n",
    "    # TODO: identify specific failed rows\n",
    "\n",
    "    out_of_range_rows = probabilities[\n",
    "        probabilities.applymap(lambda x: x < 0.0 or x > 1.0).any(axis='columns')\n",
    "    ].index\n",
    "    if not out_of_range_rows.empty:\n",
    "        raise ScoreException(\n",
    "            f'Values in CSV are outside the interval [0.0, 1.0] for images: '\n",
    "            f'{out_of_range_rows.tolist()}.'\n",
    "        )\n",
    "\n",
    "    # TODO: fail on extra columns in data rows\n",
    "\n",
    "    return probabilities\n",
    "\n",
    "\n",
    "def validate_rows(\n",
    "    truth_probabilities: pd.DataFrame, prediction_probabilities: pd.DataFrame\n",
    ") -> None:\n",
    "    \"\"\"\n",
    "    Ensure prediction rows correspond to truth rows.\n",
    "\n",
    "    Fail when predictionProbabilities is missing rows or has extra rows compared to\n",
    "    truthProbabilities.\n",
    "    \"\"\"\n",
    "#     print(prediction_probabilities.index)\n",
    "#     print(truth_probabilities.index) \n",
    "\n",
    "#     return\n",
    "    missing_images = truth_probabilities.index.difference(prediction_probabilities.index)\n",
    "    if not missing_images.empty:\n",
    "        raise ScoreException(f'Missing images in CSV: {missing_images.tolist()}.')\n",
    "\n",
    "        \n",
    "    extra_images = prediction_probabilities.index.difference(truth_probabilities.index)\n",
    "    if not extra_images.empty:\n",
    "        raise ScoreException(f'Extra images in CSV: {len(extra_images.tolist())}.')\n",
    "\n",
    "\n",
    "def sort_rows(probabilities: pd.DataFrame) -> None:\n",
    "    \"\"\"Sort rows by labels, in-place.\"\"\"\n",
    "    probabilities.sort_index(axis='rows', inplace=True)\n"
   ]
  },
  {
   "cell_type": "code",
   "execution_count": null,
   "metadata": {
    "colab": {},
    "colab_type": "code",
    "id": "ibuRZ6v6YO7M",
    "scrolled": true
   },
   "outputs": [],
   "source": [
    "from dataclasses import dataclass\n",
    "import pathlib\n",
    "\n",
    "import pandas as pd\n",
    "\n",
    "\n",
    "@dataclass(init=False)\n",
    "class ClassificationScore(Score):\n",
    "    per_category: pd.DataFrame\n",
    "    macro_average: pd.Series\n",
    "    rocs: Dict[str, pd.DataFrame]\n",
    "    aggregate: pd.Series\n",
    "\n",
    "    def __init__(\n",
    "        self,\n",
    "        truth_probabilities: pd.DataFrame,\n",
    "        prediction_probabilities: pd.DataFrame,\n",
    "        truth_weights: pd.DataFrame,\n",
    "    ) -> None:\n",
    "        categories = truth_probabilities.columns\n",
    "\n",
    "        self.per_category = pd.DataFrame(\n",
    "            [\n",
    "                self._category_score(\n",
    "                    truth_probabilities[category],\n",
    "                    prediction_probabilities[category],\n",
    "                    truth_weights,\n",
    "                    category,\n",
    "                )\n",
    "                for category in categories\n",
    "            ]\n",
    "        )\n",
    "        self.macro_average = self.per_category.mean(axis='index').rename(\n",
    "            'macro_average', inplace=True\n",
    "        )\n",
    "        self.rocs = {\n",
    "            category: roc(\n",
    "                truth_probabilities[category],\n",
    "                prediction_probabilities[category],\n",
    "                truth_weights.score_weight,\n",
    "            )\n",
    "            for category in categories\n",
    "        }\n",
    "        # Multi-category aggregate metrics\n",
    "        self.aggregate = pd.Series(\n",
    "            {\n",
    "                'balanced_accuracy': balanced_multiclass_accuracy(\n",
    "                    truth_probabilities, prediction_probabilities, truth_weights.score_weight\n",
    "                )\n",
    "            },\n",
    "            index=['balanced_accuracy'],\n",
    "            name='aggregate',\n",
    "        )\n",
    "\n",
    "        self.overall = self.aggregate.at['balanced_accuracy']\n",
    "        self.validation = balanced_multiclass_accuracy(\n",
    "            truth_probabilities, prediction_probabilities, truth_weights.validation_weight\n",
    "        )\n",
    "\n",
    "    @staticmethod\n",
    "    def _category_score(\n",
    "        truth_category_probabilities: pd.Series,\n",
    "        prediction_category_probabilities: pd.Series,\n",
    "        truth_weights: pd.DataFrame,\n",
    "        category: str,\n",
    "    ) -> pd.Series:\n",
    "        truth_binary_values: pd.Series = truth_category_probabilities.gt(0.5)\n",
    "        prediction_binary_values: pd.Series = prediction_category_probabilities.gt(0.5)\n",
    "\n",
    "        category_cm = create_binary_confusion_matrix(\n",
    "            truth_binary_values=truth_binary_values.to_numpy(),\n",
    "            prediction_binary_values=prediction_binary_values.to_numpy(),\n",
    "            weights=truth_weights.score_weight.to_numpy(),\n",
    "            name=category,\n",
    "        )\n",
    "\n",
    "        return pd.Series(\n",
    "            {\n",
    "                'accuracy': binary_accuracy(category_cm),\n",
    "                'sensitivity': binary_sensitivity(category_cm),\n",
    "                'specificity': binary_specificity(category_cm),\n",
    "                'dice': binary_dice(category_cm),\n",
    "                'ppv': binary_ppv(category_cm),\n",
    "                'npv': binary_npv(category_cm),\n",
    "                'auc': auc(\n",
    "                    truth_category_probabilities,\n",
    "                    prediction_category_probabilities,\n",
    "                    truth_weights.score_weight,\n",
    "                ),\n",
    "                'auc_sens_80': auc_above_sensitivity(\n",
    "                    truth_category_probabilities,\n",
    "                    prediction_category_probabilities,\n",
    "                    truth_weights.score_weight,\n",
    "                    0.80,\n",
    "                ),\n",
    "                'ap': average_precision(\n",
    "                    truth_category_probabilities,\n",
    "                    prediction_category_probabilities,\n",
    "                    truth_weights.score_weight,\n",
    "                ),\n",
    "            },\n",
    "            index=[\n",
    "                'accuracy',\n",
    "                'sensitivity',\n",
    "                'specificity',\n",
    "                'dice',\n",
    "                'ppv',\n",
    "                'npv',\n",
    "                'auc',\n",
    "                'auc_sens_80',\n",
    "                'ap',\n",
    "            ],\n",
    "            name=category,\n",
    "        )\n",
    "\n",
    "    def to_string(self) -> str:\n",
    "        output = super().to_string()\n",
    "        output += '\\n\\nPer-category metrics:\\n'\n",
    "        output += self.per_category.to_string()\n",
    "        output += '\\n\\nMacro averaged metrics:\\n'\n",
    "        output += self.macro_average.to_string()\n",
    "        output += '\\n\\nAggregate metrics:\\n'\n",
    "        output += self.aggregate.to_string()\n",
    "        return output\n",
    "\n",
    "    def to_dict(self, rocs: bool = True) -> ScoreDict:\n",
    "        output = super().to_dict()\n",
    "        output.update(\n",
    "            {\n",
    "                'per_category': cast(DataFrameDict, self.per_category.to_dict()),\n",
    "                'macro_average': cast(SeriesDict, self.macro_average.to_dict()),\n",
    "                'aggregate': cast(SeriesDict, self.aggregate.to_dict()),\n",
    "            }\n",
    "        )\n",
    "        if rocs:\n",
    "            output['rocs'] = {\n",
    "                # TODO: float keys cannot serialize to JSON\n",
    "                category: cast(DataFrameDict, roc.to_dict(orient='index'))\n",
    "                for category, roc in self.rocs.items()\n",
    "            }\n",
    "        return output\n",
    "\n",
    "    @classmethod\n",
    "    def from_stream(\n",
    "        cls, truth_file_stream: TextIO, prediction_file_stream: TextIO\n",
    "    ):\n",
    "        truth_probabilities, truth_weights = parse_truth_csv(truth_file_stream)\n",
    "        categories = truth_probabilities.columns\n",
    "        prediction_probabilities = parse_csv(prediction_file_stream, categories)\n",
    "\n",
    "        validate_rows(truth_probabilities, prediction_probabilities)\n",
    "\n",
    "        sort_rows(truth_probabilities)\n",
    "        sort_rows(prediction_probabilities)\n",
    "\n",
    "        score = cls(truth_probabilities, prediction_probabilities, truth_weights)\n",
    "        return score\n",
    "\n",
    "    @classmethod\n",
    "    def from_file(\n",
    "        cls, truth_file: pathlib.Path, prediction_file: pathlib.Path\n",
    "    ):\n",
    "        with truth_file.open('r') as truth_file_stream, prediction_file.open(\n",
    "            'r'\n",
    "        ) as prediction_file_stream:\n",
    "            return cls.from_stream(\n",
    "                cast(TextIO, truth_file_stream), cast(TextIO, prediction_file_stream)\n",
    "            )\n"
   ]
  },
  {
   "cell_type": "code",
   "execution_count": null,
   "metadata": {
    "colab": {},
    "colab_type": "code",
    "id": "3tQp50tiYI26",
    "scrolled": true
   },
   "outputs": [],
   "source": [
    "import sklearn.metrics\n",
    "from typing import cast\n",
    "\n",
    "score = ClassificationScore.from_file(true_labels_csv_path, predictions_csv_path)\n",
    "print(score.to_string())\n"
   ]
  },
  {
   "cell_type": "code",
   "execution_count": null,
   "metadata": {
    "colab": {},
    "colab_type": "code",
    "id": "DHm8rOZ4-j08",
    "scrolled": true
   },
   "outputs": [],
   "source": []
  },
  {
   "cell_type": "code",
   "execution_count": null,
   "metadata": {
    "colab": {},
    "colab_type": "code",
    "id": "wIGf5YWS-j09",
    "scrolled": true
   },
   "outputs": [],
   "source": []
  }
 ],
 "metadata": {
  "accelerator": "GPU",
  "colab": {
   "collapsed_sections": [
    "VhHM-ttABzag",
    "Rdnn_jXRfMeR",
    "iNg_fj0m-2i0"
   ],
   "name": "Tesis.ipynb",
   "provenance": [],
   "toc_visible": true
  },
  "kernelspec": {
   "display_name": "Python 3",
   "language": "python",
   "name": "python3"
  },
  "language_info": {
   "codemirror_mode": {
    "name": "ipython",
    "version": 3
   },
   "file_extension": ".py",
   "mimetype": "text/x-python",
   "name": "python",
   "nbconvert_exporter": "python",
   "pygments_lexer": "ipython3",
   "version": "3.7.4"
  }
 },
 "nbformat": 4,
 "nbformat_minor": 1
}
